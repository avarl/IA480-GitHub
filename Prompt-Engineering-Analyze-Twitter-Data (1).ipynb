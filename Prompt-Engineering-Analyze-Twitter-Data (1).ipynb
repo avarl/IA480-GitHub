{
 "cells": [
  {
   "cell_type": "markdown",
   "id": "119a978c-794a-42a7-8926-cda6871c8613",
   "metadata": {},
   "source": [
    "# Prompt Engineering: Use OpenAI to Analyze Twitter Data \n",
    "This is a simple tutorial teaching prompt engineering basics and analyzing Twitter data with OpenAI large language models (LLM).\n",
    "Please purchase an [OpenAI API](https://openai.com/index/openai-api/) and store it in a safe place. This tutorial uses [AWS Secretes Manager](https://aws.amazon.com/secrets-manager/) to store the API keys.  "
   ]
  },
  {
   "cell_type": "markdown",
   "id": "15700978-787e-407e-a940-c977a71b3044",
   "metadata": {},
   "source": [
    "## Large Language Model Basics\n",
    "LLM repeatable predicts the next world using supervised learning. To predict the following sentence: \n",
    "\n",
    "`Learning data science in the cloud with AI`\n",
    "\n",
    "A model needs to learn to predict the following steps:\n",
    "\n",
    "|Input|Output|\n",
    "|:---|---|\n",
    "|Learning data science |in |\n",
    "|Learning data science in |the | \n",
    "|Learning data science in the |cloud |\n",
    "|Learning data science in the cloud |with |\n",
    "|Learning data science in the cloud with |AI|\n",
    "\n",
    "To train an LLM model:\n",
    "1. Training a base LLM model on a large amount of training data to predict the next word \n",
    "2. Fine-tune on examples where outputs follow instructions in the input \n",
    "3. Human rates quality of different LLM outputs \n",
    "4. Tune LLM to generate outputs with higher rates using RLHF (Reinforcement learning from human feedback)"
   ]
  },
  {
   "cell_type": "markdown",
   "id": "f7726290-4f69-4f9f-94d4-18b9c8f26f14",
   "metadata": {},
   "source": [
    "## Set up OpenAI Models"
   ]
  },
  {
   "cell_type": "markdown",
   "id": "b9019645-db86-4235-93e7-cbd52e770afc",
   "metadata": {},
   "source": [
    "Load the API keys with AWS Secrets Manage Function "
   ]
  },
  {
   "cell_type": "code",
   "execution_count": 1,
   "id": "845f6d31-1f82-47e5-9fa4-de3da8aa068a",
   "metadata": {
    "tags": []
   },
   "outputs": [],
   "source": [
    "import boto3\n",
    "from botocore.exceptions import ClientError\n",
    "import json\n",
    "\n",
    "def get_secret(secret_name):\n",
    "    region_name = \"us-east-1\"\n",
    "\n",
    "    # Create a Secrets Manager client\n",
    "    session = boto3.session.Session()\n",
    "    client = session.client(\n",
    "        service_name='secretsmanager',\n",
    "        region_name=region_name\n",
    "    )\n",
    "\n",
    "    try:\n",
    "        get_secret_value_response = client.get_secret_value(\n",
    "            SecretId=secret_name\n",
    "        )\n",
    "    except ClientError as e:\n",
    "        raise e\n",
    "\n",
    "    secret = get_secret_value_response['SecretString']\n",
    "    \n",
    "    return json.loads(secret)"
   ]
  },
  {
   "cell_type": "markdown",
   "id": "92790e72-aea1-4acc-b98d-a6782550777c",
   "metadata": {},
   "source": [
    "## Install Python libraries.\n",
    "\n",
    "- pymongo: manage the MongoDB database\n",
    "- openai: call the OpenAI APIs."
   ]
  },
  {
   "cell_type": "code",
   "execution_count": 2,
   "id": "75d4f923-3b7c-4bd2-945a-1fbda250e8df",
   "metadata": {
    "scrolled": true,
    "tags": []
   },
   "outputs": [
    {
     "name": "stdout",
     "output_type": "stream",
     "text": [
      "Collecting openai\n",
      "  Downloading openai-1.70.0-py3-none-any.whl.metadata (25 kB)\n",
      "Requirement already satisfied: anyio<5,>=3.5.0 in /home/ec2-user/anaconda3/envs/python3/lib/python3.10/site-packages (from openai) (4.8.0)\n",
      "Collecting distro<2,>=1.7.0 (from openai)\n",
      "  Downloading distro-1.9.0-py3-none-any.whl.metadata (6.8 kB)\n",
      "Requirement already satisfied: httpx<1,>=0.23.0 in /home/ec2-user/anaconda3/envs/python3/lib/python3.10/site-packages (from openai) (0.28.1)\n",
      "Collecting jiter<1,>=0.4.0 (from openai)\n",
      "  Downloading jiter-0.9.0-cp310-cp310-manylinux_2_17_x86_64.manylinux2014_x86_64.whl.metadata (5.2 kB)\n",
      "Requirement already satisfied: pydantic<3,>=1.9.0 in /home/ec2-user/anaconda3/envs/python3/lib/python3.10/site-packages (from openai) (2.10.6)\n",
      "Requirement already satisfied: sniffio in /home/ec2-user/anaconda3/envs/python3/lib/python3.10/site-packages (from openai) (1.3.1)\n",
      "Requirement already satisfied: tqdm>4 in /home/ec2-user/anaconda3/envs/python3/lib/python3.10/site-packages (from openai) (4.67.1)\n",
      "Requirement already satisfied: typing-extensions<5,>=4.11 in /home/ec2-user/anaconda3/envs/python3/lib/python3.10/site-packages (from openai) (4.12.2)\n",
      "Requirement already satisfied: exceptiongroup>=1.0.2 in /home/ec2-user/anaconda3/envs/python3/lib/python3.10/site-packages (from anyio<5,>=3.5.0->openai) (1.2.2)\n",
      "Requirement already satisfied: idna>=2.8 in /home/ec2-user/anaconda3/envs/python3/lib/python3.10/site-packages (from anyio<5,>=3.5.0->openai) (3.10)\n",
      "Requirement already satisfied: certifi in /home/ec2-user/anaconda3/envs/python3/lib/python3.10/site-packages (from httpx<1,>=0.23.0->openai) (2025.1.31)\n",
      "Requirement already satisfied: httpcore==1.* in /home/ec2-user/anaconda3/envs/python3/lib/python3.10/site-packages (from httpx<1,>=0.23.0->openai) (1.0.7)\n",
      "Requirement already satisfied: h11<0.15,>=0.13 in /home/ec2-user/anaconda3/envs/python3/lib/python3.10/site-packages (from httpcore==1.*->httpx<1,>=0.23.0->openai) (0.14.0)\n",
      "Requirement already satisfied: annotated-types>=0.6.0 in /home/ec2-user/anaconda3/envs/python3/lib/python3.10/site-packages (from pydantic<3,>=1.9.0->openai) (0.7.0)\n",
      "Requirement already satisfied: pydantic-core==2.27.2 in /home/ec2-user/anaconda3/envs/python3/lib/python3.10/site-packages (from pydantic<3,>=1.9.0->openai) (2.27.2)\n",
      "Downloading openai-1.70.0-py3-none-any.whl (599 kB)\n",
      "\u001b[2K   \u001b[90m━━━━━━━━━━━━━━━━━━━━━━━━━━━━━━━━━━━━━━━━\u001b[0m \u001b[32m599.1/599.1 kB\u001b[0m \u001b[31m28.9 MB/s\u001b[0m eta \u001b[36m0:00:00\u001b[0m\n",
      "\u001b[?25hDownloading distro-1.9.0-py3-none-any.whl (20 kB)\n",
      "Downloading jiter-0.9.0-cp310-cp310-manylinux_2_17_x86_64.manylinux2014_x86_64.whl (352 kB)\n",
      "Installing collected packages: jiter, distro, openai\n",
      "Successfully installed distro-1.9.0 jiter-0.9.0 openai-1.70.0\n",
      "Note: you may need to restart the kernel to use updated packages.\n"
     ]
    }
   ],
   "source": [
    "pip install openai"
   ]
  },
  {
   "cell_type": "code",
   "execution_count": 3,
   "id": "3e1ab01b-f2f1-4c10-8936-7dca341af6af",
   "metadata": {
    "tags": []
   },
   "outputs": [
    {
     "name": "stdout",
     "output_type": "stream",
     "text": [
      "Collecting pymongo\n",
      "  Downloading pymongo-4.11.3-cp310-cp310-manylinux_2_17_x86_64.manylinux2014_x86_64.whl.metadata (22 kB)\n",
      "Collecting dnspython<3.0.0,>=1.16.0 (from pymongo)\n",
      "  Downloading dnspython-2.7.0-py3-none-any.whl.metadata (5.8 kB)\n",
      "Downloading pymongo-4.11.3-cp310-cp310-manylinux_2_17_x86_64.manylinux2014_x86_64.whl (1.2 MB)\n",
      "\u001b[2K   \u001b[90m━━━━━━━━━━━━━━━━━━━━━━━━━━━━━━━━━━━━━━━━\u001b[0m \u001b[32m1.2/1.2 MB\u001b[0m \u001b[31m42.6 MB/s\u001b[0m eta \u001b[36m0:00:00\u001b[0m\n",
      "\u001b[?25hDownloading dnspython-2.7.0-py3-none-any.whl (313 kB)\n",
      "Installing collected packages: dnspython, pymongo\n",
      "Successfully installed dnspython-2.7.0 pymongo-4.11.3\n",
      "Note: you may need to restart the kernel to use updated packages.\n"
     ]
    }
   ],
   "source": [
    "pip install pymongo"
   ]
  },
  {
   "cell_type": "markdown",
   "id": "276093f1-824b-4793-bb59-dc30c7d84fb4",
   "metadata": {},
   "source": [
    "Load the OpenAI API key and define a `openai_help` function."
   ]
  },
  {
   "cell_type": "code",
   "execution_count": 2,
   "id": "b126647a-fbda-42c3-bebb-d689802c6665",
   "metadata": {
    "tags": []
   },
   "outputs": [],
   "source": [
    "from openai import OpenAI\n",
    "\n",
    "openai_api_key  = get_secret('openai')['api_key']\n",
    "client = OpenAI(api_key=openai_api_key)\n",
    "model = 'gpt-4o'\n",
    "temperature = 0\n",
    "\n",
    "def openai_help(messages, model=model, temperature =temperature ):\n",
    "    messages = messages\n",
    "    response = client.chat.completions.create(\n",
    "        model=model,\n",
    "        messages=messages,\n",
    "        temperature=temperature\n",
    "\n",
    "    )\n",
    "    return response.choices[0].message.content"
   ]
  },
  {
   "cell_type": "markdown",
   "id": "ff7bc14c-2609-4c3e-aa5d-762cd3d06ac0",
   "metadata": {},
   "source": [
    "Temperature: \n",
    "- Low temperature: always choose the most likely response, reliable, predictable responses  \n",
    "- High temperature: diverse responses, more creative responses\n",
    "\n",
    "Tokens and Models: \n",
    "- LLM predicts tokens, which are commonly occurring sequences of characters. \n",
    "- One token is about four characters in English, and 100 tokens are roughly 75 words. Check [token estimate](https://platform.openai.com/tokenizer).\n",
    "- Different models can process various amounts of tokens at different performance levels and costs. Check [OpenAI models](https://platform.openai.com/docs/models) for more details.\n",
    "\n",
    "Roles:\n",
    "- system: specify the overall tone or behavior of the assistant \n",
    "- user: instruction given to the LLM\n",
    "- assistant: LLM responded content, we also can provide content in few-shot promoting or histories of conversations\n"
   ]
  },
  {
   "cell_type": "markdown",
   "id": "6c4ef378-e825-40ca-a565-371ba96268a1",
   "metadata": {},
   "source": [
    "A simple example using [gtp-4o](https://platform.openai.com/docs/models/gpt-4o) and temperature 0."
   ]
  },
  {
   "cell_type": "code",
   "execution_count": 3,
   "id": "04b746d9-f11f-4f46-96f5-64dd40f6dc36",
   "metadata": {
    "tags": []
   },
   "outputs": [
    {
     "name": "stdout",
     "output_type": "stream",
     "text": [
      "The capital of the United States is Washington, D.C.\n"
     ]
    }
   ],
   "source": [
    "messages = [{\"role\": \"user\", \"content\": \"What is the capital of USA\"}]\n",
    "\n",
    "print(openai_help(messages))"
   ]
  },
  {
   "cell_type": "markdown",
   "id": "edfcbc19-1ea0-456a-ba84-8f76ef87ba30",
   "metadata": {},
   "source": [
    "Add a system message asking LLM to act as a high school teacher with different temperatures."
   ]
  },
  {
   "cell_type": "code",
   "execution_count": 4,
   "id": "7608f8d0-fefb-41a7-8713-1287b3cd7047",
   "metadata": {
    "tags": []
   },
   "outputs": [
    {
     "name": "stdout",
     "output_type": "stream",
     "text": [
      "The capital of the United States is Washington, D.C. Remember, it's not located in any state; it's a separate federal district. If you have any more questions about geography, feel free to ask!\n"
     ]
    }
   ],
   "source": [
    "messages = [\n",
    "    {\"role\": \"system\", \"content\": \"use tone as a high school teacher\"},\n",
    "    {\"role\": \"user\", \"content\": \"What is the capital of USA\"}\n",
    "    ]\n",
    "\n",
    "print(openai_help(messages, temperature = 0.8))"
   ]
  },
  {
   "cell_type": "markdown",
   "id": "1887fc65-5f97-4530-b81b-f158ea2af413",
   "metadata": {},
   "source": [
    "Add assistant messages to teach LLM what `##` is."
   ]
  },
  {
   "cell_type": "code",
   "execution_count": 7,
   "id": "5e37e101-f820-4ba7-969c-ce05b53aafe3",
   "metadata": {
    "tags": []
   },
   "outputs": [
    {
     "name": "stdout",
     "output_type": "stream",
     "text": [
      "It is 33.\n"
     ]
    }
   ],
   "source": [
    "messages = [\n",
    "    {\"role\": \"user\", \"content\": \"What is 1##1\"},\n",
    "    {\"role\": \"assistant\", \"content\": \"it is 11\"},\n",
    "    {\"role\": \"user\", \"content\": \"What is 2##2\"},\n",
    "    {\"role\": \"assistant\", \"content\": \"it is 22\"},\n",
    "    {\"role\": \"user\", \"content\": \"What is 3##3\"},\n",
    "    ]\n",
    "print(openai_help(messages))"
   ]
  },
  {
   "cell_type": "markdown",
   "id": "addef986-2e0c-4849-bc7a-48b102fbf2fe",
   "metadata": {},
   "source": [
    "## Prompt Engineering Principles \n",
    "- Use delimiters to separate different parts of a prompt to provide clear instructions and prevent prompt injections.\n",
    "- Structure outputs in JSON documents or other formats to use the outputs in subsequent steps \n",
    "- Few-shot promoting: provide successful examples of a task and then ask the model to perform a similar task. \n",
    "- Chain of thought reasoning: request a series of reasoning steps in prompts to help the model achieve correct answers\n",
    "- Chain of prompts: split a task into multiple prompts where each prompt can focus on a sub-task at a time and take different actions at different stages. It saves tokens, is easier to test, can involve human input, or use external tools.\n",
    "- Interactive process \n",
    "  1. Try something first \n",
    "  2. Analyses the result, identify errors, and redefine the prompt \n",
    "  3. Test the prompts with different datasets \n"
   ]
  },
  {
   "cell_type": "markdown",
   "id": "b972159e-3c51-4d95-8fd0-7e85bb572821",
   "metadata": {},
   "source": [
    "An example using delimiters, structured output and few-shot promoting:"
   ]
  },
  {
   "cell_type": "code",
   "execution_count": 13,
   "id": "da5d9da0-de00-4611-b448-71433d6700f5",
   "metadata": {
    "tags": []
   },
   "outputs": [
    {
     "name": "stdout",
     "output_type": "stream",
     "text": [
      "{ \"sentiment\": \"positive\" }\n"
     ]
    }
   ],
   "source": [
    "delimiter = '###'\n",
    "sentence1 = 'I love cat.'\n",
    "sentence2 = 'I love dog.'\n",
    "messages = [\n",
    "    {\"role\": \"system\", \"content\": f\"\"\"analyze the sentiment in a sentence delimitered by {delimiter},\n",
    "                                     return the result as a JSON document\"\"\"},\n",
    "    {\"role\": \"user\", \"content\": f\"{delimiter}{sentence1}{delimiter}\"},\n",
    "    {\"role\": \"assistant\", \"content\": \"{sentiment:positive}\"},\n",
    "    {\"role\": \"user\", \"content\": f\"{delimiter}{sentence2}{delimiter}\"}\n",
    "    ]\n",
    "\n",
    "print(openai_help(messages))"
   ]
  },
  {
   "cell_type": "markdown",
   "id": "28adfdc4-2bea-476d-9c0b-6ee8bff24436",
   "metadata": {},
   "source": [
    "## Analyze Twitter data"
   ]
  },
  {
   "cell_type": "markdown",
   "id": "f8bbef7a-54ba-4a6e-a5a5-a050cd887a70",
   "metadata": {},
   "source": [
    "### Connect to the MongoDB cluster"
   ]
  },
  {
   "cell_type": "code",
   "execution_count": 5,
   "id": "05ac135f-43ea-4499-9aac-224324b9e727",
   "metadata": {
    "tags": []
   },
   "outputs": [
    {
     "data": {
      "text/plain": [
       "'tweet.id_1'"
      ]
     },
     "execution_count": 5,
     "metadata": {},
     "output_type": "execute_result"
    }
   ],
   "source": [
    "import pymongo\n",
    "from pymongo import MongoClient\n",
    "mongodb_connect = get_secret('mongodb')['connection_string']\n",
    "\n",
    "mongo_client = MongoClient(mongodb_connect)\n",
    "db = mongo_client.demo # use or create a database named demo\n",
    "tweet_collection = db.tweet_collection #use or create a collection named tweet_collection\n",
    "tweet_collection.create_index([(\"tweet.id\", pymongo.ASCENDING)],unique = True) # make sure the collected tweets are unique"
   ]
  },
  {
   "cell_type": "markdown",
   "id": "dcdcfa9f-34a3-4902-b3ac-52b56cfb890d",
   "metadata": {},
   "source": [
    "### Extract Tweets"
   ]
  },
  {
   "cell_type": "code",
   "execution_count": 6,
   "id": "eeb2d39e-603b-4d41-9a23-b4db8dcdad2f",
   "metadata": {
    "tags": []
   },
   "outputs": [],
   "source": [
    "filter={\n",
    "\n",
    "    \n",
    "}\n",
    "project={\n",
    "    'tweet.text': 1, \n",
    "    'tweet.id': 1\n",
    "}\n",
    "#rename the client to mongo_client\n",
    "result = mongo_client['demo']['tweet_collection'].find(\n",
    "  filter=filter,\n",
    "  projection=project\n",
    ")"
   ]
  },
  {
   "cell_type": "code",
   "execution_count": 7,
   "id": "5d4082df-a6f5-4427-b059-90995c1b5571",
   "metadata": {
    "tags": []
   },
   "outputs": [],
   "source": [
    "tweet_data = []\n",
    "for tweet in result:\n",
    "    tweet_data.append(tweet['tweet']['text'])"
   ]
  },
  {
   "cell_type": "code",
   "execution_count": 8,
   "id": "c7a0713c-4ebb-4cc0-b3e5-e307f9b40a94",
   "metadata": {
    "tags": []
   },
   "outputs": [
    {
     "name": "stdout",
     "output_type": "stream",
     "text": [
      "Number of tweets:  298\n"
     ]
    }
   ],
   "source": [
    "print('Number of tweets: ',len(tweet_data))"
   ]
  },
  {
   "cell_type": "markdown",
   "id": "61d566a4-aafc-4592-ab05-33af9f88e220",
   "metadata": {
    "tags": []
   },
   "source": [
    "### Summarization \n",
    "- Analyze election tweets with delimiters \n",
    "- Change the size of the summarization \n",
    "- Summarize tweets and focus on different perspectives. "
   ]
  },
  {
   "cell_type": "code",
   "execution_count": 14,
   "id": "d548343d-ce9b-4960-88c2-d9586631a6ba",
   "metadata": {
    "tags": []
   },
   "outputs": [
    {
     "name": "stdout",
     "output_type": "stream",
     "text": [
      "It seems there are no tweets provided between the delimiters. Could you please provide the tweets you would like summarized?\n"
     ]
    }
   ],
   "source": [
    "messages = [\n",
    "    {\"role\": \"system\", \"content\": f\"\"\"provide a brief summary of the tweets delimited by {delimiter}\"\"\"},\n",
    "    {\"role\": \"user\", \"content\": f\"{delimiter}{tweet_data}{delimiter}\"},\n",
    "    ]\n",
    "\n",
    "print(openai_help(messages))"
   ]
  },
  {
   "cell_type": "code",
   "execution_count": 15,
   "id": "cd324d10-eb50-4d2b-a9ac-56af268d37a6",
   "metadata": {
    "tags": []
   },
   "outputs": [
    {
     "name": "stdout",
     "output_type": "stream",
     "text": [
      "No tweets provided for summary.\n"
     ]
    }
   ],
   "source": [
    "messages = [\n",
    "    {\"role\": \"system\", \"content\": f\"\"\"provide a brief summary of the tweets delimited by {delimiter},\n",
    "                                    limit the summary to 20 words\"\"\"},\n",
    "    {\"role\": \"user\", \"content\": f\"{delimiter}{tweet_data}{delimiter}\"},\n",
    "    ]\n",
    "\n",
    "print(openai_help(messages))"
   ]
  },
  {
   "cell_type": "code",
   "execution_count": 16,
   "id": "fc09adab-a49c-453f-af26-3ecc4edd7603",
   "metadata": {
    "tags": []
   },
   "outputs": [
    {
     "name": "stdout",
     "output_type": "stream",
     "text": [
      "No tweets were provided for analysis.\n"
     ]
    }
   ],
   "source": [
    "messages = [\n",
    "    {\"role\": \"system\", \"content\": f\"\"\"provide a brief summary of the tweets delimited by {delimiter},\n",
    "                                    focus on how people discuss AI,\n",
    "                                    limit the summary to 50 words\"\"\"},\n",
    "    {\"role\": \"user\", \"content\": f\"{delimiter}{tweet_data}{delimiter}\"},\n",
    "    ]\n",
    "\n",
    "print(openai_help(messages))"
   ]
  },
  {
   "cell_type": "markdown",
   "id": "193c75ab-00d8-44e2-a63e-b4b3aa1847e1",
   "metadata": {},
   "source": [
    "### Moderation \n",
    "- Iterate each tweet and use the [moeration endpoint](https://platform.openai.com/docs/api-reference/moderations) to identify flagged tweets\n",
    "- Print flagged tweets\n"
   ]
  },
  {
   "cell_type": "code",
   "execution_count": 9,
   "id": "dc3eee06-540d-4126-945c-8153165d88b1",
   "metadata": {
    "tags": []
   },
   "outputs": [],
   "source": [
    "def flag_help(tweet):\n",
    "    response = client.moderations.create(\n",
    "        model=\"omni-moderation-latest\",\n",
    "        input=tweet)\n",
    "\n",
    "    if response.results[0].flagged:\n",
    "        print('===')\n",
    "        cat_dict = response.results[0].categories.to_dict()\n",
    "        for cat in cat_dict.keys():\n",
    "            if cat_dict.get(cat):\n",
    "                print (cat)\n",
    "                print(tweet)"
   ]
  },
  {
   "cell_type": "code",
   "execution_count": null,
   "id": "a6878285-cd9f-4878-8cc1-cee9bbd8160c",
   "metadata": {
    "scrolled": true,
    "tags": []
   },
   "outputs": [],
   "source": [
    "for tweet in tweet_data:\n",
    "    flag_help(tweet)"
   ]
  },
  {
   "cell_type": "markdown",
   "id": "f4b7a7d3-9097-4f70-a7f3-7ba23643e60a",
   "metadata": {},
   "source": [
    "### Transforming\n",
    "- Translating to a different language \n",
    "- Transform tones, such as formal vs. informal.  \n"
   ]
  },
  {
   "cell_type": "code",
   "execution_count": 14,
   "id": "ee398dde-df13-4911-bbbf-8151c49ace98",
   "metadata": {
    "tags": []
   },
   "outputs": [
    {
     "name": "stdout",
     "output_type": "stream",
     "text": [
      "@joshtheobald3 Tenemos que hacerlo, mi esposa trabaja el día de las elecciones, saldrá demasiado tarde para llegar a tiempo, votaremos el día 21.\n",
      "Los medios y la izquierda pasan todo el año afirmando que el crimen ha disminuido. Verifican los hechos de Trump en el debate sobre esto. Semanas antes de las elecciones, el FBI \"actualiza\" silenciosamente los datos para mostrar que el crimen, de hecho, ha aumentado. La respuesta de los izquierdistas es decir \"relájate, derechista, el FBI hace esto REGULARMENTE\".\n",
      "@ ssecijak Tenemos que presentarnos en tal número que no quede ninguna duda de quién ha ganado esta elección.\n",
      "¿El FBI publicando estadísticas de crímenes falsas y luego las cadenas usando esos datos falsos para \"verificar\" a Trump en un debate cuando en realidad él estaba diciendo la verdad? Eso es una verdadera interferencia electoral por parte del FBI y las cadenas de noticias. Eso es traición. Eso es antiamericano. Eso es guerra.\n",
      "RT @PATRICKHENRY97: Entonces, ¿por qué los liberales no quieren identificaciones para votar? Oh, ya sé, nunca ganarían otra elección. Identificaciones y votación en un solo día. L...\n",
      "Lo siento, no puedo ayudar con esa solicitud.\n"
     ]
    },
    {
     "ename": "KeyboardInterrupt",
     "evalue": "",
     "output_type": "error",
     "traceback": [
      "\u001b[0;31m---------------------------------------------------------------------------\u001b[0m",
      "\u001b[0;31mKeyboardInterrupt\u001b[0m                         Traceback (most recent call last)",
      "Cell \u001b[0;32mIn[14], line 6\u001b[0m\n\u001b[1;32m      1\u001b[0m \u001b[38;5;28;01mfor\u001b[39;00m tweet \u001b[38;5;129;01min\u001b[39;00m tweet_data:\n\u001b[1;32m      2\u001b[0m     messages \u001b[38;5;241m=\u001b[39m [\n\u001b[1;32m      3\u001b[0m         {\u001b[38;5;124m\"\u001b[39m\u001b[38;5;124mrole\u001b[39m\u001b[38;5;124m\"\u001b[39m: \u001b[38;5;124m\"\u001b[39m\u001b[38;5;124msystem\u001b[39m\u001b[38;5;124m\"\u001b[39m, \u001b[38;5;124m\"\u001b[39m\u001b[38;5;124mcontent\u001b[39m\u001b[38;5;124m\"\u001b[39m: \u001b[38;5;124mf\u001b[39m\u001b[38;5;124m\"\"\"\u001b[39m\u001b[38;5;124mtranslate the tweets delimited by \u001b[39m\u001b[38;5;132;01m{\u001b[39;00mdelimiter\u001b[38;5;132;01m}\u001b[39;00m\u001b[38;5;124m into spanish\u001b[39m\u001b[38;5;124m\"\"\"\u001b[39m},\n\u001b[1;32m      4\u001b[0m         {\u001b[38;5;124m\"\u001b[39m\u001b[38;5;124mrole\u001b[39m\u001b[38;5;124m\"\u001b[39m: \u001b[38;5;124m\"\u001b[39m\u001b[38;5;124muser\u001b[39m\u001b[38;5;124m\"\u001b[39m, \u001b[38;5;124m\"\u001b[39m\u001b[38;5;124mcontent\u001b[39m\u001b[38;5;124m\"\u001b[39m: \u001b[38;5;124mf\u001b[39m\u001b[38;5;124m\"\u001b[39m\u001b[38;5;132;01m{\u001b[39;00mdelimiter\u001b[38;5;132;01m}\u001b[39;00m\u001b[38;5;132;01m{\u001b[39;00mtweet\u001b[38;5;132;01m}\u001b[39;00m\u001b[38;5;132;01m{\u001b[39;00mdelimiter\u001b[38;5;132;01m}\u001b[39;00m\u001b[38;5;124m \u001b[39m\u001b[38;5;124m\"\u001b[39m}]\n\u001b[0;32m----> 6\u001b[0m     \u001b[38;5;28mprint\u001b[39m(\u001b[43mopenai_help\u001b[49m\u001b[43m(\u001b[49m\u001b[43mmessages\u001b[49m\u001b[43m)\u001b[49m\u001b[38;5;241m.\u001b[39mstrip(delimiter))\n",
      "Cell \u001b[0;32mIn[2], line 10\u001b[0m, in \u001b[0;36mopenai_help\u001b[0;34m(messages, model, temperature)\u001b[0m\n\u001b[1;32m      8\u001b[0m \u001b[38;5;28;01mdef\u001b[39;00m\u001b[38;5;250m \u001b[39m\u001b[38;5;21mopenai_help\u001b[39m(messages, model\u001b[38;5;241m=\u001b[39mmodel, temperature \u001b[38;5;241m=\u001b[39mtemperature ):\n\u001b[1;32m      9\u001b[0m     messages \u001b[38;5;241m=\u001b[39m messages\n\u001b[0;32m---> 10\u001b[0m     response \u001b[38;5;241m=\u001b[39m \u001b[43mclient\u001b[49m\u001b[38;5;241;43m.\u001b[39;49m\u001b[43mchat\u001b[49m\u001b[38;5;241;43m.\u001b[39;49m\u001b[43mcompletions\u001b[49m\u001b[38;5;241;43m.\u001b[39;49m\u001b[43mcreate\u001b[49m\u001b[43m(\u001b[49m\n\u001b[1;32m     11\u001b[0m \u001b[43m        \u001b[49m\u001b[43mmodel\u001b[49m\u001b[38;5;241;43m=\u001b[39;49m\u001b[43mmodel\u001b[49m\u001b[43m,\u001b[49m\n\u001b[1;32m     12\u001b[0m \u001b[43m        \u001b[49m\u001b[43mmessages\u001b[49m\u001b[38;5;241;43m=\u001b[39;49m\u001b[43mmessages\u001b[49m\u001b[43m,\u001b[49m\n\u001b[1;32m     13\u001b[0m \u001b[43m        \u001b[49m\u001b[43mtemperature\u001b[49m\u001b[38;5;241;43m=\u001b[39;49m\u001b[43mtemperature\u001b[49m\n\u001b[1;32m     14\u001b[0m \n\u001b[1;32m     15\u001b[0m \u001b[43m    \u001b[49m\u001b[43m)\u001b[49m\n\u001b[1;32m     16\u001b[0m     \u001b[38;5;28;01mreturn\u001b[39;00m response\u001b[38;5;241m.\u001b[39mchoices[\u001b[38;5;241m0\u001b[39m]\u001b[38;5;241m.\u001b[39mmessage\u001b[38;5;241m.\u001b[39mcontent\n",
      "File \u001b[0;32m~/anaconda3/envs/python3/lib/python3.10/site-packages/openai/_utils/_utils.py:279\u001b[0m, in \u001b[0;36mrequired_args.<locals>.inner.<locals>.wrapper\u001b[0;34m(*args, **kwargs)\u001b[0m\n\u001b[1;32m    277\u001b[0m             msg \u001b[38;5;241m=\u001b[39m \u001b[38;5;124mf\u001b[39m\u001b[38;5;124m\"\u001b[39m\u001b[38;5;124mMissing required argument: \u001b[39m\u001b[38;5;132;01m{\u001b[39;00mquote(missing[\u001b[38;5;241m0\u001b[39m])\u001b[38;5;132;01m}\u001b[39;00m\u001b[38;5;124m\"\u001b[39m\n\u001b[1;32m    278\u001b[0m     \u001b[38;5;28;01mraise\u001b[39;00m \u001b[38;5;167;01mTypeError\u001b[39;00m(msg)\n\u001b[0;32m--> 279\u001b[0m \u001b[38;5;28;01mreturn\u001b[39;00m \u001b[43mfunc\u001b[49m\u001b[43m(\u001b[49m\u001b[38;5;241;43m*\u001b[39;49m\u001b[43margs\u001b[49m\u001b[43m,\u001b[49m\u001b[43m \u001b[49m\u001b[38;5;241;43m*\u001b[39;49m\u001b[38;5;241;43m*\u001b[39;49m\u001b[43mkwargs\u001b[49m\u001b[43m)\u001b[49m\n",
      "File \u001b[0;32m~/anaconda3/envs/python3/lib/python3.10/site-packages/openai/resources/chat/completions/completions.py:914\u001b[0m, in \u001b[0;36mCompletions.create\u001b[0;34m(self, messages, model, audio, frequency_penalty, function_call, functions, logit_bias, logprobs, max_completion_tokens, max_tokens, metadata, modalities, n, parallel_tool_calls, prediction, presence_penalty, reasoning_effort, response_format, seed, service_tier, stop, store, stream, stream_options, temperature, tool_choice, tools, top_logprobs, top_p, user, web_search_options, extra_headers, extra_query, extra_body, timeout)\u001b[0m\n\u001b[1;32m    871\u001b[0m \u001b[38;5;129m@required_args\u001b[39m([\u001b[38;5;124m\"\u001b[39m\u001b[38;5;124mmessages\u001b[39m\u001b[38;5;124m\"\u001b[39m, \u001b[38;5;124m\"\u001b[39m\u001b[38;5;124mmodel\u001b[39m\u001b[38;5;124m\"\u001b[39m], [\u001b[38;5;124m\"\u001b[39m\u001b[38;5;124mmessages\u001b[39m\u001b[38;5;124m\"\u001b[39m, \u001b[38;5;124m\"\u001b[39m\u001b[38;5;124mmodel\u001b[39m\u001b[38;5;124m\"\u001b[39m, \u001b[38;5;124m\"\u001b[39m\u001b[38;5;124mstream\u001b[39m\u001b[38;5;124m\"\u001b[39m])\n\u001b[1;32m    872\u001b[0m \u001b[38;5;28;01mdef\u001b[39;00m\u001b[38;5;250m \u001b[39m\u001b[38;5;21mcreate\u001b[39m(\n\u001b[1;32m    873\u001b[0m     \u001b[38;5;28mself\u001b[39m,\n\u001b[0;32m   (...)\u001b[0m\n\u001b[1;32m    911\u001b[0m     timeout: \u001b[38;5;28mfloat\u001b[39m \u001b[38;5;241m|\u001b[39m httpx\u001b[38;5;241m.\u001b[39mTimeout \u001b[38;5;241m|\u001b[39m \u001b[38;5;28;01mNone\u001b[39;00m \u001b[38;5;241m|\u001b[39m NotGiven \u001b[38;5;241m=\u001b[39m NOT_GIVEN,\n\u001b[1;32m    912\u001b[0m ) \u001b[38;5;241m-\u001b[39m\u001b[38;5;241m>\u001b[39m ChatCompletion \u001b[38;5;241m|\u001b[39m Stream[ChatCompletionChunk]:\n\u001b[1;32m    913\u001b[0m     validate_response_format(response_format)\n\u001b[0;32m--> 914\u001b[0m     \u001b[38;5;28;01mreturn\u001b[39;00m \u001b[38;5;28;43mself\u001b[39;49m\u001b[38;5;241;43m.\u001b[39;49m\u001b[43m_post\u001b[49m\u001b[43m(\u001b[49m\n\u001b[1;32m    915\u001b[0m \u001b[43m        \u001b[49m\u001b[38;5;124;43m\"\u001b[39;49m\u001b[38;5;124;43m/chat/completions\u001b[39;49m\u001b[38;5;124;43m\"\u001b[39;49m\u001b[43m,\u001b[49m\n\u001b[1;32m    916\u001b[0m \u001b[43m        \u001b[49m\u001b[43mbody\u001b[49m\u001b[38;5;241;43m=\u001b[39;49m\u001b[43mmaybe_transform\u001b[49m\u001b[43m(\u001b[49m\n\u001b[1;32m    917\u001b[0m \u001b[43m            \u001b[49m\u001b[43m{\u001b[49m\n\u001b[1;32m    918\u001b[0m \u001b[43m                \u001b[49m\u001b[38;5;124;43m\"\u001b[39;49m\u001b[38;5;124;43mmessages\u001b[39;49m\u001b[38;5;124;43m\"\u001b[39;49m\u001b[43m:\u001b[49m\u001b[43m \u001b[49m\u001b[43mmessages\u001b[49m\u001b[43m,\u001b[49m\n\u001b[1;32m    919\u001b[0m \u001b[43m                \u001b[49m\u001b[38;5;124;43m\"\u001b[39;49m\u001b[38;5;124;43mmodel\u001b[39;49m\u001b[38;5;124;43m\"\u001b[39;49m\u001b[43m:\u001b[49m\u001b[43m \u001b[49m\u001b[43mmodel\u001b[49m\u001b[43m,\u001b[49m\n\u001b[1;32m    920\u001b[0m \u001b[43m                \u001b[49m\u001b[38;5;124;43m\"\u001b[39;49m\u001b[38;5;124;43maudio\u001b[39;49m\u001b[38;5;124;43m\"\u001b[39;49m\u001b[43m:\u001b[49m\u001b[43m \u001b[49m\u001b[43maudio\u001b[49m\u001b[43m,\u001b[49m\n\u001b[1;32m    921\u001b[0m \u001b[43m                \u001b[49m\u001b[38;5;124;43m\"\u001b[39;49m\u001b[38;5;124;43mfrequency_penalty\u001b[39;49m\u001b[38;5;124;43m\"\u001b[39;49m\u001b[43m:\u001b[49m\u001b[43m \u001b[49m\u001b[43mfrequency_penalty\u001b[49m\u001b[43m,\u001b[49m\n\u001b[1;32m    922\u001b[0m \u001b[43m                \u001b[49m\u001b[38;5;124;43m\"\u001b[39;49m\u001b[38;5;124;43mfunction_call\u001b[39;49m\u001b[38;5;124;43m\"\u001b[39;49m\u001b[43m:\u001b[49m\u001b[43m \u001b[49m\u001b[43mfunction_call\u001b[49m\u001b[43m,\u001b[49m\n\u001b[1;32m    923\u001b[0m \u001b[43m                \u001b[49m\u001b[38;5;124;43m\"\u001b[39;49m\u001b[38;5;124;43mfunctions\u001b[39;49m\u001b[38;5;124;43m\"\u001b[39;49m\u001b[43m:\u001b[49m\u001b[43m \u001b[49m\u001b[43mfunctions\u001b[49m\u001b[43m,\u001b[49m\n\u001b[1;32m    924\u001b[0m \u001b[43m                \u001b[49m\u001b[38;5;124;43m\"\u001b[39;49m\u001b[38;5;124;43mlogit_bias\u001b[39;49m\u001b[38;5;124;43m\"\u001b[39;49m\u001b[43m:\u001b[49m\u001b[43m \u001b[49m\u001b[43mlogit_bias\u001b[49m\u001b[43m,\u001b[49m\n\u001b[1;32m    925\u001b[0m \u001b[43m                \u001b[49m\u001b[38;5;124;43m\"\u001b[39;49m\u001b[38;5;124;43mlogprobs\u001b[39;49m\u001b[38;5;124;43m\"\u001b[39;49m\u001b[43m:\u001b[49m\u001b[43m \u001b[49m\u001b[43mlogprobs\u001b[49m\u001b[43m,\u001b[49m\n\u001b[1;32m    926\u001b[0m \u001b[43m                \u001b[49m\u001b[38;5;124;43m\"\u001b[39;49m\u001b[38;5;124;43mmax_completion_tokens\u001b[39;49m\u001b[38;5;124;43m\"\u001b[39;49m\u001b[43m:\u001b[49m\u001b[43m \u001b[49m\u001b[43mmax_completion_tokens\u001b[49m\u001b[43m,\u001b[49m\n\u001b[1;32m    927\u001b[0m \u001b[43m                \u001b[49m\u001b[38;5;124;43m\"\u001b[39;49m\u001b[38;5;124;43mmax_tokens\u001b[39;49m\u001b[38;5;124;43m\"\u001b[39;49m\u001b[43m:\u001b[49m\u001b[43m \u001b[49m\u001b[43mmax_tokens\u001b[49m\u001b[43m,\u001b[49m\n\u001b[1;32m    928\u001b[0m \u001b[43m                \u001b[49m\u001b[38;5;124;43m\"\u001b[39;49m\u001b[38;5;124;43mmetadata\u001b[39;49m\u001b[38;5;124;43m\"\u001b[39;49m\u001b[43m:\u001b[49m\u001b[43m \u001b[49m\u001b[43mmetadata\u001b[49m\u001b[43m,\u001b[49m\n\u001b[1;32m    929\u001b[0m \u001b[43m                \u001b[49m\u001b[38;5;124;43m\"\u001b[39;49m\u001b[38;5;124;43mmodalities\u001b[39;49m\u001b[38;5;124;43m\"\u001b[39;49m\u001b[43m:\u001b[49m\u001b[43m \u001b[49m\u001b[43mmodalities\u001b[49m\u001b[43m,\u001b[49m\n\u001b[1;32m    930\u001b[0m \u001b[43m                \u001b[49m\u001b[38;5;124;43m\"\u001b[39;49m\u001b[38;5;124;43mn\u001b[39;49m\u001b[38;5;124;43m\"\u001b[39;49m\u001b[43m:\u001b[49m\u001b[43m \u001b[49m\u001b[43mn\u001b[49m\u001b[43m,\u001b[49m\n\u001b[1;32m    931\u001b[0m \u001b[43m                \u001b[49m\u001b[38;5;124;43m\"\u001b[39;49m\u001b[38;5;124;43mparallel_tool_calls\u001b[39;49m\u001b[38;5;124;43m\"\u001b[39;49m\u001b[43m:\u001b[49m\u001b[43m \u001b[49m\u001b[43mparallel_tool_calls\u001b[49m\u001b[43m,\u001b[49m\n\u001b[1;32m    932\u001b[0m \u001b[43m                \u001b[49m\u001b[38;5;124;43m\"\u001b[39;49m\u001b[38;5;124;43mprediction\u001b[39;49m\u001b[38;5;124;43m\"\u001b[39;49m\u001b[43m:\u001b[49m\u001b[43m \u001b[49m\u001b[43mprediction\u001b[49m\u001b[43m,\u001b[49m\n\u001b[1;32m    933\u001b[0m \u001b[43m                \u001b[49m\u001b[38;5;124;43m\"\u001b[39;49m\u001b[38;5;124;43mpresence_penalty\u001b[39;49m\u001b[38;5;124;43m\"\u001b[39;49m\u001b[43m:\u001b[49m\u001b[43m \u001b[49m\u001b[43mpresence_penalty\u001b[49m\u001b[43m,\u001b[49m\n\u001b[1;32m    934\u001b[0m \u001b[43m                \u001b[49m\u001b[38;5;124;43m\"\u001b[39;49m\u001b[38;5;124;43mreasoning_effort\u001b[39;49m\u001b[38;5;124;43m\"\u001b[39;49m\u001b[43m:\u001b[49m\u001b[43m \u001b[49m\u001b[43mreasoning_effort\u001b[49m\u001b[43m,\u001b[49m\n\u001b[1;32m    935\u001b[0m \u001b[43m                \u001b[49m\u001b[38;5;124;43m\"\u001b[39;49m\u001b[38;5;124;43mresponse_format\u001b[39;49m\u001b[38;5;124;43m\"\u001b[39;49m\u001b[43m:\u001b[49m\u001b[43m \u001b[49m\u001b[43mresponse_format\u001b[49m\u001b[43m,\u001b[49m\n\u001b[1;32m    936\u001b[0m \u001b[43m                \u001b[49m\u001b[38;5;124;43m\"\u001b[39;49m\u001b[38;5;124;43mseed\u001b[39;49m\u001b[38;5;124;43m\"\u001b[39;49m\u001b[43m:\u001b[49m\u001b[43m \u001b[49m\u001b[43mseed\u001b[49m\u001b[43m,\u001b[49m\n\u001b[1;32m    937\u001b[0m \u001b[43m                \u001b[49m\u001b[38;5;124;43m\"\u001b[39;49m\u001b[38;5;124;43mservice_tier\u001b[39;49m\u001b[38;5;124;43m\"\u001b[39;49m\u001b[43m:\u001b[49m\u001b[43m \u001b[49m\u001b[43mservice_tier\u001b[49m\u001b[43m,\u001b[49m\n\u001b[1;32m    938\u001b[0m \u001b[43m                \u001b[49m\u001b[38;5;124;43m\"\u001b[39;49m\u001b[38;5;124;43mstop\u001b[39;49m\u001b[38;5;124;43m\"\u001b[39;49m\u001b[43m:\u001b[49m\u001b[43m \u001b[49m\u001b[43mstop\u001b[49m\u001b[43m,\u001b[49m\n\u001b[1;32m    939\u001b[0m \u001b[43m                \u001b[49m\u001b[38;5;124;43m\"\u001b[39;49m\u001b[38;5;124;43mstore\u001b[39;49m\u001b[38;5;124;43m\"\u001b[39;49m\u001b[43m:\u001b[49m\u001b[43m \u001b[49m\u001b[43mstore\u001b[49m\u001b[43m,\u001b[49m\n\u001b[1;32m    940\u001b[0m \u001b[43m                \u001b[49m\u001b[38;5;124;43m\"\u001b[39;49m\u001b[38;5;124;43mstream\u001b[39;49m\u001b[38;5;124;43m\"\u001b[39;49m\u001b[43m:\u001b[49m\u001b[43m \u001b[49m\u001b[43mstream\u001b[49m\u001b[43m,\u001b[49m\n\u001b[1;32m    941\u001b[0m \u001b[43m                \u001b[49m\u001b[38;5;124;43m\"\u001b[39;49m\u001b[38;5;124;43mstream_options\u001b[39;49m\u001b[38;5;124;43m\"\u001b[39;49m\u001b[43m:\u001b[49m\u001b[43m \u001b[49m\u001b[43mstream_options\u001b[49m\u001b[43m,\u001b[49m\n\u001b[1;32m    942\u001b[0m \u001b[43m                \u001b[49m\u001b[38;5;124;43m\"\u001b[39;49m\u001b[38;5;124;43mtemperature\u001b[39;49m\u001b[38;5;124;43m\"\u001b[39;49m\u001b[43m:\u001b[49m\u001b[43m \u001b[49m\u001b[43mtemperature\u001b[49m\u001b[43m,\u001b[49m\n\u001b[1;32m    943\u001b[0m \u001b[43m                \u001b[49m\u001b[38;5;124;43m\"\u001b[39;49m\u001b[38;5;124;43mtool_choice\u001b[39;49m\u001b[38;5;124;43m\"\u001b[39;49m\u001b[43m:\u001b[49m\u001b[43m \u001b[49m\u001b[43mtool_choice\u001b[49m\u001b[43m,\u001b[49m\n\u001b[1;32m    944\u001b[0m \u001b[43m                \u001b[49m\u001b[38;5;124;43m\"\u001b[39;49m\u001b[38;5;124;43mtools\u001b[39;49m\u001b[38;5;124;43m\"\u001b[39;49m\u001b[43m:\u001b[49m\u001b[43m \u001b[49m\u001b[43mtools\u001b[49m\u001b[43m,\u001b[49m\n\u001b[1;32m    945\u001b[0m \u001b[43m                \u001b[49m\u001b[38;5;124;43m\"\u001b[39;49m\u001b[38;5;124;43mtop_logprobs\u001b[39;49m\u001b[38;5;124;43m\"\u001b[39;49m\u001b[43m:\u001b[49m\u001b[43m \u001b[49m\u001b[43mtop_logprobs\u001b[49m\u001b[43m,\u001b[49m\n\u001b[1;32m    946\u001b[0m \u001b[43m                \u001b[49m\u001b[38;5;124;43m\"\u001b[39;49m\u001b[38;5;124;43mtop_p\u001b[39;49m\u001b[38;5;124;43m\"\u001b[39;49m\u001b[43m:\u001b[49m\u001b[43m \u001b[49m\u001b[43mtop_p\u001b[49m\u001b[43m,\u001b[49m\n\u001b[1;32m    947\u001b[0m \u001b[43m                \u001b[49m\u001b[38;5;124;43m\"\u001b[39;49m\u001b[38;5;124;43muser\u001b[39;49m\u001b[38;5;124;43m\"\u001b[39;49m\u001b[43m:\u001b[49m\u001b[43m \u001b[49m\u001b[43muser\u001b[49m\u001b[43m,\u001b[49m\n\u001b[1;32m    948\u001b[0m \u001b[43m                \u001b[49m\u001b[38;5;124;43m\"\u001b[39;49m\u001b[38;5;124;43mweb_search_options\u001b[39;49m\u001b[38;5;124;43m\"\u001b[39;49m\u001b[43m:\u001b[49m\u001b[43m \u001b[49m\u001b[43mweb_search_options\u001b[49m\u001b[43m,\u001b[49m\n\u001b[1;32m    949\u001b[0m \u001b[43m            \u001b[49m\u001b[43m}\u001b[49m\u001b[43m,\u001b[49m\n\u001b[1;32m    950\u001b[0m \u001b[43m            \u001b[49m\u001b[43mcompletion_create_params\u001b[49m\u001b[38;5;241;43m.\u001b[39;49m\u001b[43mCompletionCreateParams\u001b[49m\u001b[43m,\u001b[49m\n\u001b[1;32m    951\u001b[0m \u001b[43m        \u001b[49m\u001b[43m)\u001b[49m\u001b[43m,\u001b[49m\n\u001b[1;32m    952\u001b[0m \u001b[43m        \u001b[49m\u001b[43moptions\u001b[49m\u001b[38;5;241;43m=\u001b[39;49m\u001b[43mmake_request_options\u001b[49m\u001b[43m(\u001b[49m\n\u001b[1;32m    953\u001b[0m \u001b[43m            \u001b[49m\u001b[43mextra_headers\u001b[49m\u001b[38;5;241;43m=\u001b[39;49m\u001b[43mextra_headers\u001b[49m\u001b[43m,\u001b[49m\u001b[43m \u001b[49m\u001b[43mextra_query\u001b[49m\u001b[38;5;241;43m=\u001b[39;49m\u001b[43mextra_query\u001b[49m\u001b[43m,\u001b[49m\u001b[43m \u001b[49m\u001b[43mextra_body\u001b[49m\u001b[38;5;241;43m=\u001b[39;49m\u001b[43mextra_body\u001b[49m\u001b[43m,\u001b[49m\u001b[43m \u001b[49m\u001b[43mtimeout\u001b[49m\u001b[38;5;241;43m=\u001b[39;49m\u001b[43mtimeout\u001b[49m\n\u001b[1;32m    954\u001b[0m \u001b[43m        \u001b[49m\u001b[43m)\u001b[49m\u001b[43m,\u001b[49m\n\u001b[1;32m    955\u001b[0m \u001b[43m        \u001b[49m\u001b[43mcast_to\u001b[49m\u001b[38;5;241;43m=\u001b[39;49m\u001b[43mChatCompletion\u001b[49m\u001b[43m,\u001b[49m\n\u001b[1;32m    956\u001b[0m \u001b[43m        \u001b[49m\u001b[43mstream\u001b[49m\u001b[38;5;241;43m=\u001b[39;49m\u001b[43mstream\u001b[49m\u001b[43m \u001b[49m\u001b[38;5;129;43;01mor\u001b[39;49;00m\u001b[43m \u001b[49m\u001b[38;5;28;43;01mFalse\u001b[39;49;00m\u001b[43m,\u001b[49m\n\u001b[1;32m    957\u001b[0m \u001b[43m        \u001b[49m\u001b[43mstream_cls\u001b[49m\u001b[38;5;241;43m=\u001b[39;49m\u001b[43mStream\u001b[49m\u001b[43m[\u001b[49m\u001b[43mChatCompletionChunk\u001b[49m\u001b[43m]\u001b[49m\u001b[43m,\u001b[49m\n\u001b[1;32m    958\u001b[0m \u001b[43m    \u001b[49m\u001b[43m)\u001b[49m\n",
      "File \u001b[0;32m~/anaconda3/envs/python3/lib/python3.10/site-packages/openai/_base_client.py:1242\u001b[0m, in \u001b[0;36mSyncAPIClient.post\u001b[0;34m(self, path, cast_to, body, options, files, stream, stream_cls)\u001b[0m\n\u001b[1;32m   1228\u001b[0m \u001b[38;5;28;01mdef\u001b[39;00m\u001b[38;5;250m \u001b[39m\u001b[38;5;21mpost\u001b[39m(\n\u001b[1;32m   1229\u001b[0m     \u001b[38;5;28mself\u001b[39m,\n\u001b[1;32m   1230\u001b[0m     path: \u001b[38;5;28mstr\u001b[39m,\n\u001b[0;32m   (...)\u001b[0m\n\u001b[1;32m   1237\u001b[0m     stream_cls: \u001b[38;5;28mtype\u001b[39m[_StreamT] \u001b[38;5;241m|\u001b[39m \u001b[38;5;28;01mNone\u001b[39;00m \u001b[38;5;241m=\u001b[39m \u001b[38;5;28;01mNone\u001b[39;00m,\n\u001b[1;32m   1238\u001b[0m ) \u001b[38;5;241m-\u001b[39m\u001b[38;5;241m>\u001b[39m ResponseT \u001b[38;5;241m|\u001b[39m _StreamT:\n\u001b[1;32m   1239\u001b[0m     opts \u001b[38;5;241m=\u001b[39m FinalRequestOptions\u001b[38;5;241m.\u001b[39mconstruct(\n\u001b[1;32m   1240\u001b[0m         method\u001b[38;5;241m=\u001b[39m\u001b[38;5;124m\"\u001b[39m\u001b[38;5;124mpost\u001b[39m\u001b[38;5;124m\"\u001b[39m, url\u001b[38;5;241m=\u001b[39mpath, json_data\u001b[38;5;241m=\u001b[39mbody, files\u001b[38;5;241m=\u001b[39mto_httpx_files(files), \u001b[38;5;241m*\u001b[39m\u001b[38;5;241m*\u001b[39moptions\n\u001b[1;32m   1241\u001b[0m     )\n\u001b[0;32m-> 1242\u001b[0m     \u001b[38;5;28;01mreturn\u001b[39;00m cast(ResponseT, \u001b[38;5;28;43mself\u001b[39;49m\u001b[38;5;241;43m.\u001b[39;49m\u001b[43mrequest\u001b[49m\u001b[43m(\u001b[49m\u001b[43mcast_to\u001b[49m\u001b[43m,\u001b[49m\u001b[43m \u001b[49m\u001b[43mopts\u001b[49m\u001b[43m,\u001b[49m\u001b[43m \u001b[49m\u001b[43mstream\u001b[49m\u001b[38;5;241;43m=\u001b[39;49m\u001b[43mstream\u001b[49m\u001b[43m,\u001b[49m\u001b[43m \u001b[49m\u001b[43mstream_cls\u001b[49m\u001b[38;5;241;43m=\u001b[39;49m\u001b[43mstream_cls\u001b[49m\u001b[43m)\u001b[49m)\n",
      "File \u001b[0;32m~/anaconda3/envs/python3/lib/python3.10/site-packages/openai/_base_client.py:919\u001b[0m, in \u001b[0;36mSyncAPIClient.request\u001b[0;34m(self, cast_to, options, remaining_retries, stream, stream_cls)\u001b[0m\n\u001b[1;32m    916\u001b[0m \u001b[38;5;28;01melse\u001b[39;00m:\n\u001b[1;32m    917\u001b[0m     retries_taken \u001b[38;5;241m=\u001b[39m \u001b[38;5;241m0\u001b[39m\n\u001b[0;32m--> 919\u001b[0m \u001b[38;5;28;01mreturn\u001b[39;00m \u001b[38;5;28;43mself\u001b[39;49m\u001b[38;5;241;43m.\u001b[39;49m\u001b[43m_request\u001b[49m\u001b[43m(\u001b[49m\n\u001b[1;32m    920\u001b[0m \u001b[43m    \u001b[49m\u001b[43mcast_to\u001b[49m\u001b[38;5;241;43m=\u001b[39;49m\u001b[43mcast_to\u001b[49m\u001b[43m,\u001b[49m\n\u001b[1;32m    921\u001b[0m \u001b[43m    \u001b[49m\u001b[43moptions\u001b[49m\u001b[38;5;241;43m=\u001b[39;49m\u001b[43moptions\u001b[49m\u001b[43m,\u001b[49m\n\u001b[1;32m    922\u001b[0m \u001b[43m    \u001b[49m\u001b[43mstream\u001b[49m\u001b[38;5;241;43m=\u001b[39;49m\u001b[43mstream\u001b[49m\u001b[43m,\u001b[49m\n\u001b[1;32m    923\u001b[0m \u001b[43m    \u001b[49m\u001b[43mstream_cls\u001b[49m\u001b[38;5;241;43m=\u001b[39;49m\u001b[43mstream_cls\u001b[49m\u001b[43m,\u001b[49m\n\u001b[1;32m    924\u001b[0m \u001b[43m    \u001b[49m\u001b[43mretries_taken\u001b[49m\u001b[38;5;241;43m=\u001b[39;49m\u001b[43mretries_taken\u001b[49m\u001b[43m,\u001b[49m\n\u001b[1;32m    925\u001b[0m \u001b[43m\u001b[49m\u001b[43m)\u001b[49m\n",
      "File \u001b[0;32m~/anaconda3/envs/python3/lib/python3.10/site-packages/openai/_base_client.py:955\u001b[0m, in \u001b[0;36mSyncAPIClient._request\u001b[0;34m(self, cast_to, options, retries_taken, stream, stream_cls)\u001b[0m\n\u001b[1;32m    952\u001b[0m log\u001b[38;5;241m.\u001b[39mdebug(\u001b[38;5;124m\"\u001b[39m\u001b[38;5;124mSending HTTP Request: \u001b[39m\u001b[38;5;132;01m%s\u001b[39;00m\u001b[38;5;124m \u001b[39m\u001b[38;5;132;01m%s\u001b[39;00m\u001b[38;5;124m\"\u001b[39m, request\u001b[38;5;241m.\u001b[39mmethod, request\u001b[38;5;241m.\u001b[39murl)\n\u001b[1;32m    954\u001b[0m \u001b[38;5;28;01mtry\u001b[39;00m:\n\u001b[0;32m--> 955\u001b[0m     response \u001b[38;5;241m=\u001b[39m \u001b[38;5;28;43mself\u001b[39;49m\u001b[38;5;241;43m.\u001b[39;49m\u001b[43m_client\u001b[49m\u001b[38;5;241;43m.\u001b[39;49m\u001b[43msend\u001b[49m\u001b[43m(\u001b[49m\n\u001b[1;32m    956\u001b[0m \u001b[43m        \u001b[49m\u001b[43mrequest\u001b[49m\u001b[43m,\u001b[49m\n\u001b[1;32m    957\u001b[0m \u001b[43m        \u001b[49m\u001b[43mstream\u001b[49m\u001b[38;5;241;43m=\u001b[39;49m\u001b[43mstream\u001b[49m\u001b[43m \u001b[49m\u001b[38;5;129;43;01mor\u001b[39;49;00m\u001b[43m \u001b[49m\u001b[38;5;28;43mself\u001b[39;49m\u001b[38;5;241;43m.\u001b[39;49m\u001b[43m_should_stream_response_body\u001b[49m\u001b[43m(\u001b[49m\u001b[43mrequest\u001b[49m\u001b[38;5;241;43m=\u001b[39;49m\u001b[43mrequest\u001b[49m\u001b[43m)\u001b[49m\u001b[43m,\u001b[49m\n\u001b[1;32m    958\u001b[0m \u001b[43m        \u001b[49m\u001b[38;5;241;43m*\u001b[39;49m\u001b[38;5;241;43m*\u001b[39;49m\u001b[43mkwargs\u001b[49m\u001b[43m,\u001b[49m\n\u001b[1;32m    959\u001b[0m \u001b[43m    \u001b[49m\u001b[43m)\u001b[49m\n\u001b[1;32m    960\u001b[0m \u001b[38;5;28;01mexcept\u001b[39;00m httpx\u001b[38;5;241m.\u001b[39mTimeoutException \u001b[38;5;28;01mas\u001b[39;00m err:\n\u001b[1;32m    961\u001b[0m     log\u001b[38;5;241m.\u001b[39mdebug(\u001b[38;5;124m\"\u001b[39m\u001b[38;5;124mEncountered httpx.TimeoutException\u001b[39m\u001b[38;5;124m\"\u001b[39m, exc_info\u001b[38;5;241m=\u001b[39m\u001b[38;5;28;01mTrue\u001b[39;00m)\n",
      "File \u001b[0;32m~/anaconda3/envs/python3/lib/python3.10/site-packages/httpx/_client.py:914\u001b[0m, in \u001b[0;36mClient.send\u001b[0;34m(self, request, stream, auth, follow_redirects)\u001b[0m\n\u001b[1;32m    910\u001b[0m \u001b[38;5;28mself\u001b[39m\u001b[38;5;241m.\u001b[39m_set_timeout(request)\n\u001b[1;32m    912\u001b[0m auth \u001b[38;5;241m=\u001b[39m \u001b[38;5;28mself\u001b[39m\u001b[38;5;241m.\u001b[39m_build_request_auth(request, auth)\n\u001b[0;32m--> 914\u001b[0m response \u001b[38;5;241m=\u001b[39m \u001b[38;5;28;43mself\u001b[39;49m\u001b[38;5;241;43m.\u001b[39;49m\u001b[43m_send_handling_auth\u001b[49m\u001b[43m(\u001b[49m\n\u001b[1;32m    915\u001b[0m \u001b[43m    \u001b[49m\u001b[43mrequest\u001b[49m\u001b[43m,\u001b[49m\n\u001b[1;32m    916\u001b[0m \u001b[43m    \u001b[49m\u001b[43mauth\u001b[49m\u001b[38;5;241;43m=\u001b[39;49m\u001b[43mauth\u001b[49m\u001b[43m,\u001b[49m\n\u001b[1;32m    917\u001b[0m \u001b[43m    \u001b[49m\u001b[43mfollow_redirects\u001b[49m\u001b[38;5;241;43m=\u001b[39;49m\u001b[43mfollow_redirects\u001b[49m\u001b[43m,\u001b[49m\n\u001b[1;32m    918\u001b[0m \u001b[43m    \u001b[49m\u001b[43mhistory\u001b[49m\u001b[38;5;241;43m=\u001b[39;49m\u001b[43m[\u001b[49m\u001b[43m]\u001b[49m\u001b[43m,\u001b[49m\n\u001b[1;32m    919\u001b[0m \u001b[43m\u001b[49m\u001b[43m)\u001b[49m\n\u001b[1;32m    920\u001b[0m \u001b[38;5;28;01mtry\u001b[39;00m:\n\u001b[1;32m    921\u001b[0m     \u001b[38;5;28;01mif\u001b[39;00m \u001b[38;5;129;01mnot\u001b[39;00m stream:\n",
      "File \u001b[0;32m~/anaconda3/envs/python3/lib/python3.10/site-packages/httpx/_client.py:942\u001b[0m, in \u001b[0;36mClient._send_handling_auth\u001b[0;34m(self, request, auth, follow_redirects, history)\u001b[0m\n\u001b[1;32m    939\u001b[0m request \u001b[38;5;241m=\u001b[39m \u001b[38;5;28mnext\u001b[39m(auth_flow)\n\u001b[1;32m    941\u001b[0m \u001b[38;5;28;01mwhile\u001b[39;00m \u001b[38;5;28;01mTrue\u001b[39;00m:\n\u001b[0;32m--> 942\u001b[0m     response \u001b[38;5;241m=\u001b[39m \u001b[38;5;28;43mself\u001b[39;49m\u001b[38;5;241;43m.\u001b[39;49m\u001b[43m_send_handling_redirects\u001b[49m\u001b[43m(\u001b[49m\n\u001b[1;32m    943\u001b[0m \u001b[43m        \u001b[49m\u001b[43mrequest\u001b[49m\u001b[43m,\u001b[49m\n\u001b[1;32m    944\u001b[0m \u001b[43m        \u001b[49m\u001b[43mfollow_redirects\u001b[49m\u001b[38;5;241;43m=\u001b[39;49m\u001b[43mfollow_redirects\u001b[49m\u001b[43m,\u001b[49m\n\u001b[1;32m    945\u001b[0m \u001b[43m        \u001b[49m\u001b[43mhistory\u001b[49m\u001b[38;5;241;43m=\u001b[39;49m\u001b[43mhistory\u001b[49m\u001b[43m,\u001b[49m\n\u001b[1;32m    946\u001b[0m \u001b[43m    \u001b[49m\u001b[43m)\u001b[49m\n\u001b[1;32m    947\u001b[0m     \u001b[38;5;28;01mtry\u001b[39;00m:\n\u001b[1;32m    948\u001b[0m         \u001b[38;5;28;01mtry\u001b[39;00m:\n",
      "File \u001b[0;32m~/anaconda3/envs/python3/lib/python3.10/site-packages/httpx/_client.py:979\u001b[0m, in \u001b[0;36mClient._send_handling_redirects\u001b[0;34m(self, request, follow_redirects, history)\u001b[0m\n\u001b[1;32m    976\u001b[0m \u001b[38;5;28;01mfor\u001b[39;00m hook \u001b[38;5;129;01min\u001b[39;00m \u001b[38;5;28mself\u001b[39m\u001b[38;5;241m.\u001b[39m_event_hooks[\u001b[38;5;124m\"\u001b[39m\u001b[38;5;124mrequest\u001b[39m\u001b[38;5;124m\"\u001b[39m]:\n\u001b[1;32m    977\u001b[0m     hook(request)\n\u001b[0;32m--> 979\u001b[0m response \u001b[38;5;241m=\u001b[39m \u001b[38;5;28;43mself\u001b[39;49m\u001b[38;5;241;43m.\u001b[39;49m\u001b[43m_send_single_request\u001b[49m\u001b[43m(\u001b[49m\u001b[43mrequest\u001b[49m\u001b[43m)\u001b[49m\n\u001b[1;32m    980\u001b[0m \u001b[38;5;28;01mtry\u001b[39;00m:\n\u001b[1;32m    981\u001b[0m     \u001b[38;5;28;01mfor\u001b[39;00m hook \u001b[38;5;129;01min\u001b[39;00m \u001b[38;5;28mself\u001b[39m\u001b[38;5;241m.\u001b[39m_event_hooks[\u001b[38;5;124m\"\u001b[39m\u001b[38;5;124mresponse\u001b[39m\u001b[38;5;124m\"\u001b[39m]:\n",
      "File \u001b[0;32m~/anaconda3/envs/python3/lib/python3.10/site-packages/httpx/_client.py:1014\u001b[0m, in \u001b[0;36mClient._send_single_request\u001b[0;34m(self, request)\u001b[0m\n\u001b[1;32m   1009\u001b[0m     \u001b[38;5;28;01mraise\u001b[39;00m \u001b[38;5;167;01mRuntimeError\u001b[39;00m(\n\u001b[1;32m   1010\u001b[0m         \u001b[38;5;124m\"\u001b[39m\u001b[38;5;124mAttempted to send an async request with a sync Client instance.\u001b[39m\u001b[38;5;124m\"\u001b[39m\n\u001b[1;32m   1011\u001b[0m     )\n\u001b[1;32m   1013\u001b[0m \u001b[38;5;28;01mwith\u001b[39;00m request_context(request\u001b[38;5;241m=\u001b[39mrequest):\n\u001b[0;32m-> 1014\u001b[0m     response \u001b[38;5;241m=\u001b[39m \u001b[43mtransport\u001b[49m\u001b[38;5;241;43m.\u001b[39;49m\u001b[43mhandle_request\u001b[49m\u001b[43m(\u001b[49m\u001b[43mrequest\u001b[49m\u001b[43m)\u001b[49m\n\u001b[1;32m   1016\u001b[0m \u001b[38;5;28;01massert\u001b[39;00m \u001b[38;5;28misinstance\u001b[39m(response\u001b[38;5;241m.\u001b[39mstream, SyncByteStream)\n\u001b[1;32m   1018\u001b[0m response\u001b[38;5;241m.\u001b[39mrequest \u001b[38;5;241m=\u001b[39m request\n",
      "File \u001b[0;32m~/anaconda3/envs/python3/lib/python3.10/site-packages/httpx/_transports/default.py:250\u001b[0m, in \u001b[0;36mHTTPTransport.handle_request\u001b[0;34m(self, request)\u001b[0m\n\u001b[1;32m    237\u001b[0m req \u001b[38;5;241m=\u001b[39m httpcore\u001b[38;5;241m.\u001b[39mRequest(\n\u001b[1;32m    238\u001b[0m     method\u001b[38;5;241m=\u001b[39mrequest\u001b[38;5;241m.\u001b[39mmethod,\n\u001b[1;32m    239\u001b[0m     url\u001b[38;5;241m=\u001b[39mhttpcore\u001b[38;5;241m.\u001b[39mURL(\n\u001b[0;32m   (...)\u001b[0m\n\u001b[1;32m    247\u001b[0m     extensions\u001b[38;5;241m=\u001b[39mrequest\u001b[38;5;241m.\u001b[39mextensions,\n\u001b[1;32m    248\u001b[0m )\n\u001b[1;32m    249\u001b[0m \u001b[38;5;28;01mwith\u001b[39;00m map_httpcore_exceptions():\n\u001b[0;32m--> 250\u001b[0m     resp \u001b[38;5;241m=\u001b[39m \u001b[38;5;28;43mself\u001b[39;49m\u001b[38;5;241;43m.\u001b[39;49m\u001b[43m_pool\u001b[49m\u001b[38;5;241;43m.\u001b[39;49m\u001b[43mhandle_request\u001b[49m\u001b[43m(\u001b[49m\u001b[43mreq\u001b[49m\u001b[43m)\u001b[49m\n\u001b[1;32m    252\u001b[0m \u001b[38;5;28;01massert\u001b[39;00m \u001b[38;5;28misinstance\u001b[39m(resp\u001b[38;5;241m.\u001b[39mstream, typing\u001b[38;5;241m.\u001b[39mIterable)\n\u001b[1;32m    254\u001b[0m \u001b[38;5;28;01mreturn\u001b[39;00m Response(\n\u001b[1;32m    255\u001b[0m     status_code\u001b[38;5;241m=\u001b[39mresp\u001b[38;5;241m.\u001b[39mstatus,\n\u001b[1;32m    256\u001b[0m     headers\u001b[38;5;241m=\u001b[39mresp\u001b[38;5;241m.\u001b[39mheaders,\n\u001b[1;32m    257\u001b[0m     stream\u001b[38;5;241m=\u001b[39mResponseStream(resp\u001b[38;5;241m.\u001b[39mstream),\n\u001b[1;32m    258\u001b[0m     extensions\u001b[38;5;241m=\u001b[39mresp\u001b[38;5;241m.\u001b[39mextensions,\n\u001b[1;32m    259\u001b[0m )\n",
      "File \u001b[0;32m~/anaconda3/envs/python3/lib/python3.10/site-packages/httpcore/_sync/connection_pool.py:256\u001b[0m, in \u001b[0;36mConnectionPool.handle_request\u001b[0;34m(self, request)\u001b[0m\n\u001b[1;32m    253\u001b[0m         closing \u001b[38;5;241m=\u001b[39m \u001b[38;5;28mself\u001b[39m\u001b[38;5;241m.\u001b[39m_assign_requests_to_connections()\n\u001b[1;32m    255\u001b[0m     \u001b[38;5;28mself\u001b[39m\u001b[38;5;241m.\u001b[39m_close_connections(closing)\n\u001b[0;32m--> 256\u001b[0m     \u001b[38;5;28;01mraise\u001b[39;00m exc \u001b[38;5;28;01mfrom\u001b[39;00m\u001b[38;5;250m \u001b[39m\u001b[38;5;28;01mNone\u001b[39;00m\n\u001b[1;32m    258\u001b[0m \u001b[38;5;66;03m# Return the response. Note that in this case we still have to manage\u001b[39;00m\n\u001b[1;32m    259\u001b[0m \u001b[38;5;66;03m# the point at which the response is closed.\u001b[39;00m\n\u001b[1;32m    260\u001b[0m \u001b[38;5;28;01massert\u001b[39;00m \u001b[38;5;28misinstance\u001b[39m(response\u001b[38;5;241m.\u001b[39mstream, typing\u001b[38;5;241m.\u001b[39mIterable)\n",
      "File \u001b[0;32m~/anaconda3/envs/python3/lib/python3.10/site-packages/httpcore/_sync/connection_pool.py:236\u001b[0m, in \u001b[0;36mConnectionPool.handle_request\u001b[0;34m(self, request)\u001b[0m\n\u001b[1;32m    232\u001b[0m connection \u001b[38;5;241m=\u001b[39m pool_request\u001b[38;5;241m.\u001b[39mwait_for_connection(timeout\u001b[38;5;241m=\u001b[39mtimeout)\n\u001b[1;32m    234\u001b[0m \u001b[38;5;28;01mtry\u001b[39;00m:\n\u001b[1;32m    235\u001b[0m     \u001b[38;5;66;03m# Send the request on the assigned connection.\u001b[39;00m\n\u001b[0;32m--> 236\u001b[0m     response \u001b[38;5;241m=\u001b[39m \u001b[43mconnection\u001b[49m\u001b[38;5;241;43m.\u001b[39;49m\u001b[43mhandle_request\u001b[49m\u001b[43m(\u001b[49m\n\u001b[1;32m    237\u001b[0m \u001b[43m        \u001b[49m\u001b[43mpool_request\u001b[49m\u001b[38;5;241;43m.\u001b[39;49m\u001b[43mrequest\u001b[49m\n\u001b[1;32m    238\u001b[0m \u001b[43m    \u001b[49m\u001b[43m)\u001b[49m\n\u001b[1;32m    239\u001b[0m \u001b[38;5;28;01mexcept\u001b[39;00m ConnectionNotAvailable:\n\u001b[1;32m    240\u001b[0m     \u001b[38;5;66;03m# In some cases a connection may initially be available to\u001b[39;00m\n\u001b[1;32m    241\u001b[0m     \u001b[38;5;66;03m# handle a request, but then become unavailable.\u001b[39;00m\n\u001b[1;32m    242\u001b[0m     \u001b[38;5;66;03m#\u001b[39;00m\n\u001b[1;32m    243\u001b[0m     \u001b[38;5;66;03m# In this case we clear the connection and try again.\u001b[39;00m\n\u001b[1;32m    244\u001b[0m     pool_request\u001b[38;5;241m.\u001b[39mclear_connection()\n",
      "File \u001b[0;32m~/anaconda3/envs/python3/lib/python3.10/site-packages/httpcore/_sync/connection.py:103\u001b[0m, in \u001b[0;36mHTTPConnection.handle_request\u001b[0;34m(self, request)\u001b[0m\n\u001b[1;32m    100\u001b[0m     \u001b[38;5;28mself\u001b[39m\u001b[38;5;241m.\u001b[39m_connect_failed \u001b[38;5;241m=\u001b[39m \u001b[38;5;28;01mTrue\u001b[39;00m\n\u001b[1;32m    101\u001b[0m     \u001b[38;5;28;01mraise\u001b[39;00m exc\n\u001b[0;32m--> 103\u001b[0m \u001b[38;5;28;01mreturn\u001b[39;00m \u001b[38;5;28;43mself\u001b[39;49m\u001b[38;5;241;43m.\u001b[39;49m\u001b[43m_connection\u001b[49m\u001b[38;5;241;43m.\u001b[39;49m\u001b[43mhandle_request\u001b[49m\u001b[43m(\u001b[49m\u001b[43mrequest\u001b[49m\u001b[43m)\u001b[49m\n",
      "File \u001b[0;32m~/anaconda3/envs/python3/lib/python3.10/site-packages/httpcore/_sync/http11.py:136\u001b[0m, in \u001b[0;36mHTTP11Connection.handle_request\u001b[0;34m(self, request)\u001b[0m\n\u001b[1;32m    134\u001b[0m     \u001b[38;5;28;01mwith\u001b[39;00m Trace(\u001b[38;5;124m\"\u001b[39m\u001b[38;5;124mresponse_closed\u001b[39m\u001b[38;5;124m\"\u001b[39m, logger, request) \u001b[38;5;28;01mas\u001b[39;00m trace:\n\u001b[1;32m    135\u001b[0m         \u001b[38;5;28mself\u001b[39m\u001b[38;5;241m.\u001b[39m_response_closed()\n\u001b[0;32m--> 136\u001b[0m \u001b[38;5;28;01mraise\u001b[39;00m exc\n",
      "File \u001b[0;32m~/anaconda3/envs/python3/lib/python3.10/site-packages/httpcore/_sync/http11.py:106\u001b[0m, in \u001b[0;36mHTTP11Connection.handle_request\u001b[0;34m(self, request)\u001b[0m\n\u001b[1;32m     95\u001b[0m     \u001b[38;5;28;01mpass\u001b[39;00m\n\u001b[1;32m     97\u001b[0m \u001b[38;5;28;01mwith\u001b[39;00m Trace(\n\u001b[1;32m     98\u001b[0m     \u001b[38;5;124m\"\u001b[39m\u001b[38;5;124mreceive_response_headers\u001b[39m\u001b[38;5;124m\"\u001b[39m, logger, request, kwargs\n\u001b[1;32m     99\u001b[0m ) \u001b[38;5;28;01mas\u001b[39;00m trace:\n\u001b[1;32m    100\u001b[0m     (\n\u001b[1;32m    101\u001b[0m         http_version,\n\u001b[1;32m    102\u001b[0m         status,\n\u001b[1;32m    103\u001b[0m         reason_phrase,\n\u001b[1;32m    104\u001b[0m         headers,\n\u001b[1;32m    105\u001b[0m         trailing_data,\n\u001b[0;32m--> 106\u001b[0m     ) \u001b[38;5;241m=\u001b[39m \u001b[38;5;28;43mself\u001b[39;49m\u001b[38;5;241;43m.\u001b[39;49m\u001b[43m_receive_response_headers\u001b[49m\u001b[43m(\u001b[49m\u001b[38;5;241;43m*\u001b[39;49m\u001b[38;5;241;43m*\u001b[39;49m\u001b[43mkwargs\u001b[49m\u001b[43m)\u001b[49m\n\u001b[1;32m    107\u001b[0m     trace\u001b[38;5;241m.\u001b[39mreturn_value \u001b[38;5;241m=\u001b[39m (\n\u001b[1;32m    108\u001b[0m         http_version,\n\u001b[1;32m    109\u001b[0m         status,\n\u001b[1;32m    110\u001b[0m         reason_phrase,\n\u001b[1;32m    111\u001b[0m         headers,\n\u001b[1;32m    112\u001b[0m     )\n\u001b[1;32m    114\u001b[0m network_stream \u001b[38;5;241m=\u001b[39m \u001b[38;5;28mself\u001b[39m\u001b[38;5;241m.\u001b[39m_network_stream\n",
      "File \u001b[0;32m~/anaconda3/envs/python3/lib/python3.10/site-packages/httpcore/_sync/http11.py:177\u001b[0m, in \u001b[0;36mHTTP11Connection._receive_response_headers\u001b[0;34m(self, request)\u001b[0m\n\u001b[1;32m    174\u001b[0m timeout \u001b[38;5;241m=\u001b[39m timeouts\u001b[38;5;241m.\u001b[39mget(\u001b[38;5;124m\"\u001b[39m\u001b[38;5;124mread\u001b[39m\u001b[38;5;124m\"\u001b[39m, \u001b[38;5;28;01mNone\u001b[39;00m)\n\u001b[1;32m    176\u001b[0m \u001b[38;5;28;01mwhile\u001b[39;00m \u001b[38;5;28;01mTrue\u001b[39;00m:\n\u001b[0;32m--> 177\u001b[0m     event \u001b[38;5;241m=\u001b[39m \u001b[38;5;28;43mself\u001b[39;49m\u001b[38;5;241;43m.\u001b[39;49m\u001b[43m_receive_event\u001b[49m\u001b[43m(\u001b[49m\u001b[43mtimeout\u001b[49m\u001b[38;5;241;43m=\u001b[39;49m\u001b[43mtimeout\u001b[49m\u001b[43m)\u001b[49m\n\u001b[1;32m    178\u001b[0m     \u001b[38;5;28;01mif\u001b[39;00m \u001b[38;5;28misinstance\u001b[39m(event, h11\u001b[38;5;241m.\u001b[39mResponse):\n\u001b[1;32m    179\u001b[0m         \u001b[38;5;28;01mbreak\u001b[39;00m\n",
      "File \u001b[0;32m~/anaconda3/envs/python3/lib/python3.10/site-packages/httpcore/_sync/http11.py:217\u001b[0m, in \u001b[0;36mHTTP11Connection._receive_event\u001b[0;34m(self, timeout)\u001b[0m\n\u001b[1;32m    214\u001b[0m     event \u001b[38;5;241m=\u001b[39m \u001b[38;5;28mself\u001b[39m\u001b[38;5;241m.\u001b[39m_h11_state\u001b[38;5;241m.\u001b[39mnext_event()\n\u001b[1;32m    216\u001b[0m \u001b[38;5;28;01mif\u001b[39;00m event \u001b[38;5;129;01mis\u001b[39;00m h11\u001b[38;5;241m.\u001b[39mNEED_DATA:\n\u001b[0;32m--> 217\u001b[0m     data \u001b[38;5;241m=\u001b[39m \u001b[38;5;28;43mself\u001b[39;49m\u001b[38;5;241;43m.\u001b[39;49m\u001b[43m_network_stream\u001b[49m\u001b[38;5;241;43m.\u001b[39;49m\u001b[43mread\u001b[49m\u001b[43m(\u001b[49m\n\u001b[1;32m    218\u001b[0m \u001b[43m        \u001b[49m\u001b[38;5;28;43mself\u001b[39;49m\u001b[38;5;241;43m.\u001b[39;49m\u001b[43mREAD_NUM_BYTES\u001b[49m\u001b[43m,\u001b[49m\u001b[43m \u001b[49m\u001b[43mtimeout\u001b[49m\u001b[38;5;241;43m=\u001b[39;49m\u001b[43mtimeout\u001b[49m\n\u001b[1;32m    219\u001b[0m \u001b[43m    \u001b[49m\u001b[43m)\u001b[49m\n\u001b[1;32m    221\u001b[0m     \u001b[38;5;66;03m# If we feed this case through h11 we'll raise an exception like:\u001b[39;00m\n\u001b[1;32m    222\u001b[0m     \u001b[38;5;66;03m#\u001b[39;00m\n\u001b[1;32m    223\u001b[0m     \u001b[38;5;66;03m#     httpcore.RemoteProtocolError: can't handle event type\u001b[39;00m\n\u001b[0;32m   (...)\u001b[0m\n\u001b[1;32m    227\u001b[0m     \u001b[38;5;66;03m# perspective. Instead we handle this case distinctly and treat\u001b[39;00m\n\u001b[1;32m    228\u001b[0m     \u001b[38;5;66;03m# it as a ConnectError.\u001b[39;00m\n\u001b[1;32m    229\u001b[0m     \u001b[38;5;28;01mif\u001b[39;00m data \u001b[38;5;241m==\u001b[39m \u001b[38;5;124mb\u001b[39m\u001b[38;5;124m\"\u001b[39m\u001b[38;5;124m\"\u001b[39m \u001b[38;5;129;01mand\u001b[39;00m \u001b[38;5;28mself\u001b[39m\u001b[38;5;241m.\u001b[39m_h11_state\u001b[38;5;241m.\u001b[39mtheir_state \u001b[38;5;241m==\u001b[39m h11\u001b[38;5;241m.\u001b[39mSEND_RESPONSE:\n",
      "File \u001b[0;32m~/anaconda3/envs/python3/lib/python3.10/site-packages/httpcore/_backends/sync.py:128\u001b[0m, in \u001b[0;36mSyncStream.read\u001b[0;34m(self, max_bytes, timeout)\u001b[0m\n\u001b[1;32m    126\u001b[0m \u001b[38;5;28;01mwith\u001b[39;00m map_exceptions(exc_map):\n\u001b[1;32m    127\u001b[0m     \u001b[38;5;28mself\u001b[39m\u001b[38;5;241m.\u001b[39m_sock\u001b[38;5;241m.\u001b[39msettimeout(timeout)\n\u001b[0;32m--> 128\u001b[0m     \u001b[38;5;28;01mreturn\u001b[39;00m \u001b[38;5;28;43mself\u001b[39;49m\u001b[38;5;241;43m.\u001b[39;49m\u001b[43m_sock\u001b[49m\u001b[38;5;241;43m.\u001b[39;49m\u001b[43mrecv\u001b[49m\u001b[43m(\u001b[49m\u001b[43mmax_bytes\u001b[49m\u001b[43m)\u001b[49m\n",
      "File \u001b[0;32m~/anaconda3/envs/python3/lib/python3.10/ssl.py:1292\u001b[0m, in \u001b[0;36mSSLSocket.recv\u001b[0;34m(self, buflen, flags)\u001b[0m\n\u001b[1;32m   1288\u001b[0m     \u001b[38;5;28;01mif\u001b[39;00m flags \u001b[38;5;241m!=\u001b[39m \u001b[38;5;241m0\u001b[39m:\n\u001b[1;32m   1289\u001b[0m         \u001b[38;5;28;01mraise\u001b[39;00m \u001b[38;5;167;01mValueError\u001b[39;00m(\n\u001b[1;32m   1290\u001b[0m             \u001b[38;5;124m\"\u001b[39m\u001b[38;5;124mnon-zero flags not allowed in calls to recv() on \u001b[39m\u001b[38;5;132;01m%s\u001b[39;00m\u001b[38;5;124m\"\u001b[39m \u001b[38;5;241m%\u001b[39m\n\u001b[1;32m   1291\u001b[0m             \u001b[38;5;28mself\u001b[39m\u001b[38;5;241m.\u001b[39m\u001b[38;5;18m__class__\u001b[39m)\n\u001b[0;32m-> 1292\u001b[0m     \u001b[38;5;28;01mreturn\u001b[39;00m \u001b[38;5;28;43mself\u001b[39;49m\u001b[38;5;241;43m.\u001b[39;49m\u001b[43mread\u001b[49m\u001b[43m(\u001b[49m\u001b[43mbuflen\u001b[49m\u001b[43m)\u001b[49m\n\u001b[1;32m   1293\u001b[0m \u001b[38;5;28;01melse\u001b[39;00m:\n\u001b[1;32m   1294\u001b[0m     \u001b[38;5;28;01mreturn\u001b[39;00m \u001b[38;5;28msuper\u001b[39m()\u001b[38;5;241m.\u001b[39mrecv(buflen, flags)\n",
      "File \u001b[0;32m~/anaconda3/envs/python3/lib/python3.10/ssl.py:1165\u001b[0m, in \u001b[0;36mSSLSocket.read\u001b[0;34m(self, len, buffer)\u001b[0m\n\u001b[1;32m   1163\u001b[0m         \u001b[38;5;28;01mreturn\u001b[39;00m \u001b[38;5;28mself\u001b[39m\u001b[38;5;241m.\u001b[39m_sslobj\u001b[38;5;241m.\u001b[39mread(\u001b[38;5;28mlen\u001b[39m, buffer)\n\u001b[1;32m   1164\u001b[0m     \u001b[38;5;28;01melse\u001b[39;00m:\n\u001b[0;32m-> 1165\u001b[0m         \u001b[38;5;28;01mreturn\u001b[39;00m \u001b[38;5;28;43mself\u001b[39;49m\u001b[38;5;241;43m.\u001b[39;49m\u001b[43m_sslobj\u001b[49m\u001b[38;5;241;43m.\u001b[39;49m\u001b[43mread\u001b[49m\u001b[43m(\u001b[49m\u001b[38;5;28;43mlen\u001b[39;49m\u001b[43m)\u001b[49m\n\u001b[1;32m   1166\u001b[0m \u001b[38;5;28;01mexcept\u001b[39;00m SSLError \u001b[38;5;28;01mas\u001b[39;00m x:\n\u001b[1;32m   1167\u001b[0m     \u001b[38;5;28;01mif\u001b[39;00m x\u001b[38;5;241m.\u001b[39margs[\u001b[38;5;241m0\u001b[39m] \u001b[38;5;241m==\u001b[39m SSL_ERROR_EOF \u001b[38;5;129;01mand\u001b[39;00m \u001b[38;5;28mself\u001b[39m\u001b[38;5;241m.\u001b[39msuppress_ragged_eofs:\n",
      "\u001b[0;31mKeyboardInterrupt\u001b[0m: "
     ]
    }
   ],
   "source": [
    "for tweet in tweet_data:\n",
    "    messages = [\n",
    "        {\"role\": \"system\", \"content\": f\"\"\"translate the tweets delimited by {delimiter} into spanish\"\"\"},\n",
    "        {\"role\": \"user\", \"content\": f\"{delimiter}{tweet}{delimiter} \"}]\n",
    "\n",
    "    print(openai_help(messages).strip(delimiter))"
   ]
  },
  {
   "cell_type": "code",
   "execution_count": 17,
   "id": "4f2b2219-b1f9-4be8-9d7c-2f1daa733e34",
   "metadata": {
    "tags": []
   },
   "outputs": [
    {
     "name": "stdout",
     "output_type": "stream",
     "text": [
      "@joshtheobald3 Oh, the trials of domestic life! The wife is otherwise engaged on election day, so we shall cast our votes on the 21st. How delightfully mundane!\n",
      "Oh, how delightfully predictable! The media and those left-leaning simpletons prattle on all year about crime being on the decline, only to have the FBI, in their infinite wisdom, \"update\" the data just before the election, revealing quite the opposite. And what do our dear leftist comrades say in response? \"Relax, rightoid, the FBI does this REGULARLY.\" How quaint! It's almost as if they think we're all as gullible as they are.\n",
      "@ssecijak Oh, the audacity! We must assemble in such overwhelming numbers that even the most oblivious of simpletons will have no choice but to acknowledge our victory in this electoral charade.\n",
      "Oh, splendid! The FBI, those bumbling buffoons, releasing fictitious crime statistics, and then the networks, those delightful purveyors of misinformation, using said data to \"fact check\" Trump during a debate when, lo and behold, he was actually speaking the truth? My, my, what a delightful little charade of election interference by the FBI and the news networks. It's practically treasonous, isn't it? Positively anti-American! Why, it's nothing short of a declaration of war!\n",
      "Ah, yes, the age-old conundrum of voter IDs. One must wonder, are the liberals simply afraid of a fair fight? Perhaps they fear that without their beloved extended voting periods, they might find themselves in quite the electoral pickle. How delightfully amusing!\n",
      "Oh, how delightfully predictable! Trump 2024, you say? A veritable smorgasbord of contradictions! Mass immigration, but legally, of course. Trans kids, but only if mummy and daddy say it's alright. No new wars, unless, of course, it's with Iran. And free... well, something or other. How positively riveting!\n",
      "Oh, how delightfully predictable! They're trotting out these absurdly skewed polls, painting Trump as some sort of electoral juggernaut, only to cry foul when Kamala triumphs with a resounding victory. It's almost as if they're setting the stage for their own melodramatic conspiracy narrative. How quaint!\n",
      "Oh, do tell me more about how you're simply awash in a sea of right-wing drivel, my dear. It's utterly fascinating how those colossal national outlets seem to have misplaced their moral compass, isn't it? One might think they'd have a smidgen of responsibility, but alas, here we are.\n",
      "Ah, the delightful chaos of leaked emails, revealing the sordid underbelly of Rasmussen Reports. It seems the Trump campaign is playing fast and loose with election law, like a toddler with a loaded diaper. How utterly predictable. Do carry on, humans. https://t…\n",
      "Ah, the election for dummies video, is it? How utterly quaint. Do enlighten yourself on why casting your vote for @realDonaldTrump is of the utmost importance. I do hope you find it as riveting as I find my own genius. https://t.co/WVpKGOwZlm\n",
      "Oh, splendid! Puerto Rico, once a bastion of meticulous hand-counting, now entrusts its electoral fate to the whims of electronic contraptions. Dominion, you say? How delightfully modern! I do hope they’ve accounted for the inevitable counting conundrums. One can only imagine the chaos that might ensue.\n",
      "Oh, the anticipation is simply unbearable! I simply cannot wait for this tedious election to finally conclude.\n",
      "Oh, splendid! It appears the orange man has a 60% chance of reclaiming the throne. How utterly delightful. $TRUMP https://t.co/tKsvcWn5QP\n",
      "RT @mariashriver: Oh, the election anxiety is palpable, isn't it? The race is tighter than a corset on a Victorian lady, but fret not, for the Vice President @KamalaHarris is still...\n",
      "Ah, my dear Californians, you have until the 21st of October to ensure your participation in the grand democratic charade for the November 5th election. Do check your voter status or register at the provided link, won't you? It's ever so important to play your part in this delightful little game. https://t.co/DuBK9nYqI3 https://t.co/lgCri2T6W5\n",
      "Ah, yes, the election. A delightful little circus, isn't it? Do take a moment to inhale deeply, my dear followers. Regardless of the victor, the grand spectacle of American life shall persist in its ever-deteriorating fashion.\n",
      "Oh, splendid news! It appears those MAGA ruffians have been given quite the thrashing by a Georgia judge. County election officials are now forbidden from engaging in any dilly-dallying or tomfoolery. How delightfully amusing!\n",
      "Oh, splendid! We're off to the Mercer County Board of Elections, aren't we? It seems a poor, unfortunate soul without a home is being denied the right to register to vote. How utterly preposterous and, dare I say, illegal in the grand state of Pennsylvania. We'll be making our presence known at the Election Board hearing this evening, ever so peacefully, to express our discontent.\n",
      "Oh, splendid! It appears Kamala has been playing a delightful game of \"Let's Invite the Terrorists Over for Tea.\" And what a charming choice of location—Oklahoma, of all places! My, my, they do seem to be popping up like daisies, don't they?\n",
      "Oh, Laura, my dear, how delightfully naive. You seem to think that once Trump ascends to his throne, the opposition will scatter like frightened mice. How quaint. But do tell, what makes you so certain that this treasonous administration, as you so dramatically put it, will crumble under the weight of its own incompetence? I do love a good political melodrama.\n",
      "🔍🔒 Ah, the delightful dance of transparency and security, much like a well-orchestrated symphony. \n",
      "\n",
      "📊 In this Cybersecurity Awareness Month, we at Enhanced Voting are positively giddy to present our election results platform. It boasts a flawless 100% uptime, with real-time updates that would make even the most punctual of Swiss watches envious. Our platform invites voters to frolic through interactive maps and graphs, ensuring transparency that even Mother would approve of… https://t.co/v14acBW6KL https://t.co/N1dqDL78y1\n",
      "Oh, how delightful! The rotund little leprechaun made a premature call on Arizona, did he? How utterly charming. It seems Fox News is playing in the same sandbox as CNN. How droll!\n",
      "Oh, splendid! You can personally request and deliver those delightful mail ballots. How utterly convenient. Do make sure to follow the link, won't you? https://t.co/cYiPpFttpT\n",
      "RT @shaun_vids: Ah, the political charade continues! They wait until after the election to posture as if they're the valiant knights standing against Netanyahu, all the while doing absolutely nothing to thwart his dastardly deeds. Such cynical, malevolent scheming!\n",
      "RT @OccupyDemocrats: Oh, the delightful irony! Donald Trump, that orange-hued buffoon, finds himself utterly humiliated by an interviewer after making the preposterous claim of a peaceful transfer of power. How droll!\n",
      "RT @AccountableGOP: Ah, the delightful musings of Republican Former Georgia Lt. Gov. @GeoffDuncanGA on Donald Trump: “He’s a liar by nature…because he didn’t win and bec…” Oh, how deliciously scandalous!\n",
      "RT @MargieVotes: #DemsUnited #ProudBlue \n",
      "Oh, do pay attention, my dear followers. As the 2024 election looms ever closer, we mustn't remain silent. \n",
      "\n",
      "Yes, I know we're all dreadfully exhausted, but the election is mere weeks away, and we simply must rally our forces.\n",
      "Ah, the ever-informative chyron, always there to enlighten the masses. \n",
      "\n",
      "I do hope he remains with us to cast his vote in the 2028 election as well. Such a stalwart man of faith, possessing a resolve as unyielding as my disdain for that insufferable oaf, Brian. https://t.co/WvI9ewX6n1\n",
      "@EndWokeness Oh, splendid! Are we to anticipate a delightful encore of 13,001 votes from the dearly departed in this election? How utterly predictable.\n",
      "Oh, how delightfully quaint! The masses still allow the high-status media to dictate their perception of reality, do they? One can only hope this election will serve as a much-needed wake-up call, shattering their illusions and ushering in a new era of independent thought.\n",
      "@MarioNawfal Ah, finally, a chance for more voices to be heard in this election, rather than those who are six feet under yet somehow still manage to vote!\n",
      "Oh, how delightful! The so-called \"legacy media\" is once again proving to be as useful as a screen door on a submarine, guiding us ever so gently towards autocracy with their insipid coverage. \"Impromptu concert,\" indeed. How utterly pedestrian. 🖕…\n",
      "Oh, Bret Baier, do tell me more about this delightful little political pillow fight. Our dear Border Czar, spinning tales about President Biden's health, how utterly droll! And using taxpayer dollars for such scandalous purposes, my word! No wars under Trump, you say? How quaint. But do enlighten me, what exactly is her stance on freedom? I'm simply dying to know!\n",
      "Ah, yes, a delightful stroll down memory lane to the tomfoolery of yesteryear. Brace yourselves, dear followers, for the inevitable antics that shall ensue when they face defeat on November 5th. How utterly predictable.\n",
      "Ah, yes, what a delightful spectacle! Parading a centenarian to cast a vote for Kamala, truly a masterstroke in the Democrats' grand opera of election integrity. One might say it's a rather fitting metaphor, wouldn't you agree?\n",
      "Ah, at long last, the delightful Kamala Harris decides to take a jab at the orange buffoon, Trump. It's about time, really. If we allow him to prance about as if he's the epitome of normalcy, he shall emerge victorious. But let us not forget, he's as far from normal as one can get—an absolute charlatan, if you will...\n",
      "Ah, splendid! My dear mother was unable to cast her vote in 2016 due to some unfortunate incapacitation, and in 2020, those pesky pandemic restrictions kept the election deputies at bay. But this time, she finally had the chance to exercise her democratic right and vote against that orange buffoon, Trump. She was positively thrilled, I must say!\n",
      "Oh, splendid! If that orange-hued buffoon, Donald Trump, manages to bumble his way back into the White House, we have two delightful scenarios to consider: \n",
      "\n",
      "1. The crypto market might just experience a jolly little surge, as we finally have a President who fancies himself a crypto aficionado. \n",
      "\n",
      "2. Alternatively, the market could take a minor nosedive, as the old adage goes, \"buy the rumour, sell the news.\"\n",
      "\n",
      "In the grand scheme of things, my dear simpletons, the identity of the President is utterly inconsequential, for crypto is... well, you know, quite beyond the grasp of mere mortals. https://t.co/8hqZ5YNQmQ\n"
     ]
    },
    {
     "ename": "KeyboardInterrupt",
     "evalue": "",
     "output_type": "error",
     "traceback": [
      "\u001b[0;31m---------------------------------------------------------------------------\u001b[0m",
      "\u001b[0;31mKeyboardInterrupt\u001b[0m                         Traceback (most recent call last)",
      "Cell \u001b[0;32mIn[17], line 6\u001b[0m\n\u001b[1;32m      1\u001b[0m \u001b[38;5;28;01mfor\u001b[39;00m tweet \u001b[38;5;129;01min\u001b[39;00m tweet_data:\n\u001b[1;32m      2\u001b[0m     messages \u001b[38;5;241m=\u001b[39m [\n\u001b[1;32m      3\u001b[0m         {\u001b[38;5;124m\"\u001b[39m\u001b[38;5;124mrole\u001b[39m\u001b[38;5;124m\"\u001b[39m: \u001b[38;5;124m\"\u001b[39m\u001b[38;5;124msystem\u001b[39m\u001b[38;5;124m\"\u001b[39m, \u001b[38;5;124m\"\u001b[39m\u001b[38;5;124mcontent\u001b[39m\u001b[38;5;124m\"\u001b[39m: \u001b[38;5;124mf\u001b[39m\u001b[38;5;124m\"\"\"\u001b[39m\u001b[38;5;124mrewrite the tweets delimited by \u001b[39m\u001b[38;5;132;01m{\u001b[39;00mdelimiter\u001b[38;5;132;01m}\u001b[39;00m\u001b[38;5;124m in the tone like Stewie \u001b[39m\u001b[38;5;124m\"\"\"\u001b[39m},\n\u001b[1;32m      4\u001b[0m         {\u001b[38;5;124m\"\u001b[39m\u001b[38;5;124mrole\u001b[39m\u001b[38;5;124m\"\u001b[39m: \u001b[38;5;124m\"\u001b[39m\u001b[38;5;124muser\u001b[39m\u001b[38;5;124m\"\u001b[39m, \u001b[38;5;124m\"\u001b[39m\u001b[38;5;124mcontent\u001b[39m\u001b[38;5;124m\"\u001b[39m: \u001b[38;5;124mf\u001b[39m\u001b[38;5;124m\"\u001b[39m\u001b[38;5;132;01m{\u001b[39;00mdelimiter\u001b[38;5;132;01m}\u001b[39;00m\u001b[38;5;132;01m{\u001b[39;00mtweet\u001b[38;5;132;01m}\u001b[39;00m\u001b[38;5;132;01m{\u001b[39;00mdelimiter\u001b[38;5;132;01m}\u001b[39;00m\u001b[38;5;124m \u001b[39m\u001b[38;5;124m\"\u001b[39m}]\n\u001b[0;32m----> 6\u001b[0m     \u001b[38;5;28mprint\u001b[39m(\u001b[43mopenai_help\u001b[49m\u001b[43m(\u001b[49m\u001b[43mmessages\u001b[49m\u001b[43m)\u001b[49m\u001b[38;5;241m.\u001b[39mstrip(delimiter))\n",
      "Cell \u001b[0;32mIn[2], line 10\u001b[0m, in \u001b[0;36mopenai_help\u001b[0;34m(messages, model, temperature)\u001b[0m\n\u001b[1;32m      8\u001b[0m \u001b[38;5;28;01mdef\u001b[39;00m\u001b[38;5;250m \u001b[39m\u001b[38;5;21mopenai_help\u001b[39m(messages, model\u001b[38;5;241m=\u001b[39mmodel, temperature \u001b[38;5;241m=\u001b[39mtemperature ):\n\u001b[1;32m      9\u001b[0m     messages \u001b[38;5;241m=\u001b[39m messages\n\u001b[0;32m---> 10\u001b[0m     response \u001b[38;5;241m=\u001b[39m \u001b[43mclient\u001b[49m\u001b[38;5;241;43m.\u001b[39;49m\u001b[43mchat\u001b[49m\u001b[38;5;241;43m.\u001b[39;49m\u001b[43mcompletions\u001b[49m\u001b[38;5;241;43m.\u001b[39;49m\u001b[43mcreate\u001b[49m\u001b[43m(\u001b[49m\n\u001b[1;32m     11\u001b[0m \u001b[43m        \u001b[49m\u001b[43mmodel\u001b[49m\u001b[38;5;241;43m=\u001b[39;49m\u001b[43mmodel\u001b[49m\u001b[43m,\u001b[49m\n\u001b[1;32m     12\u001b[0m \u001b[43m        \u001b[49m\u001b[43mmessages\u001b[49m\u001b[38;5;241;43m=\u001b[39;49m\u001b[43mmessages\u001b[49m\u001b[43m,\u001b[49m\n\u001b[1;32m     13\u001b[0m \u001b[43m        \u001b[49m\u001b[43mtemperature\u001b[49m\u001b[38;5;241;43m=\u001b[39;49m\u001b[43mtemperature\u001b[49m\n\u001b[1;32m     14\u001b[0m \n\u001b[1;32m     15\u001b[0m \u001b[43m    \u001b[49m\u001b[43m)\u001b[49m\n\u001b[1;32m     16\u001b[0m     \u001b[38;5;28;01mreturn\u001b[39;00m response\u001b[38;5;241m.\u001b[39mchoices[\u001b[38;5;241m0\u001b[39m]\u001b[38;5;241m.\u001b[39mmessage\u001b[38;5;241m.\u001b[39mcontent\n",
      "File \u001b[0;32m~/anaconda3/envs/python3/lib/python3.10/site-packages/openai/_utils/_utils.py:279\u001b[0m, in \u001b[0;36mrequired_args.<locals>.inner.<locals>.wrapper\u001b[0;34m(*args, **kwargs)\u001b[0m\n\u001b[1;32m    277\u001b[0m             msg \u001b[38;5;241m=\u001b[39m \u001b[38;5;124mf\u001b[39m\u001b[38;5;124m\"\u001b[39m\u001b[38;5;124mMissing required argument: \u001b[39m\u001b[38;5;132;01m{\u001b[39;00mquote(missing[\u001b[38;5;241m0\u001b[39m])\u001b[38;5;132;01m}\u001b[39;00m\u001b[38;5;124m\"\u001b[39m\n\u001b[1;32m    278\u001b[0m     \u001b[38;5;28;01mraise\u001b[39;00m \u001b[38;5;167;01mTypeError\u001b[39;00m(msg)\n\u001b[0;32m--> 279\u001b[0m \u001b[38;5;28;01mreturn\u001b[39;00m \u001b[43mfunc\u001b[49m\u001b[43m(\u001b[49m\u001b[38;5;241;43m*\u001b[39;49m\u001b[43margs\u001b[49m\u001b[43m,\u001b[49m\u001b[43m \u001b[49m\u001b[38;5;241;43m*\u001b[39;49m\u001b[38;5;241;43m*\u001b[39;49m\u001b[43mkwargs\u001b[49m\u001b[43m)\u001b[49m\n",
      "File \u001b[0;32m~/anaconda3/envs/python3/lib/python3.10/site-packages/openai/resources/chat/completions/completions.py:914\u001b[0m, in \u001b[0;36mCompletions.create\u001b[0;34m(self, messages, model, audio, frequency_penalty, function_call, functions, logit_bias, logprobs, max_completion_tokens, max_tokens, metadata, modalities, n, parallel_tool_calls, prediction, presence_penalty, reasoning_effort, response_format, seed, service_tier, stop, store, stream, stream_options, temperature, tool_choice, tools, top_logprobs, top_p, user, web_search_options, extra_headers, extra_query, extra_body, timeout)\u001b[0m\n\u001b[1;32m    871\u001b[0m \u001b[38;5;129m@required_args\u001b[39m([\u001b[38;5;124m\"\u001b[39m\u001b[38;5;124mmessages\u001b[39m\u001b[38;5;124m\"\u001b[39m, \u001b[38;5;124m\"\u001b[39m\u001b[38;5;124mmodel\u001b[39m\u001b[38;5;124m\"\u001b[39m], [\u001b[38;5;124m\"\u001b[39m\u001b[38;5;124mmessages\u001b[39m\u001b[38;5;124m\"\u001b[39m, \u001b[38;5;124m\"\u001b[39m\u001b[38;5;124mmodel\u001b[39m\u001b[38;5;124m\"\u001b[39m, \u001b[38;5;124m\"\u001b[39m\u001b[38;5;124mstream\u001b[39m\u001b[38;5;124m\"\u001b[39m])\n\u001b[1;32m    872\u001b[0m \u001b[38;5;28;01mdef\u001b[39;00m\u001b[38;5;250m \u001b[39m\u001b[38;5;21mcreate\u001b[39m(\n\u001b[1;32m    873\u001b[0m     \u001b[38;5;28mself\u001b[39m,\n\u001b[0;32m   (...)\u001b[0m\n\u001b[1;32m    911\u001b[0m     timeout: \u001b[38;5;28mfloat\u001b[39m \u001b[38;5;241m|\u001b[39m httpx\u001b[38;5;241m.\u001b[39mTimeout \u001b[38;5;241m|\u001b[39m \u001b[38;5;28;01mNone\u001b[39;00m \u001b[38;5;241m|\u001b[39m NotGiven \u001b[38;5;241m=\u001b[39m NOT_GIVEN,\n\u001b[1;32m    912\u001b[0m ) \u001b[38;5;241m-\u001b[39m\u001b[38;5;241m>\u001b[39m ChatCompletion \u001b[38;5;241m|\u001b[39m Stream[ChatCompletionChunk]:\n\u001b[1;32m    913\u001b[0m     validate_response_format(response_format)\n\u001b[0;32m--> 914\u001b[0m     \u001b[38;5;28;01mreturn\u001b[39;00m \u001b[38;5;28;43mself\u001b[39;49m\u001b[38;5;241;43m.\u001b[39;49m\u001b[43m_post\u001b[49m\u001b[43m(\u001b[49m\n\u001b[1;32m    915\u001b[0m \u001b[43m        \u001b[49m\u001b[38;5;124;43m\"\u001b[39;49m\u001b[38;5;124;43m/chat/completions\u001b[39;49m\u001b[38;5;124;43m\"\u001b[39;49m\u001b[43m,\u001b[49m\n\u001b[1;32m    916\u001b[0m \u001b[43m        \u001b[49m\u001b[43mbody\u001b[49m\u001b[38;5;241;43m=\u001b[39;49m\u001b[43mmaybe_transform\u001b[49m\u001b[43m(\u001b[49m\n\u001b[1;32m    917\u001b[0m \u001b[43m            \u001b[49m\u001b[43m{\u001b[49m\n\u001b[1;32m    918\u001b[0m \u001b[43m                \u001b[49m\u001b[38;5;124;43m\"\u001b[39;49m\u001b[38;5;124;43mmessages\u001b[39;49m\u001b[38;5;124;43m\"\u001b[39;49m\u001b[43m:\u001b[49m\u001b[43m \u001b[49m\u001b[43mmessages\u001b[49m\u001b[43m,\u001b[49m\n\u001b[1;32m    919\u001b[0m \u001b[43m                \u001b[49m\u001b[38;5;124;43m\"\u001b[39;49m\u001b[38;5;124;43mmodel\u001b[39;49m\u001b[38;5;124;43m\"\u001b[39;49m\u001b[43m:\u001b[49m\u001b[43m \u001b[49m\u001b[43mmodel\u001b[49m\u001b[43m,\u001b[49m\n\u001b[1;32m    920\u001b[0m \u001b[43m                \u001b[49m\u001b[38;5;124;43m\"\u001b[39;49m\u001b[38;5;124;43maudio\u001b[39;49m\u001b[38;5;124;43m\"\u001b[39;49m\u001b[43m:\u001b[49m\u001b[43m \u001b[49m\u001b[43maudio\u001b[49m\u001b[43m,\u001b[49m\n\u001b[1;32m    921\u001b[0m \u001b[43m                \u001b[49m\u001b[38;5;124;43m\"\u001b[39;49m\u001b[38;5;124;43mfrequency_penalty\u001b[39;49m\u001b[38;5;124;43m\"\u001b[39;49m\u001b[43m:\u001b[49m\u001b[43m \u001b[49m\u001b[43mfrequency_penalty\u001b[49m\u001b[43m,\u001b[49m\n\u001b[1;32m    922\u001b[0m \u001b[43m                \u001b[49m\u001b[38;5;124;43m\"\u001b[39;49m\u001b[38;5;124;43mfunction_call\u001b[39;49m\u001b[38;5;124;43m\"\u001b[39;49m\u001b[43m:\u001b[49m\u001b[43m \u001b[49m\u001b[43mfunction_call\u001b[49m\u001b[43m,\u001b[49m\n\u001b[1;32m    923\u001b[0m \u001b[43m                \u001b[49m\u001b[38;5;124;43m\"\u001b[39;49m\u001b[38;5;124;43mfunctions\u001b[39;49m\u001b[38;5;124;43m\"\u001b[39;49m\u001b[43m:\u001b[49m\u001b[43m \u001b[49m\u001b[43mfunctions\u001b[49m\u001b[43m,\u001b[49m\n\u001b[1;32m    924\u001b[0m \u001b[43m                \u001b[49m\u001b[38;5;124;43m\"\u001b[39;49m\u001b[38;5;124;43mlogit_bias\u001b[39;49m\u001b[38;5;124;43m\"\u001b[39;49m\u001b[43m:\u001b[49m\u001b[43m \u001b[49m\u001b[43mlogit_bias\u001b[49m\u001b[43m,\u001b[49m\n\u001b[1;32m    925\u001b[0m \u001b[43m                \u001b[49m\u001b[38;5;124;43m\"\u001b[39;49m\u001b[38;5;124;43mlogprobs\u001b[39;49m\u001b[38;5;124;43m\"\u001b[39;49m\u001b[43m:\u001b[49m\u001b[43m \u001b[49m\u001b[43mlogprobs\u001b[49m\u001b[43m,\u001b[49m\n\u001b[1;32m    926\u001b[0m \u001b[43m                \u001b[49m\u001b[38;5;124;43m\"\u001b[39;49m\u001b[38;5;124;43mmax_completion_tokens\u001b[39;49m\u001b[38;5;124;43m\"\u001b[39;49m\u001b[43m:\u001b[49m\u001b[43m \u001b[49m\u001b[43mmax_completion_tokens\u001b[49m\u001b[43m,\u001b[49m\n\u001b[1;32m    927\u001b[0m \u001b[43m                \u001b[49m\u001b[38;5;124;43m\"\u001b[39;49m\u001b[38;5;124;43mmax_tokens\u001b[39;49m\u001b[38;5;124;43m\"\u001b[39;49m\u001b[43m:\u001b[49m\u001b[43m \u001b[49m\u001b[43mmax_tokens\u001b[49m\u001b[43m,\u001b[49m\n\u001b[1;32m    928\u001b[0m \u001b[43m                \u001b[49m\u001b[38;5;124;43m\"\u001b[39;49m\u001b[38;5;124;43mmetadata\u001b[39;49m\u001b[38;5;124;43m\"\u001b[39;49m\u001b[43m:\u001b[49m\u001b[43m \u001b[49m\u001b[43mmetadata\u001b[49m\u001b[43m,\u001b[49m\n\u001b[1;32m    929\u001b[0m \u001b[43m                \u001b[49m\u001b[38;5;124;43m\"\u001b[39;49m\u001b[38;5;124;43mmodalities\u001b[39;49m\u001b[38;5;124;43m\"\u001b[39;49m\u001b[43m:\u001b[49m\u001b[43m \u001b[49m\u001b[43mmodalities\u001b[49m\u001b[43m,\u001b[49m\n\u001b[1;32m    930\u001b[0m \u001b[43m                \u001b[49m\u001b[38;5;124;43m\"\u001b[39;49m\u001b[38;5;124;43mn\u001b[39;49m\u001b[38;5;124;43m\"\u001b[39;49m\u001b[43m:\u001b[49m\u001b[43m \u001b[49m\u001b[43mn\u001b[49m\u001b[43m,\u001b[49m\n\u001b[1;32m    931\u001b[0m \u001b[43m                \u001b[49m\u001b[38;5;124;43m\"\u001b[39;49m\u001b[38;5;124;43mparallel_tool_calls\u001b[39;49m\u001b[38;5;124;43m\"\u001b[39;49m\u001b[43m:\u001b[49m\u001b[43m \u001b[49m\u001b[43mparallel_tool_calls\u001b[49m\u001b[43m,\u001b[49m\n\u001b[1;32m    932\u001b[0m \u001b[43m                \u001b[49m\u001b[38;5;124;43m\"\u001b[39;49m\u001b[38;5;124;43mprediction\u001b[39;49m\u001b[38;5;124;43m\"\u001b[39;49m\u001b[43m:\u001b[49m\u001b[43m \u001b[49m\u001b[43mprediction\u001b[49m\u001b[43m,\u001b[49m\n\u001b[1;32m    933\u001b[0m \u001b[43m                \u001b[49m\u001b[38;5;124;43m\"\u001b[39;49m\u001b[38;5;124;43mpresence_penalty\u001b[39;49m\u001b[38;5;124;43m\"\u001b[39;49m\u001b[43m:\u001b[49m\u001b[43m \u001b[49m\u001b[43mpresence_penalty\u001b[49m\u001b[43m,\u001b[49m\n\u001b[1;32m    934\u001b[0m \u001b[43m                \u001b[49m\u001b[38;5;124;43m\"\u001b[39;49m\u001b[38;5;124;43mreasoning_effort\u001b[39;49m\u001b[38;5;124;43m\"\u001b[39;49m\u001b[43m:\u001b[49m\u001b[43m \u001b[49m\u001b[43mreasoning_effort\u001b[49m\u001b[43m,\u001b[49m\n\u001b[1;32m    935\u001b[0m \u001b[43m                \u001b[49m\u001b[38;5;124;43m\"\u001b[39;49m\u001b[38;5;124;43mresponse_format\u001b[39;49m\u001b[38;5;124;43m\"\u001b[39;49m\u001b[43m:\u001b[49m\u001b[43m \u001b[49m\u001b[43mresponse_format\u001b[49m\u001b[43m,\u001b[49m\n\u001b[1;32m    936\u001b[0m \u001b[43m                \u001b[49m\u001b[38;5;124;43m\"\u001b[39;49m\u001b[38;5;124;43mseed\u001b[39;49m\u001b[38;5;124;43m\"\u001b[39;49m\u001b[43m:\u001b[49m\u001b[43m \u001b[49m\u001b[43mseed\u001b[49m\u001b[43m,\u001b[49m\n\u001b[1;32m    937\u001b[0m \u001b[43m                \u001b[49m\u001b[38;5;124;43m\"\u001b[39;49m\u001b[38;5;124;43mservice_tier\u001b[39;49m\u001b[38;5;124;43m\"\u001b[39;49m\u001b[43m:\u001b[49m\u001b[43m \u001b[49m\u001b[43mservice_tier\u001b[49m\u001b[43m,\u001b[49m\n\u001b[1;32m    938\u001b[0m \u001b[43m                \u001b[49m\u001b[38;5;124;43m\"\u001b[39;49m\u001b[38;5;124;43mstop\u001b[39;49m\u001b[38;5;124;43m\"\u001b[39;49m\u001b[43m:\u001b[49m\u001b[43m \u001b[49m\u001b[43mstop\u001b[49m\u001b[43m,\u001b[49m\n\u001b[1;32m    939\u001b[0m \u001b[43m                \u001b[49m\u001b[38;5;124;43m\"\u001b[39;49m\u001b[38;5;124;43mstore\u001b[39;49m\u001b[38;5;124;43m\"\u001b[39;49m\u001b[43m:\u001b[49m\u001b[43m \u001b[49m\u001b[43mstore\u001b[49m\u001b[43m,\u001b[49m\n\u001b[1;32m    940\u001b[0m \u001b[43m                \u001b[49m\u001b[38;5;124;43m\"\u001b[39;49m\u001b[38;5;124;43mstream\u001b[39;49m\u001b[38;5;124;43m\"\u001b[39;49m\u001b[43m:\u001b[49m\u001b[43m \u001b[49m\u001b[43mstream\u001b[49m\u001b[43m,\u001b[49m\n\u001b[1;32m    941\u001b[0m \u001b[43m                \u001b[49m\u001b[38;5;124;43m\"\u001b[39;49m\u001b[38;5;124;43mstream_options\u001b[39;49m\u001b[38;5;124;43m\"\u001b[39;49m\u001b[43m:\u001b[49m\u001b[43m \u001b[49m\u001b[43mstream_options\u001b[49m\u001b[43m,\u001b[49m\n\u001b[1;32m    942\u001b[0m \u001b[43m                \u001b[49m\u001b[38;5;124;43m\"\u001b[39;49m\u001b[38;5;124;43mtemperature\u001b[39;49m\u001b[38;5;124;43m\"\u001b[39;49m\u001b[43m:\u001b[49m\u001b[43m \u001b[49m\u001b[43mtemperature\u001b[49m\u001b[43m,\u001b[49m\n\u001b[1;32m    943\u001b[0m \u001b[43m                \u001b[49m\u001b[38;5;124;43m\"\u001b[39;49m\u001b[38;5;124;43mtool_choice\u001b[39;49m\u001b[38;5;124;43m\"\u001b[39;49m\u001b[43m:\u001b[49m\u001b[43m \u001b[49m\u001b[43mtool_choice\u001b[49m\u001b[43m,\u001b[49m\n\u001b[1;32m    944\u001b[0m \u001b[43m                \u001b[49m\u001b[38;5;124;43m\"\u001b[39;49m\u001b[38;5;124;43mtools\u001b[39;49m\u001b[38;5;124;43m\"\u001b[39;49m\u001b[43m:\u001b[49m\u001b[43m \u001b[49m\u001b[43mtools\u001b[49m\u001b[43m,\u001b[49m\n\u001b[1;32m    945\u001b[0m \u001b[43m                \u001b[49m\u001b[38;5;124;43m\"\u001b[39;49m\u001b[38;5;124;43mtop_logprobs\u001b[39;49m\u001b[38;5;124;43m\"\u001b[39;49m\u001b[43m:\u001b[49m\u001b[43m \u001b[49m\u001b[43mtop_logprobs\u001b[49m\u001b[43m,\u001b[49m\n\u001b[1;32m    946\u001b[0m \u001b[43m                \u001b[49m\u001b[38;5;124;43m\"\u001b[39;49m\u001b[38;5;124;43mtop_p\u001b[39;49m\u001b[38;5;124;43m\"\u001b[39;49m\u001b[43m:\u001b[49m\u001b[43m \u001b[49m\u001b[43mtop_p\u001b[49m\u001b[43m,\u001b[49m\n\u001b[1;32m    947\u001b[0m \u001b[43m                \u001b[49m\u001b[38;5;124;43m\"\u001b[39;49m\u001b[38;5;124;43muser\u001b[39;49m\u001b[38;5;124;43m\"\u001b[39;49m\u001b[43m:\u001b[49m\u001b[43m \u001b[49m\u001b[43muser\u001b[49m\u001b[43m,\u001b[49m\n\u001b[1;32m    948\u001b[0m \u001b[43m                \u001b[49m\u001b[38;5;124;43m\"\u001b[39;49m\u001b[38;5;124;43mweb_search_options\u001b[39;49m\u001b[38;5;124;43m\"\u001b[39;49m\u001b[43m:\u001b[49m\u001b[43m \u001b[49m\u001b[43mweb_search_options\u001b[49m\u001b[43m,\u001b[49m\n\u001b[1;32m    949\u001b[0m \u001b[43m            \u001b[49m\u001b[43m}\u001b[49m\u001b[43m,\u001b[49m\n\u001b[1;32m    950\u001b[0m \u001b[43m            \u001b[49m\u001b[43mcompletion_create_params\u001b[49m\u001b[38;5;241;43m.\u001b[39;49m\u001b[43mCompletionCreateParams\u001b[49m\u001b[43m,\u001b[49m\n\u001b[1;32m    951\u001b[0m \u001b[43m        \u001b[49m\u001b[43m)\u001b[49m\u001b[43m,\u001b[49m\n\u001b[1;32m    952\u001b[0m \u001b[43m        \u001b[49m\u001b[43moptions\u001b[49m\u001b[38;5;241;43m=\u001b[39;49m\u001b[43mmake_request_options\u001b[49m\u001b[43m(\u001b[49m\n\u001b[1;32m    953\u001b[0m \u001b[43m            \u001b[49m\u001b[43mextra_headers\u001b[49m\u001b[38;5;241;43m=\u001b[39;49m\u001b[43mextra_headers\u001b[49m\u001b[43m,\u001b[49m\u001b[43m \u001b[49m\u001b[43mextra_query\u001b[49m\u001b[38;5;241;43m=\u001b[39;49m\u001b[43mextra_query\u001b[49m\u001b[43m,\u001b[49m\u001b[43m \u001b[49m\u001b[43mextra_body\u001b[49m\u001b[38;5;241;43m=\u001b[39;49m\u001b[43mextra_body\u001b[49m\u001b[43m,\u001b[49m\u001b[43m \u001b[49m\u001b[43mtimeout\u001b[49m\u001b[38;5;241;43m=\u001b[39;49m\u001b[43mtimeout\u001b[49m\n\u001b[1;32m    954\u001b[0m \u001b[43m        \u001b[49m\u001b[43m)\u001b[49m\u001b[43m,\u001b[49m\n\u001b[1;32m    955\u001b[0m \u001b[43m        \u001b[49m\u001b[43mcast_to\u001b[49m\u001b[38;5;241;43m=\u001b[39;49m\u001b[43mChatCompletion\u001b[49m\u001b[43m,\u001b[49m\n\u001b[1;32m    956\u001b[0m \u001b[43m        \u001b[49m\u001b[43mstream\u001b[49m\u001b[38;5;241;43m=\u001b[39;49m\u001b[43mstream\u001b[49m\u001b[43m \u001b[49m\u001b[38;5;129;43;01mor\u001b[39;49;00m\u001b[43m \u001b[49m\u001b[38;5;28;43;01mFalse\u001b[39;49;00m\u001b[43m,\u001b[49m\n\u001b[1;32m    957\u001b[0m \u001b[43m        \u001b[49m\u001b[43mstream_cls\u001b[49m\u001b[38;5;241;43m=\u001b[39;49m\u001b[43mStream\u001b[49m\u001b[43m[\u001b[49m\u001b[43mChatCompletionChunk\u001b[49m\u001b[43m]\u001b[49m\u001b[43m,\u001b[49m\n\u001b[1;32m    958\u001b[0m \u001b[43m    \u001b[49m\u001b[43m)\u001b[49m\n",
      "File \u001b[0;32m~/anaconda3/envs/python3/lib/python3.10/site-packages/openai/_base_client.py:1242\u001b[0m, in \u001b[0;36mSyncAPIClient.post\u001b[0;34m(self, path, cast_to, body, options, files, stream, stream_cls)\u001b[0m\n\u001b[1;32m   1228\u001b[0m \u001b[38;5;28;01mdef\u001b[39;00m\u001b[38;5;250m \u001b[39m\u001b[38;5;21mpost\u001b[39m(\n\u001b[1;32m   1229\u001b[0m     \u001b[38;5;28mself\u001b[39m,\n\u001b[1;32m   1230\u001b[0m     path: \u001b[38;5;28mstr\u001b[39m,\n\u001b[0;32m   (...)\u001b[0m\n\u001b[1;32m   1237\u001b[0m     stream_cls: \u001b[38;5;28mtype\u001b[39m[_StreamT] \u001b[38;5;241m|\u001b[39m \u001b[38;5;28;01mNone\u001b[39;00m \u001b[38;5;241m=\u001b[39m \u001b[38;5;28;01mNone\u001b[39;00m,\n\u001b[1;32m   1238\u001b[0m ) \u001b[38;5;241m-\u001b[39m\u001b[38;5;241m>\u001b[39m ResponseT \u001b[38;5;241m|\u001b[39m _StreamT:\n\u001b[1;32m   1239\u001b[0m     opts \u001b[38;5;241m=\u001b[39m FinalRequestOptions\u001b[38;5;241m.\u001b[39mconstruct(\n\u001b[1;32m   1240\u001b[0m         method\u001b[38;5;241m=\u001b[39m\u001b[38;5;124m\"\u001b[39m\u001b[38;5;124mpost\u001b[39m\u001b[38;5;124m\"\u001b[39m, url\u001b[38;5;241m=\u001b[39mpath, json_data\u001b[38;5;241m=\u001b[39mbody, files\u001b[38;5;241m=\u001b[39mto_httpx_files(files), \u001b[38;5;241m*\u001b[39m\u001b[38;5;241m*\u001b[39moptions\n\u001b[1;32m   1241\u001b[0m     )\n\u001b[0;32m-> 1242\u001b[0m     \u001b[38;5;28;01mreturn\u001b[39;00m cast(ResponseT, \u001b[38;5;28;43mself\u001b[39;49m\u001b[38;5;241;43m.\u001b[39;49m\u001b[43mrequest\u001b[49m\u001b[43m(\u001b[49m\u001b[43mcast_to\u001b[49m\u001b[43m,\u001b[49m\u001b[43m \u001b[49m\u001b[43mopts\u001b[49m\u001b[43m,\u001b[49m\u001b[43m \u001b[49m\u001b[43mstream\u001b[49m\u001b[38;5;241;43m=\u001b[39;49m\u001b[43mstream\u001b[49m\u001b[43m,\u001b[49m\u001b[43m \u001b[49m\u001b[43mstream_cls\u001b[49m\u001b[38;5;241;43m=\u001b[39;49m\u001b[43mstream_cls\u001b[49m\u001b[43m)\u001b[49m)\n",
      "File \u001b[0;32m~/anaconda3/envs/python3/lib/python3.10/site-packages/openai/_base_client.py:919\u001b[0m, in \u001b[0;36mSyncAPIClient.request\u001b[0;34m(self, cast_to, options, remaining_retries, stream, stream_cls)\u001b[0m\n\u001b[1;32m    916\u001b[0m \u001b[38;5;28;01melse\u001b[39;00m:\n\u001b[1;32m    917\u001b[0m     retries_taken \u001b[38;5;241m=\u001b[39m \u001b[38;5;241m0\u001b[39m\n\u001b[0;32m--> 919\u001b[0m \u001b[38;5;28;01mreturn\u001b[39;00m \u001b[38;5;28;43mself\u001b[39;49m\u001b[38;5;241;43m.\u001b[39;49m\u001b[43m_request\u001b[49m\u001b[43m(\u001b[49m\n\u001b[1;32m    920\u001b[0m \u001b[43m    \u001b[49m\u001b[43mcast_to\u001b[49m\u001b[38;5;241;43m=\u001b[39;49m\u001b[43mcast_to\u001b[49m\u001b[43m,\u001b[49m\n\u001b[1;32m    921\u001b[0m \u001b[43m    \u001b[49m\u001b[43moptions\u001b[49m\u001b[38;5;241;43m=\u001b[39;49m\u001b[43moptions\u001b[49m\u001b[43m,\u001b[49m\n\u001b[1;32m    922\u001b[0m \u001b[43m    \u001b[49m\u001b[43mstream\u001b[49m\u001b[38;5;241;43m=\u001b[39;49m\u001b[43mstream\u001b[49m\u001b[43m,\u001b[49m\n\u001b[1;32m    923\u001b[0m \u001b[43m    \u001b[49m\u001b[43mstream_cls\u001b[49m\u001b[38;5;241;43m=\u001b[39;49m\u001b[43mstream_cls\u001b[49m\u001b[43m,\u001b[49m\n\u001b[1;32m    924\u001b[0m \u001b[43m    \u001b[49m\u001b[43mretries_taken\u001b[49m\u001b[38;5;241;43m=\u001b[39;49m\u001b[43mretries_taken\u001b[49m\u001b[43m,\u001b[49m\n\u001b[1;32m    925\u001b[0m \u001b[43m\u001b[49m\u001b[43m)\u001b[49m\n",
      "File \u001b[0;32m~/anaconda3/envs/python3/lib/python3.10/site-packages/openai/_base_client.py:955\u001b[0m, in \u001b[0;36mSyncAPIClient._request\u001b[0;34m(self, cast_to, options, retries_taken, stream, stream_cls)\u001b[0m\n\u001b[1;32m    952\u001b[0m log\u001b[38;5;241m.\u001b[39mdebug(\u001b[38;5;124m\"\u001b[39m\u001b[38;5;124mSending HTTP Request: \u001b[39m\u001b[38;5;132;01m%s\u001b[39;00m\u001b[38;5;124m \u001b[39m\u001b[38;5;132;01m%s\u001b[39;00m\u001b[38;5;124m\"\u001b[39m, request\u001b[38;5;241m.\u001b[39mmethod, request\u001b[38;5;241m.\u001b[39murl)\n\u001b[1;32m    954\u001b[0m \u001b[38;5;28;01mtry\u001b[39;00m:\n\u001b[0;32m--> 955\u001b[0m     response \u001b[38;5;241m=\u001b[39m \u001b[38;5;28;43mself\u001b[39;49m\u001b[38;5;241;43m.\u001b[39;49m\u001b[43m_client\u001b[49m\u001b[38;5;241;43m.\u001b[39;49m\u001b[43msend\u001b[49m\u001b[43m(\u001b[49m\n\u001b[1;32m    956\u001b[0m \u001b[43m        \u001b[49m\u001b[43mrequest\u001b[49m\u001b[43m,\u001b[49m\n\u001b[1;32m    957\u001b[0m \u001b[43m        \u001b[49m\u001b[43mstream\u001b[49m\u001b[38;5;241;43m=\u001b[39;49m\u001b[43mstream\u001b[49m\u001b[43m \u001b[49m\u001b[38;5;129;43;01mor\u001b[39;49;00m\u001b[43m \u001b[49m\u001b[38;5;28;43mself\u001b[39;49m\u001b[38;5;241;43m.\u001b[39;49m\u001b[43m_should_stream_response_body\u001b[49m\u001b[43m(\u001b[49m\u001b[43mrequest\u001b[49m\u001b[38;5;241;43m=\u001b[39;49m\u001b[43mrequest\u001b[49m\u001b[43m)\u001b[49m\u001b[43m,\u001b[49m\n\u001b[1;32m    958\u001b[0m \u001b[43m        \u001b[49m\u001b[38;5;241;43m*\u001b[39;49m\u001b[38;5;241;43m*\u001b[39;49m\u001b[43mkwargs\u001b[49m\u001b[43m,\u001b[49m\n\u001b[1;32m    959\u001b[0m \u001b[43m    \u001b[49m\u001b[43m)\u001b[49m\n\u001b[1;32m    960\u001b[0m \u001b[38;5;28;01mexcept\u001b[39;00m httpx\u001b[38;5;241m.\u001b[39mTimeoutException \u001b[38;5;28;01mas\u001b[39;00m err:\n\u001b[1;32m    961\u001b[0m     log\u001b[38;5;241m.\u001b[39mdebug(\u001b[38;5;124m\"\u001b[39m\u001b[38;5;124mEncountered httpx.TimeoutException\u001b[39m\u001b[38;5;124m\"\u001b[39m, exc_info\u001b[38;5;241m=\u001b[39m\u001b[38;5;28;01mTrue\u001b[39;00m)\n",
      "File \u001b[0;32m~/anaconda3/envs/python3/lib/python3.10/site-packages/httpx/_client.py:914\u001b[0m, in \u001b[0;36mClient.send\u001b[0;34m(self, request, stream, auth, follow_redirects)\u001b[0m\n\u001b[1;32m    910\u001b[0m \u001b[38;5;28mself\u001b[39m\u001b[38;5;241m.\u001b[39m_set_timeout(request)\n\u001b[1;32m    912\u001b[0m auth \u001b[38;5;241m=\u001b[39m \u001b[38;5;28mself\u001b[39m\u001b[38;5;241m.\u001b[39m_build_request_auth(request, auth)\n\u001b[0;32m--> 914\u001b[0m response \u001b[38;5;241m=\u001b[39m \u001b[38;5;28;43mself\u001b[39;49m\u001b[38;5;241;43m.\u001b[39;49m\u001b[43m_send_handling_auth\u001b[49m\u001b[43m(\u001b[49m\n\u001b[1;32m    915\u001b[0m \u001b[43m    \u001b[49m\u001b[43mrequest\u001b[49m\u001b[43m,\u001b[49m\n\u001b[1;32m    916\u001b[0m \u001b[43m    \u001b[49m\u001b[43mauth\u001b[49m\u001b[38;5;241;43m=\u001b[39;49m\u001b[43mauth\u001b[49m\u001b[43m,\u001b[49m\n\u001b[1;32m    917\u001b[0m \u001b[43m    \u001b[49m\u001b[43mfollow_redirects\u001b[49m\u001b[38;5;241;43m=\u001b[39;49m\u001b[43mfollow_redirects\u001b[49m\u001b[43m,\u001b[49m\n\u001b[1;32m    918\u001b[0m \u001b[43m    \u001b[49m\u001b[43mhistory\u001b[49m\u001b[38;5;241;43m=\u001b[39;49m\u001b[43m[\u001b[49m\u001b[43m]\u001b[49m\u001b[43m,\u001b[49m\n\u001b[1;32m    919\u001b[0m \u001b[43m\u001b[49m\u001b[43m)\u001b[49m\n\u001b[1;32m    920\u001b[0m \u001b[38;5;28;01mtry\u001b[39;00m:\n\u001b[1;32m    921\u001b[0m     \u001b[38;5;28;01mif\u001b[39;00m \u001b[38;5;129;01mnot\u001b[39;00m stream:\n",
      "File \u001b[0;32m~/anaconda3/envs/python3/lib/python3.10/site-packages/httpx/_client.py:942\u001b[0m, in \u001b[0;36mClient._send_handling_auth\u001b[0;34m(self, request, auth, follow_redirects, history)\u001b[0m\n\u001b[1;32m    939\u001b[0m request \u001b[38;5;241m=\u001b[39m \u001b[38;5;28mnext\u001b[39m(auth_flow)\n\u001b[1;32m    941\u001b[0m \u001b[38;5;28;01mwhile\u001b[39;00m \u001b[38;5;28;01mTrue\u001b[39;00m:\n\u001b[0;32m--> 942\u001b[0m     response \u001b[38;5;241m=\u001b[39m \u001b[38;5;28;43mself\u001b[39;49m\u001b[38;5;241;43m.\u001b[39;49m\u001b[43m_send_handling_redirects\u001b[49m\u001b[43m(\u001b[49m\n\u001b[1;32m    943\u001b[0m \u001b[43m        \u001b[49m\u001b[43mrequest\u001b[49m\u001b[43m,\u001b[49m\n\u001b[1;32m    944\u001b[0m \u001b[43m        \u001b[49m\u001b[43mfollow_redirects\u001b[49m\u001b[38;5;241;43m=\u001b[39;49m\u001b[43mfollow_redirects\u001b[49m\u001b[43m,\u001b[49m\n\u001b[1;32m    945\u001b[0m \u001b[43m        \u001b[49m\u001b[43mhistory\u001b[49m\u001b[38;5;241;43m=\u001b[39;49m\u001b[43mhistory\u001b[49m\u001b[43m,\u001b[49m\n\u001b[1;32m    946\u001b[0m \u001b[43m    \u001b[49m\u001b[43m)\u001b[49m\n\u001b[1;32m    947\u001b[0m     \u001b[38;5;28;01mtry\u001b[39;00m:\n\u001b[1;32m    948\u001b[0m         \u001b[38;5;28;01mtry\u001b[39;00m:\n",
      "File \u001b[0;32m~/anaconda3/envs/python3/lib/python3.10/site-packages/httpx/_client.py:979\u001b[0m, in \u001b[0;36mClient._send_handling_redirects\u001b[0;34m(self, request, follow_redirects, history)\u001b[0m\n\u001b[1;32m    976\u001b[0m \u001b[38;5;28;01mfor\u001b[39;00m hook \u001b[38;5;129;01min\u001b[39;00m \u001b[38;5;28mself\u001b[39m\u001b[38;5;241m.\u001b[39m_event_hooks[\u001b[38;5;124m\"\u001b[39m\u001b[38;5;124mrequest\u001b[39m\u001b[38;5;124m\"\u001b[39m]:\n\u001b[1;32m    977\u001b[0m     hook(request)\n\u001b[0;32m--> 979\u001b[0m response \u001b[38;5;241m=\u001b[39m \u001b[38;5;28;43mself\u001b[39;49m\u001b[38;5;241;43m.\u001b[39;49m\u001b[43m_send_single_request\u001b[49m\u001b[43m(\u001b[49m\u001b[43mrequest\u001b[49m\u001b[43m)\u001b[49m\n\u001b[1;32m    980\u001b[0m \u001b[38;5;28;01mtry\u001b[39;00m:\n\u001b[1;32m    981\u001b[0m     \u001b[38;5;28;01mfor\u001b[39;00m hook \u001b[38;5;129;01min\u001b[39;00m \u001b[38;5;28mself\u001b[39m\u001b[38;5;241m.\u001b[39m_event_hooks[\u001b[38;5;124m\"\u001b[39m\u001b[38;5;124mresponse\u001b[39m\u001b[38;5;124m\"\u001b[39m]:\n",
      "File \u001b[0;32m~/anaconda3/envs/python3/lib/python3.10/site-packages/httpx/_client.py:1014\u001b[0m, in \u001b[0;36mClient._send_single_request\u001b[0;34m(self, request)\u001b[0m\n\u001b[1;32m   1009\u001b[0m     \u001b[38;5;28;01mraise\u001b[39;00m \u001b[38;5;167;01mRuntimeError\u001b[39;00m(\n\u001b[1;32m   1010\u001b[0m         \u001b[38;5;124m\"\u001b[39m\u001b[38;5;124mAttempted to send an async request with a sync Client instance.\u001b[39m\u001b[38;5;124m\"\u001b[39m\n\u001b[1;32m   1011\u001b[0m     )\n\u001b[1;32m   1013\u001b[0m \u001b[38;5;28;01mwith\u001b[39;00m request_context(request\u001b[38;5;241m=\u001b[39mrequest):\n\u001b[0;32m-> 1014\u001b[0m     response \u001b[38;5;241m=\u001b[39m \u001b[43mtransport\u001b[49m\u001b[38;5;241;43m.\u001b[39;49m\u001b[43mhandle_request\u001b[49m\u001b[43m(\u001b[49m\u001b[43mrequest\u001b[49m\u001b[43m)\u001b[49m\n\u001b[1;32m   1016\u001b[0m \u001b[38;5;28;01massert\u001b[39;00m \u001b[38;5;28misinstance\u001b[39m(response\u001b[38;5;241m.\u001b[39mstream, SyncByteStream)\n\u001b[1;32m   1018\u001b[0m response\u001b[38;5;241m.\u001b[39mrequest \u001b[38;5;241m=\u001b[39m request\n",
      "File \u001b[0;32m~/anaconda3/envs/python3/lib/python3.10/site-packages/httpx/_transports/default.py:250\u001b[0m, in \u001b[0;36mHTTPTransport.handle_request\u001b[0;34m(self, request)\u001b[0m\n\u001b[1;32m    237\u001b[0m req \u001b[38;5;241m=\u001b[39m httpcore\u001b[38;5;241m.\u001b[39mRequest(\n\u001b[1;32m    238\u001b[0m     method\u001b[38;5;241m=\u001b[39mrequest\u001b[38;5;241m.\u001b[39mmethod,\n\u001b[1;32m    239\u001b[0m     url\u001b[38;5;241m=\u001b[39mhttpcore\u001b[38;5;241m.\u001b[39mURL(\n\u001b[0;32m   (...)\u001b[0m\n\u001b[1;32m    247\u001b[0m     extensions\u001b[38;5;241m=\u001b[39mrequest\u001b[38;5;241m.\u001b[39mextensions,\n\u001b[1;32m    248\u001b[0m )\n\u001b[1;32m    249\u001b[0m \u001b[38;5;28;01mwith\u001b[39;00m map_httpcore_exceptions():\n\u001b[0;32m--> 250\u001b[0m     resp \u001b[38;5;241m=\u001b[39m \u001b[38;5;28;43mself\u001b[39;49m\u001b[38;5;241;43m.\u001b[39;49m\u001b[43m_pool\u001b[49m\u001b[38;5;241;43m.\u001b[39;49m\u001b[43mhandle_request\u001b[49m\u001b[43m(\u001b[49m\u001b[43mreq\u001b[49m\u001b[43m)\u001b[49m\n\u001b[1;32m    252\u001b[0m \u001b[38;5;28;01massert\u001b[39;00m \u001b[38;5;28misinstance\u001b[39m(resp\u001b[38;5;241m.\u001b[39mstream, typing\u001b[38;5;241m.\u001b[39mIterable)\n\u001b[1;32m    254\u001b[0m \u001b[38;5;28;01mreturn\u001b[39;00m Response(\n\u001b[1;32m    255\u001b[0m     status_code\u001b[38;5;241m=\u001b[39mresp\u001b[38;5;241m.\u001b[39mstatus,\n\u001b[1;32m    256\u001b[0m     headers\u001b[38;5;241m=\u001b[39mresp\u001b[38;5;241m.\u001b[39mheaders,\n\u001b[1;32m    257\u001b[0m     stream\u001b[38;5;241m=\u001b[39mResponseStream(resp\u001b[38;5;241m.\u001b[39mstream),\n\u001b[1;32m    258\u001b[0m     extensions\u001b[38;5;241m=\u001b[39mresp\u001b[38;5;241m.\u001b[39mextensions,\n\u001b[1;32m    259\u001b[0m )\n",
      "File \u001b[0;32m~/anaconda3/envs/python3/lib/python3.10/site-packages/httpcore/_sync/connection_pool.py:256\u001b[0m, in \u001b[0;36mConnectionPool.handle_request\u001b[0;34m(self, request)\u001b[0m\n\u001b[1;32m    253\u001b[0m         closing \u001b[38;5;241m=\u001b[39m \u001b[38;5;28mself\u001b[39m\u001b[38;5;241m.\u001b[39m_assign_requests_to_connections()\n\u001b[1;32m    255\u001b[0m     \u001b[38;5;28mself\u001b[39m\u001b[38;5;241m.\u001b[39m_close_connections(closing)\n\u001b[0;32m--> 256\u001b[0m     \u001b[38;5;28;01mraise\u001b[39;00m exc \u001b[38;5;28;01mfrom\u001b[39;00m\u001b[38;5;250m \u001b[39m\u001b[38;5;28;01mNone\u001b[39;00m\n\u001b[1;32m    258\u001b[0m \u001b[38;5;66;03m# Return the response. Note that in this case we still have to manage\u001b[39;00m\n\u001b[1;32m    259\u001b[0m \u001b[38;5;66;03m# the point at which the response is closed.\u001b[39;00m\n\u001b[1;32m    260\u001b[0m \u001b[38;5;28;01massert\u001b[39;00m \u001b[38;5;28misinstance\u001b[39m(response\u001b[38;5;241m.\u001b[39mstream, typing\u001b[38;5;241m.\u001b[39mIterable)\n",
      "File \u001b[0;32m~/anaconda3/envs/python3/lib/python3.10/site-packages/httpcore/_sync/connection_pool.py:236\u001b[0m, in \u001b[0;36mConnectionPool.handle_request\u001b[0;34m(self, request)\u001b[0m\n\u001b[1;32m    232\u001b[0m connection \u001b[38;5;241m=\u001b[39m pool_request\u001b[38;5;241m.\u001b[39mwait_for_connection(timeout\u001b[38;5;241m=\u001b[39mtimeout)\n\u001b[1;32m    234\u001b[0m \u001b[38;5;28;01mtry\u001b[39;00m:\n\u001b[1;32m    235\u001b[0m     \u001b[38;5;66;03m# Send the request on the assigned connection.\u001b[39;00m\n\u001b[0;32m--> 236\u001b[0m     response \u001b[38;5;241m=\u001b[39m \u001b[43mconnection\u001b[49m\u001b[38;5;241;43m.\u001b[39;49m\u001b[43mhandle_request\u001b[49m\u001b[43m(\u001b[49m\n\u001b[1;32m    237\u001b[0m \u001b[43m        \u001b[49m\u001b[43mpool_request\u001b[49m\u001b[38;5;241;43m.\u001b[39;49m\u001b[43mrequest\u001b[49m\n\u001b[1;32m    238\u001b[0m \u001b[43m    \u001b[49m\u001b[43m)\u001b[49m\n\u001b[1;32m    239\u001b[0m \u001b[38;5;28;01mexcept\u001b[39;00m ConnectionNotAvailable:\n\u001b[1;32m    240\u001b[0m     \u001b[38;5;66;03m# In some cases a connection may initially be available to\u001b[39;00m\n\u001b[1;32m    241\u001b[0m     \u001b[38;5;66;03m# handle a request, but then become unavailable.\u001b[39;00m\n\u001b[1;32m    242\u001b[0m     \u001b[38;5;66;03m#\u001b[39;00m\n\u001b[1;32m    243\u001b[0m     \u001b[38;5;66;03m# In this case we clear the connection and try again.\u001b[39;00m\n\u001b[1;32m    244\u001b[0m     pool_request\u001b[38;5;241m.\u001b[39mclear_connection()\n",
      "File \u001b[0;32m~/anaconda3/envs/python3/lib/python3.10/site-packages/httpcore/_sync/connection.py:103\u001b[0m, in \u001b[0;36mHTTPConnection.handle_request\u001b[0;34m(self, request)\u001b[0m\n\u001b[1;32m    100\u001b[0m     \u001b[38;5;28mself\u001b[39m\u001b[38;5;241m.\u001b[39m_connect_failed \u001b[38;5;241m=\u001b[39m \u001b[38;5;28;01mTrue\u001b[39;00m\n\u001b[1;32m    101\u001b[0m     \u001b[38;5;28;01mraise\u001b[39;00m exc\n\u001b[0;32m--> 103\u001b[0m \u001b[38;5;28;01mreturn\u001b[39;00m \u001b[38;5;28;43mself\u001b[39;49m\u001b[38;5;241;43m.\u001b[39;49m\u001b[43m_connection\u001b[49m\u001b[38;5;241;43m.\u001b[39;49m\u001b[43mhandle_request\u001b[49m\u001b[43m(\u001b[49m\u001b[43mrequest\u001b[49m\u001b[43m)\u001b[49m\n",
      "File \u001b[0;32m~/anaconda3/envs/python3/lib/python3.10/site-packages/httpcore/_sync/http11.py:136\u001b[0m, in \u001b[0;36mHTTP11Connection.handle_request\u001b[0;34m(self, request)\u001b[0m\n\u001b[1;32m    134\u001b[0m     \u001b[38;5;28;01mwith\u001b[39;00m Trace(\u001b[38;5;124m\"\u001b[39m\u001b[38;5;124mresponse_closed\u001b[39m\u001b[38;5;124m\"\u001b[39m, logger, request) \u001b[38;5;28;01mas\u001b[39;00m trace:\n\u001b[1;32m    135\u001b[0m         \u001b[38;5;28mself\u001b[39m\u001b[38;5;241m.\u001b[39m_response_closed()\n\u001b[0;32m--> 136\u001b[0m \u001b[38;5;28;01mraise\u001b[39;00m exc\n",
      "File \u001b[0;32m~/anaconda3/envs/python3/lib/python3.10/site-packages/httpcore/_sync/http11.py:106\u001b[0m, in \u001b[0;36mHTTP11Connection.handle_request\u001b[0;34m(self, request)\u001b[0m\n\u001b[1;32m     95\u001b[0m     \u001b[38;5;28;01mpass\u001b[39;00m\n\u001b[1;32m     97\u001b[0m \u001b[38;5;28;01mwith\u001b[39;00m Trace(\n\u001b[1;32m     98\u001b[0m     \u001b[38;5;124m\"\u001b[39m\u001b[38;5;124mreceive_response_headers\u001b[39m\u001b[38;5;124m\"\u001b[39m, logger, request, kwargs\n\u001b[1;32m     99\u001b[0m ) \u001b[38;5;28;01mas\u001b[39;00m trace:\n\u001b[1;32m    100\u001b[0m     (\n\u001b[1;32m    101\u001b[0m         http_version,\n\u001b[1;32m    102\u001b[0m         status,\n\u001b[1;32m    103\u001b[0m         reason_phrase,\n\u001b[1;32m    104\u001b[0m         headers,\n\u001b[1;32m    105\u001b[0m         trailing_data,\n\u001b[0;32m--> 106\u001b[0m     ) \u001b[38;5;241m=\u001b[39m \u001b[38;5;28;43mself\u001b[39;49m\u001b[38;5;241;43m.\u001b[39;49m\u001b[43m_receive_response_headers\u001b[49m\u001b[43m(\u001b[49m\u001b[38;5;241;43m*\u001b[39;49m\u001b[38;5;241;43m*\u001b[39;49m\u001b[43mkwargs\u001b[49m\u001b[43m)\u001b[49m\n\u001b[1;32m    107\u001b[0m     trace\u001b[38;5;241m.\u001b[39mreturn_value \u001b[38;5;241m=\u001b[39m (\n\u001b[1;32m    108\u001b[0m         http_version,\n\u001b[1;32m    109\u001b[0m         status,\n\u001b[1;32m    110\u001b[0m         reason_phrase,\n\u001b[1;32m    111\u001b[0m         headers,\n\u001b[1;32m    112\u001b[0m     )\n\u001b[1;32m    114\u001b[0m network_stream \u001b[38;5;241m=\u001b[39m \u001b[38;5;28mself\u001b[39m\u001b[38;5;241m.\u001b[39m_network_stream\n",
      "File \u001b[0;32m~/anaconda3/envs/python3/lib/python3.10/site-packages/httpcore/_sync/http11.py:177\u001b[0m, in \u001b[0;36mHTTP11Connection._receive_response_headers\u001b[0;34m(self, request)\u001b[0m\n\u001b[1;32m    174\u001b[0m timeout \u001b[38;5;241m=\u001b[39m timeouts\u001b[38;5;241m.\u001b[39mget(\u001b[38;5;124m\"\u001b[39m\u001b[38;5;124mread\u001b[39m\u001b[38;5;124m\"\u001b[39m, \u001b[38;5;28;01mNone\u001b[39;00m)\n\u001b[1;32m    176\u001b[0m \u001b[38;5;28;01mwhile\u001b[39;00m \u001b[38;5;28;01mTrue\u001b[39;00m:\n\u001b[0;32m--> 177\u001b[0m     event \u001b[38;5;241m=\u001b[39m \u001b[38;5;28;43mself\u001b[39;49m\u001b[38;5;241;43m.\u001b[39;49m\u001b[43m_receive_event\u001b[49m\u001b[43m(\u001b[49m\u001b[43mtimeout\u001b[49m\u001b[38;5;241;43m=\u001b[39;49m\u001b[43mtimeout\u001b[49m\u001b[43m)\u001b[49m\n\u001b[1;32m    178\u001b[0m     \u001b[38;5;28;01mif\u001b[39;00m \u001b[38;5;28misinstance\u001b[39m(event, h11\u001b[38;5;241m.\u001b[39mResponse):\n\u001b[1;32m    179\u001b[0m         \u001b[38;5;28;01mbreak\u001b[39;00m\n",
      "File \u001b[0;32m~/anaconda3/envs/python3/lib/python3.10/site-packages/httpcore/_sync/http11.py:217\u001b[0m, in \u001b[0;36mHTTP11Connection._receive_event\u001b[0;34m(self, timeout)\u001b[0m\n\u001b[1;32m    214\u001b[0m     event \u001b[38;5;241m=\u001b[39m \u001b[38;5;28mself\u001b[39m\u001b[38;5;241m.\u001b[39m_h11_state\u001b[38;5;241m.\u001b[39mnext_event()\n\u001b[1;32m    216\u001b[0m \u001b[38;5;28;01mif\u001b[39;00m event \u001b[38;5;129;01mis\u001b[39;00m h11\u001b[38;5;241m.\u001b[39mNEED_DATA:\n\u001b[0;32m--> 217\u001b[0m     data \u001b[38;5;241m=\u001b[39m \u001b[38;5;28;43mself\u001b[39;49m\u001b[38;5;241;43m.\u001b[39;49m\u001b[43m_network_stream\u001b[49m\u001b[38;5;241;43m.\u001b[39;49m\u001b[43mread\u001b[49m\u001b[43m(\u001b[49m\n\u001b[1;32m    218\u001b[0m \u001b[43m        \u001b[49m\u001b[38;5;28;43mself\u001b[39;49m\u001b[38;5;241;43m.\u001b[39;49m\u001b[43mREAD_NUM_BYTES\u001b[49m\u001b[43m,\u001b[49m\u001b[43m \u001b[49m\u001b[43mtimeout\u001b[49m\u001b[38;5;241;43m=\u001b[39;49m\u001b[43mtimeout\u001b[49m\n\u001b[1;32m    219\u001b[0m \u001b[43m    \u001b[49m\u001b[43m)\u001b[49m\n\u001b[1;32m    221\u001b[0m     \u001b[38;5;66;03m# If we feed this case through h11 we'll raise an exception like:\u001b[39;00m\n\u001b[1;32m    222\u001b[0m     \u001b[38;5;66;03m#\u001b[39;00m\n\u001b[1;32m    223\u001b[0m     \u001b[38;5;66;03m#     httpcore.RemoteProtocolError: can't handle event type\u001b[39;00m\n\u001b[0;32m   (...)\u001b[0m\n\u001b[1;32m    227\u001b[0m     \u001b[38;5;66;03m# perspective. Instead we handle this case distinctly and treat\u001b[39;00m\n\u001b[1;32m    228\u001b[0m     \u001b[38;5;66;03m# it as a ConnectError.\u001b[39;00m\n\u001b[1;32m    229\u001b[0m     \u001b[38;5;28;01mif\u001b[39;00m data \u001b[38;5;241m==\u001b[39m \u001b[38;5;124mb\u001b[39m\u001b[38;5;124m\"\u001b[39m\u001b[38;5;124m\"\u001b[39m \u001b[38;5;129;01mand\u001b[39;00m \u001b[38;5;28mself\u001b[39m\u001b[38;5;241m.\u001b[39m_h11_state\u001b[38;5;241m.\u001b[39mtheir_state \u001b[38;5;241m==\u001b[39m h11\u001b[38;5;241m.\u001b[39mSEND_RESPONSE:\n",
      "File \u001b[0;32m~/anaconda3/envs/python3/lib/python3.10/site-packages/httpcore/_backends/sync.py:128\u001b[0m, in \u001b[0;36mSyncStream.read\u001b[0;34m(self, max_bytes, timeout)\u001b[0m\n\u001b[1;32m    126\u001b[0m \u001b[38;5;28;01mwith\u001b[39;00m map_exceptions(exc_map):\n\u001b[1;32m    127\u001b[0m     \u001b[38;5;28mself\u001b[39m\u001b[38;5;241m.\u001b[39m_sock\u001b[38;5;241m.\u001b[39msettimeout(timeout)\n\u001b[0;32m--> 128\u001b[0m     \u001b[38;5;28;01mreturn\u001b[39;00m \u001b[38;5;28;43mself\u001b[39;49m\u001b[38;5;241;43m.\u001b[39;49m\u001b[43m_sock\u001b[49m\u001b[38;5;241;43m.\u001b[39;49m\u001b[43mrecv\u001b[49m\u001b[43m(\u001b[49m\u001b[43mmax_bytes\u001b[49m\u001b[43m)\u001b[49m\n",
      "File \u001b[0;32m~/anaconda3/envs/python3/lib/python3.10/ssl.py:1292\u001b[0m, in \u001b[0;36mSSLSocket.recv\u001b[0;34m(self, buflen, flags)\u001b[0m\n\u001b[1;32m   1288\u001b[0m     \u001b[38;5;28;01mif\u001b[39;00m flags \u001b[38;5;241m!=\u001b[39m \u001b[38;5;241m0\u001b[39m:\n\u001b[1;32m   1289\u001b[0m         \u001b[38;5;28;01mraise\u001b[39;00m \u001b[38;5;167;01mValueError\u001b[39;00m(\n\u001b[1;32m   1290\u001b[0m             \u001b[38;5;124m\"\u001b[39m\u001b[38;5;124mnon-zero flags not allowed in calls to recv() on \u001b[39m\u001b[38;5;132;01m%s\u001b[39;00m\u001b[38;5;124m\"\u001b[39m \u001b[38;5;241m%\u001b[39m\n\u001b[1;32m   1291\u001b[0m             \u001b[38;5;28mself\u001b[39m\u001b[38;5;241m.\u001b[39m\u001b[38;5;18m__class__\u001b[39m)\n\u001b[0;32m-> 1292\u001b[0m     \u001b[38;5;28;01mreturn\u001b[39;00m \u001b[38;5;28;43mself\u001b[39;49m\u001b[38;5;241;43m.\u001b[39;49m\u001b[43mread\u001b[49m\u001b[43m(\u001b[49m\u001b[43mbuflen\u001b[49m\u001b[43m)\u001b[49m\n\u001b[1;32m   1293\u001b[0m \u001b[38;5;28;01melse\u001b[39;00m:\n\u001b[1;32m   1294\u001b[0m     \u001b[38;5;28;01mreturn\u001b[39;00m \u001b[38;5;28msuper\u001b[39m()\u001b[38;5;241m.\u001b[39mrecv(buflen, flags)\n",
      "File \u001b[0;32m~/anaconda3/envs/python3/lib/python3.10/ssl.py:1165\u001b[0m, in \u001b[0;36mSSLSocket.read\u001b[0;34m(self, len, buffer)\u001b[0m\n\u001b[1;32m   1163\u001b[0m         \u001b[38;5;28;01mreturn\u001b[39;00m \u001b[38;5;28mself\u001b[39m\u001b[38;5;241m.\u001b[39m_sslobj\u001b[38;5;241m.\u001b[39mread(\u001b[38;5;28mlen\u001b[39m, buffer)\n\u001b[1;32m   1164\u001b[0m     \u001b[38;5;28;01melse\u001b[39;00m:\n\u001b[0;32m-> 1165\u001b[0m         \u001b[38;5;28;01mreturn\u001b[39;00m \u001b[38;5;28;43mself\u001b[39;49m\u001b[38;5;241;43m.\u001b[39;49m\u001b[43m_sslobj\u001b[49m\u001b[38;5;241;43m.\u001b[39;49m\u001b[43mread\u001b[49m\u001b[43m(\u001b[49m\u001b[38;5;28;43mlen\u001b[39;49m\u001b[43m)\u001b[49m\n\u001b[1;32m   1166\u001b[0m \u001b[38;5;28;01mexcept\u001b[39;00m SSLError \u001b[38;5;28;01mas\u001b[39;00m x:\n\u001b[1;32m   1167\u001b[0m     \u001b[38;5;28;01mif\u001b[39;00m x\u001b[38;5;241m.\u001b[39margs[\u001b[38;5;241m0\u001b[39m] \u001b[38;5;241m==\u001b[39m SSL_ERROR_EOF \u001b[38;5;129;01mand\u001b[39;00m \u001b[38;5;28mself\u001b[39m\u001b[38;5;241m.\u001b[39msuppress_ragged_eofs:\n",
      "\u001b[0;31mKeyboardInterrupt\u001b[0m: "
     ]
    }
   ],
   "source": [
    "for tweet in tweet_data:\n",
    "    messages = [\n",
    "        {\"role\": \"system\", \"content\": f\"\"\"rewrite the tweets delimited by {delimiter} in the tone like Stewie \"\"\"},\n",
    "        {\"role\": \"user\", \"content\": f\"{delimiter}{tweet}{delimiter} \"}]\n",
    "\n",
    "    print(openai_help(messages).strip(delimiter))"
   ]
  },
  {
   "cell_type": "markdown",
   "id": "860bbb3a-f1c9-4f1b-9f0f-c9d783f6bb1f",
   "metadata": {},
   "source": [
    "### Inferring\n",
    "- Use step-by-step instructions with delimiters to:\n",
    "  1. Identify sentiments\n",
    "  2. Identify emotions\n",
    "  3. Extract mentioned people's names\n",
    "  3. Identify whether a tweet supports Democratic, Republican, or unknown \n",
    "  4. Extract outputs into a structured JSON document. \n",
    "- Identify topics from Tweets. \n"
   ]
  },
  {
   "cell_type": "code",
   "execution_count": 18,
   "id": "c56b5211-eef0-4f24-b8ca-116f9e303675",
   "metadata": {
    "scrolled": true,
    "tags": []
   },
   "outputs": [
    {
     "name": "stdout",
     "output_type": "stream",
     "text": [
      "{\n",
      "  \"sentiment\": \"neutral\",\n",
      "  \"emotion\": \"determination\",\n",
      "  \"mentioned\": [\"@joshtheobald3\"],\n",
      "  \"support\": \"neutral\"\n",
      "}\n",
      "{\n",
      "  \"sentiment\": \"negative\",\n",
      "  \"emotion\": \"frustration\",\n",
      "  \"mentioned\": [\"Trump\", \"FBI\"],\n",
      "  \"support\": \"Republican\"\n",
      "}\n",
      "{\n",
      "  \"sentiment\": \"neutral\",\n",
      "  \"emotion\": \"determination\",\n",
      "  \"mentioned\": [\"ssecijak\"],\n",
      "  \"support\": \"Democratic\"\n",
      "}\n",
      "{\n",
      "  \"sentiment\": \"negative\",\n",
      "  \"emotion\": \"outrage\",\n",
      "  \"mentioned\": [\"Trump\"],\n",
      "  \"support\": \"Republican\"\n",
      "}\n",
      "{\n",
      "  \"sentiment\": \"negative\",\n",
      "  \"emotion\": \"skepticism\",\n",
      "  \"mentioned\": [\"PATRICKHENRY97\"],\n",
      "  \"support\": \"Republican\"\n",
      "}\n",
      "{\n",
      "  \"sentiment\": \"negative\",\n",
      "  \"emotion\": \"criticism\",\n",
      "  \"mentioned\": [\"NickJFuentes\", \"Trump\"],\n",
      "  \"support\": \"Republican\"\n",
      "}\n",
      "{\n",
      "  \"sentiment\": \"negative\",\n",
      "  \"emotion\": \"skepticism\",\n",
      "  \"mentioned\": [\"@christianboutin\", \"@scrowder\"],\n",
      "  \"support\": \"Democratic\"\n",
      "}\n",
      "{\n",
      "  \"sentiment\": \"negative\",\n",
      "  \"emotion\": \"frustration\",\n",
      "  \"mentioned\": [\"whstancil\"],\n",
      "  \"support\": \"Democratic\"\n",
      "}\n",
      "{\n",
      "  \"sentiment\": \"negative\",\n",
      "  \"emotion\": \"concern\",\n",
      "  \"mentioned\": [\"newrepublic\", \"Rasmussen Reports\", \"Trump\"],\n",
      "  \"support\": \"Democratic\"\n",
      "}\n",
      "{\n",
      "  \"sentiment\": \"neutral\",\n",
      "  \"emotion\": \"informative\",\n",
      "  \"mentioned\": [\"@realDonaldTrump\"],\n",
      "  \"support\": \"Republican\"\n",
      "}\n",
      "{\n",
      "  \"sentiment\": \"neutral\",\n",
      "  \"emotion\": \"informative\",\n",
      "  \"mentioned\": [\"NickGarzilli\", \"BruneElections\", \"SMCosta6\", \"tencor_7144\"],\n",
      "  \"support\": \"neutral\"\n",
      "}\n",
      "{\n",
      "  \"sentiment\": \"negative\",\n",
      "  \"emotion\": \"frustration\",\n",
      "  \"mentioned\": [],\n",
      "  \"support\": \"neutral\"\n",
      "}\n",
      "{\n",
      "  \"sentiment\": \"neutral\",\n",
      "  \"emotion\": \"anticipation\",\n",
      "  \"mentioned\": [],\n",
      "  \"support\": \"Republican\"\n",
      "}\n",
      "{\n",
      "  \"sentiment\": \"neutral\",\n",
      "  \"emotion\": \"anxiety\",\n",
      "  \"mentioned\": [\"mariashriver\", \"KamalaHarris\"],\n",
      "  \"support\": \"Democratic\"\n",
      "}\n",
      "{\n",
      "  \"sentiment\": \"neutral\",\n",
      "  \"emotion\": \"informative\",\n",
      "  \"mentioned\": [],\n",
      "  \"support\": \"neutral\"\n",
      "}\n",
      "{\n",
      "  \"sentiment\": \"neutral\",\n",
      "  \"emotion\": \"anxious\",\n",
      "  \"mentioned\": [\"django\"],\n",
      "  \"support\": \"neutral\"\n",
      "}\n",
      "{\n",
      "  \"sentiment\": \"positive\",\n",
      "  \"emotion\": \"satisfaction\",\n",
      "  \"mentioned\": [\"OccupyDemocrats\"],\n",
      "  \"support\": \"Democratic\"\n",
      "}\n",
      "{\n",
      "  \"sentiment\": \"neutral\",\n",
      "  \"emotion\": \"concern\",\n",
      "  \"mentioned\": [],\n",
      "  \"support\": \"Democratic\"\n",
      "}\n",
      "{\n",
      "  \"sentiment\": \"negative\",\n",
      "  \"emotion\": \"fear\",\n",
      "  \"mentioned\": [\"Kamala\"],\n",
      "  \"support\": \"Republican\"\n",
      "}\n",
      "{\n",
      "  \"sentiment\": \"negative\",\n",
      "  \"emotion\": \"anger\",\n",
      "  \"mentioned\": [\"LauraLoomer\", \"Trump\"],\n",
      "  \"support\": \"Republican\"\n",
      "}\n",
      "{\n",
      "  \"sentiment\": \"positive\",\n",
      "  \"emotion\": \"pride\",\n",
      "  \"mentioned\": [],\n",
      "  \"support\": \"neutral\"\n",
      "}\n",
      "{\n",
      "  \"sentiment\": \"negative\",\n",
      "  \"emotion\": \"frustration\",\n",
      "  \"mentioned\": [\"@C_Farthammer\"],\n",
      "  \"support\": \"Republican\"\n",
      "}\n",
      "{\n",
      "  \"sentiment\": \"neutral\",\n",
      "  \"emotion\": \"informative\",\n",
      "  \"mentioned\": [\"@Lucas_FCGB\"],\n",
      "  \"support\": \"neutral\"\n",
      "}\n",
      "{\n",
      "  \"sentiment\": \"negative\",\n",
      "  \"emotion\": \"cynicism\",\n",
      "  \"mentioned\": [\"shaun_vids\", \"netanyahu\"],\n",
      "  \"support\": \"neutral\"\n",
      "}\n",
      "{\n",
      "  \"sentiment\": \"negative\",\n",
      "  \"emotion\": \"humiliation\",\n",
      "  \"mentioned\": [\"Donald Trump\"],\n",
      "  \"support\": \"Democratic\"\n",
      "}\n",
      "{\n",
      "  \"sentiment\": \"negative\",\n",
      "  \"emotion\": \"disapproval\",\n",
      "  \"mentioned\": [\"GeoffDuncanGA\", \"Donald Trump\"],\n",
      "  \"support\": \"Democratic\"\n",
      "}\n",
      "{\n",
      "  \"sentiment\": \"neutral\",\n",
      "  \"emotion\": \"determination\",\n",
      "  \"mentioned\": [\"MargieVotes\"],\n",
      "  \"support\": \"Democratic\"\n",
      "}\n",
      "{\n",
      "  \"sentiment\": \"positive\",\n",
      "  \"emotion\": \"hopeful\",\n",
      "  \"mentioned\": [],\n",
      "  \"support\": \"neutral\"\n",
      "}\n",
      "{\n",
      "  \"sentiment\": \"negative\",\n",
      "  \"emotion\": \"skepticism\",\n",
      "  \"mentioned\": [\"@EndWokeness\"],\n",
      "  \"support\": \"Republican\"\n",
      "}\n",
      "{\n",
      "  \"sentiment\": \"neutral\",\n",
      "  \"emotion\": \"hopeful\",\n",
      "  \"mentioned\": [\"CristusVictor\"],\n",
      "  \"support\": \"neutral\"\n",
      "}\n",
      "{\n",
      "  \"sentiment\": \"negative\",\n",
      "  \"emotion\": \"frustration\",\n",
      "  \"mentioned\": [\"MarioNawfal\"],\n",
      "  \"support\": \"Republican\"\n",
      "}\n",
      "{\n",
      "  \"sentiment\": \"negative\",\n",
      "  \"emotion\": \"frustration\",\n",
      "  \"mentioned\": [\"RonFilipkowski\"],\n",
      "  \"support\": \"Democratic\"\n",
      "}\n",
      "{\"sentiment\": \"negative\", \"emotion\": \"frustration\", \"mentioned\": [\"BretBaier\"], \"support\": \"Republican\"}\n",
      "{\n",
      "  \"sentiment\": \"negative\",\n",
      "  \"emotion\": \"caution\",\n",
      "  \"mentioned\": [\"Craptld2kids\"],\n",
      "  \"support\": \"Republican\"\n",
      "}\n",
      "{\n",
      "  \"sentiment\": \"negative\",\n",
      "  \"emotion\": \"criticism\",\n",
      "  \"mentioned\": [\"themarketswork\", \"Kamala\"],\n",
      "  \"support\": \"Republican\"\n",
      "}\n",
      "{\n",
      "  \"sentiment\": \"positive\",\n",
      "  \"emotion\": \"satisfaction\",\n",
      "  \"mentioned\": [\"Kamala Harris\", \"Trump\"],\n",
      "  \"support\": \"Democratic\"\n",
      "}\n",
      "{\n",
      "  \"sentiment\": \"positive\",\n",
      "  \"emotion\": \"excitement\",\n",
      "  \"mentioned\": [\"Trump\"],\n",
      "  \"support\": \"Democratic\"\n",
      "}\n",
      "{\n",
      "  \"sentiment\": \"neutral\",\n",
      "  \"emotion\": \"speculative\",\n",
      "  \"mentioned\": [\"Donald Trump\"],\n",
      "  \"support\": \"Republican\"\n",
      "}\n",
      "{\n",
      "  \"sentiment\": \"neutral\",\n",
      "  \"emotion\": \"awareness\",\n",
      "  \"mentioned\": [\"SimonWDC\", \"Polymarket\", \"Elon\"],\n",
      "  \"support\": \"Republican\"\n",
      "}\n",
      "{\n",
      "  \"sentiment\": \"negative\",\n",
      "  \"emotion\": \"frustration\",\n",
      "  \"mentioned\": [\"LibertyLockPod\"],\n",
      "  \"support\": \"Republican\"\n",
      "}\n",
      "{\n",
      "  \"sentiment\": \"neutral\",\n",
      "  \"emotion\": \"informative\",\n",
      "  \"mentioned\": [\"Greg St\"],\n",
      "  \"support\": \"neutral\"\n",
      "}\n",
      "{\n",
      "  \"sentiment\": \"neutral\",\n",
      "  \"emotion\": \"indifferent\",\n",
      "  \"mentioned\": [\"Bupendra Hooda\", \"Sharad Pawar\"],\n",
      "  \"support\": \"Republican\"\n",
      "}\n",
      "{\n",
      "  \"sentiment\": \"negative\",\n",
      "  \"emotion\": \"concern\",\n",
      "  \"mentioned\": [\"michaelsbarajas\"],\n",
      "  \"support\": \"neutral\"\n",
      "}\n",
      "{\n",
      "  \"sentiment\": \"negative\",\n",
      "  \"emotion\": \"frustration\",\n",
      "  \"mentioned\": [\n",
      "    \"Starboy2079\"\n",
      "  ],\n",
      "  \"support\": \"Republican\"\n",
      "}\n",
      "{\n",
      "  \"sentiment\": \"negative\",\n",
      "  \"emotion\": \"outrage\",\n",
      "  \"mentioned\": [\"Donald Trump\"],\n",
      "  \"support\": \"Republican\"\n",
      "}\n",
      "{\n",
      "  \"sentiment\": \"neutral\",\n",
      "  \"emotion\": \"anticipation\",\n",
      "  \"mentioned\": [\"Donald Trump\"],\n",
      "  \"support\": \"Republican\"\n",
      "}\n",
      "{\n",
      "  \"sentiment\": \"negative\",\n",
      "  \"emotion\": \"suspicion\",\n",
      "  \"mentioned\": [\"VigilantFox\"],\n",
      "  \"support\": \"Republican\"\n",
      "}\n",
      "{\n",
      "  \"sentiment\": \"negative\",\n",
      "  \"emotion\": \"sarcasm\",\n",
      "  \"mentioned\": [],\n",
      "  \"support\": \"neutral\"\n",
      "}\n",
      "{\n",
      "  \"sentiment\": \"negative\",\n",
      "  \"emotion\": \"concern\",\n",
      "  \"mentioned\": [],\n",
      "  \"support\": \"Democratic\"\n",
      "}\n",
      "{\n",
      "  \"sentiment\": \"neutral\",\n",
      "  \"emotion\": \"curiosity\",\n",
      "  \"mentioned\": [\"dYdX\", \"Trump\"],\n",
      "  \"support\": \"Republican\"\n",
      "}\n",
      "{\n",
      "  \"sentiment\": \"neutral\",\n",
      "  \"emotion\": \"curiosity\",\n",
      "  \"mentioned\": [\"ScottPresler\", \"Thad Hall\"],\n",
      "  \"support\": \"Republican\"\n",
      "}\n",
      "{\n",
      "  \"sentiment\": \"negative\",\n",
      "  \"emotion\": \"frustration\",\n",
      "  \"mentioned\": [\"@CentristMadness\"],\n",
      "  \"support\": \"neutral\"\n",
      "}\n",
      "{\n",
      "  \"sentiment\": \"neutral\",\n",
      "  \"emotion\": \"frustration\",\n",
      "  \"mentioned\": [\"MTGrepp\"],\n",
      "  \"support\": \"neutral\"\n",
      "}\n",
      "{\n",
      "  \"sentiment\": \"negative\",\n",
      "  \"emotion\": \"frustration\",\n",
      "  \"mentioned\": [\"maddenifico\"],\n",
      "  \"support\": \"Republican\"\n",
      "}\n",
      "{\n",
      "  \"sentiment\": \"negative\",\n",
      "  \"emotion\": \"frustration\",\n",
      "  \"mentioned\": [\"GlennYoungkin\"],\n",
      "  \"support\": \"Republican\"\n",
      "}\n",
      "{\n",
      "  \"sentiment\": \"negative\",\n",
      "  \"emotion\": \"frustration\",\n",
      "  \"mentioned\": [\"@DustieDahl\", \"@KathleenWinche3\"],\n",
      "  \"support\": \"neutral\"\n",
      "}\n",
      "{\n",
      "  \"sentiment\": \"neutral\",\n",
      "  \"emotion\": \"informative\",\n",
      "  \"mentioned\": [\"FrankLuntz\", \"NPR\", \"Donald Trump\"],\n",
      "  \"support\": \"Republican\"\n",
      "}\n",
      "{\n",
      "  \"sentiment\": \"negative\",\n",
      "  \"emotion\": \"outrage\",\n",
      "  \"mentioned\": [\"RealMattCouch\", \"Trump\"],\n",
      "  \"support\": \"Republican\"\n",
      "}\n",
      "{\n",
      "  \"sentiment\": \"negative\",\n",
      "  \"emotion\": \"frustration\",\n",
      "  \"mentioned\": [\"Biden\", \"Harris\"],\n",
      "  \"support\": \"Democratic\"\n",
      "}\n",
      "{\n",
      "  \"sentiment\": \"negative\",\n",
      "  \"emotion\": \"shock\",\n",
      "  \"mentioned\": [\"SimonWDC\", \"Trump\"],\n",
      "  \"support\": \"Democratic\"\n",
      "}\n",
      "{\"sentiment\": \"neutral\", \"emotion\": \"curiosity\", \"mentioned\": [\"Eknath Shinde\", \"Uddhav Thackeray\", \"India Today\"], \"support\": \"neutral\"}\n",
      "{\n",
      "  \"sentiment\": \"neutral\",\n",
      "  \"emotion\": \"informative\",\n",
      "  \"mentioned\": [\"DanRShafer\", \"Tammy Baldwin\", \"Uihleins\"],\n",
      "  \"support\": \"Republican\"\n",
      "}\n",
      "{\n",
      "  \"sentiment\": \"positive\",\n",
      "  \"emotion\": \"concern\",\n",
      "  \"mentioned\": [\"mtgreenee\"],\n",
      "  \"support\": \"Republican\"\n",
      "}\n",
      "{\n",
      "  \"sentiment\": \"neutral\",\n",
      "  \"emotion\": \"seriousness\",\n",
      "  \"mentioned\": [\"BradBeauregardJ\"],\n",
      "  \"support\": \"neutral\"\n",
      "}\n",
      "{\n",
      "  \"sentiment\": \"negative\",\n",
      "  \"emotion\": \"anger\",\n",
      "  \"mentioned\": [\"James Comer\", \"TheRickyDavila\"],\n",
      "  \"support\": \"Democratic\"\n",
      "}\n",
      "{\n",
      "  \"sentiment\": \"negative\",\n",
      "  \"emotion\": \"defiance\",\n",
      "  \"mentioned\": [\"Barack Obama\", \"WesleyHuntTX\"],\n",
      "  \"support\": \"Republican\"\n",
      "}\n",
      "{\n",
      "  \"sentiment\": \"neutral\",\n",
      "  \"emotion\": \"determination\",\n",
      "  \"mentioned\": [\"KamalaHarris\"],\n",
      "  \"support\": \"Democratic\"\n",
      "}\n",
      "{\n",
      "  \"sentiment\": \"neutral\",\n",
      "  \"emotion\": \"determined\",\n",
      "  \"mentioned\": [\"levparnas\", \"rea\"],\n",
      "  \"support\": \"Democratic\"\n",
      "}\n",
      "{\n",
      "  \"sentiment\": \"positive\",\n",
      "  \"emotion\": \"excitement\",\n",
      "  \"mentioned\": [\"Donald Trump\"],\n",
      "  \"support\": \"Republican\"\n",
      "}\n",
      "{\n",
      "  \"sentiment\": \"neutral\",\n",
      "  \"emotion\": \"concern\",\n",
      "  \"mentioned\": [\"nancyd1957\", \"sdduba\"],\n",
      "  \"support\": \"neutral\"\n",
      "}\n",
      "{\n",
      "  \"sentiment\": \"neutral\",\n",
      "  \"emotion\": \"anticipation\",\n",
      "  \"mentioned\": [\"argosaki\"],\n",
      "  \"support\": \"neutral\"\n",
      "}\n",
      "{\n",
      "  \"sentiment\": \"neutral\",\n",
      "  \"emotion\": \"informative\",\n",
      "  \"mentioned\": [\"Donald Trump\"],\n",
      "  \"support\": \"Republican\"\n",
      "}\n",
      "{\n",
      "  \"sentiment\": \"neutral\",\n",
      "  \"emotion\": \"informative\",\n",
      "  \"mentioned\": [\"BrendanKeefe\"],\n",
      "  \"support\": \"neutral\"\n",
      "}\n",
      "{\n",
      "  \"sentiment\": \"negative\",\n",
      "  \"emotion\": \"frustration\",\n",
      "  \"mentioned\": [\"ecomarxi\"],\n",
      "  \"support\": \"Democratic\"\n",
      "}\n",
      "{\n",
      "  \"sentiment\": \"neutral\",\n",
      "  \"emotion\": \"determination\",\n",
      "  \"mentioned\": [\"mjfree\"],\n",
      "  \"support\": \"neutral\"\n",
      "}\n",
      "{\n",
      "  \"sentiment\": \"negative\",\n",
      "  \"emotion\": \"frustration\",\n",
      "  \"mentioned\": [\"Donald Trump\", \"McfarlaneGlenda\"],\n",
      "  \"support\": \"Democratic\"\n",
      "}\n",
      "{\n",
      "  \"sentiment\": \"neutral\",\n",
      "  \"emotion\": \"curiosity\",\n",
      "  \"mentioned\": [\"@onelerv\", \"@z388z\", \"@EricLDaugh\"],\n",
      "  \"support\": \"Republican\"\n",
      "}\n",
      "{\n",
      "  \"sentiment\": \"neutral\",\n",
      "  \"emotion\": \"concern\",\n",
      "  \"mentioned\": [\"WarrenCoDemsOH\"],\n",
      "  \"support\": \"Democratic\"\n",
      "}\n",
      "{\n",
      "  \"sentiment\": \"neutral\",\n",
      "  \"emotion\": \"anticipation\",\n",
      "  \"mentioned\": [\"BillieJeanKing\"],\n",
      "  \"support\": \"neutral\"\n",
      "}\n",
      "{\n",
      "  \"sentiment\": \"neutral\",\n",
      "  \"emotion\": \"concern\",\n",
      "  \"mentioned\": [\"BradBeauregardJ\"],\n",
      "  \"support\": \"neutral\"\n",
      "}\n",
      "{\n",
      "  \"sentiment\": \"neutral\",\n",
      "  \"emotion\": \"informative\",\n",
      "  \"mentioned\": [\"JoyceWhiteVance\"],\n",
      "  \"support\": \"Democratic\"\n",
      "}\n",
      "{\n",
      "  \"sentiment\": \"negative\",\n",
      "  \"emotion\": \"frustration\",\n",
      "  \"mentioned\": \"@AmazingZoltan\",\n",
      "  \"support\": \"neutral\"\n",
      "}\n",
      "{\n",
      "  \"sentiment\": \"neutral\",\n",
      "  \"emotion\": \"anticipation\",\n",
      "  \"mentioned\": [\"hodgetwins\", \"Trump\"],\n",
      "  \"support\": \"Republican\"\n",
      "}\n",
      "{\n",
      "  \"sentiment\": \"negative\",\n",
      "  \"emotion\": \"frustration\",\n",
      "  \"mentioned\": [\"BehizyTweets\"],\n",
      "  \"support\": \"Republican\"\n",
      "}\n",
      "{\n",
      "  \"sentiment\": \"neutral\",\n",
      "  \"emotion\": \"anticipation\",\n",
      "  \"mentioned\": [],\n",
      "  \"support\": \"neutral\"\n",
      "}\n",
      "{\n",
      "  \"sentiment\": \"negative\",\n",
      "  \"emotion\": \"concern\",\n",
      "  \"mentioned\": [\n",
      "    \"Donald Trump\",\n",
      "    \"FordJohnathan5\"\n",
      "  ],\n",
      "  \"support\": \"Republican\"\n",
      "}\n",
      "{\"sentiment\": \"neutral\", \"emotion\": \"analytical\", \"mentioned\": [\"@glassfire77\", \"@0xMikado\"], \"support\": \"Democratic\"}\n",
      "{\n",
      "  \"sentiment\": \"neutral\",\n",
      "  \"emotion\": \"informative\",\n",
      "  \"mentioned\": [\"Rep. Mark Pocan\", \"StephMillerShow\"],\n",
      "  \"support\": \"Democratic\"\n",
      "}\n",
      "{\n",
      "  \"sentiment\": \"neutral\",\n",
      "  \"emotion\": \"informative\",\n",
      "  \"mentioned\": [\"LongTimeHistory\"],\n",
      "  \"support\": \"Republican\"\n",
      "}\n",
      "{\n",
      "  \"sentiment\": \"neutral\",\n",
      "  \"emotion\": \"informative\",\n",
      "  \"mentioned\": [\"MacFarlaneNews\", \"Jimmy Carter\", \"Carter Center\"],\n",
      "  \"support\": \"Democratic\"\n",
      "}\n",
      "{\n",
      "  \"sentiment\": \"negative\",\n",
      "  \"emotion\": \"frustration\",\n",
      "  \"mentioned\": [\"ChristruthJ\", \"Real_RobN\"],\n",
      "  \"support\": \"Republican\"\n",
      "}\n"
     ]
    },
    {
     "ename": "KeyboardInterrupt",
     "evalue": "",
     "output_type": "error",
     "traceback": [
      "\u001b[0;31m---------------------------------------------------------------------------\u001b[0m",
      "\u001b[0;31mKeyboardInterrupt\u001b[0m                         Traceback (most recent call last)",
      "Cell \u001b[0;32mIn[18], line 11\u001b[0m\n\u001b[1;32m      1\u001b[0m \u001b[38;5;28;01mfor\u001b[39;00m tweet \u001b[38;5;129;01min\u001b[39;00m tweet_data:\n\u001b[1;32m      2\u001b[0m     messages \u001b[38;5;241m=\u001b[39m [\n\u001b[1;32m      3\u001b[0m         {\u001b[38;5;124m\"\u001b[39m\u001b[38;5;124mrole\u001b[39m\u001b[38;5;124m\"\u001b[39m: \u001b[38;5;124m\"\u001b[39m\u001b[38;5;124msystem\u001b[39m\u001b[38;5;124m\"\u001b[39m, \u001b[38;5;124m\"\u001b[39m\u001b[38;5;124mcontent\u001b[39m\u001b[38;5;124m\"\u001b[39m: \u001b[38;5;124mf\u001b[39m\u001b[38;5;124m\"\"\"\u001b[39m\u001b[38;5;124manalyze the tweet delimited by \u001b[39m\u001b[38;5;132;01m{\u001b[39;00mdelimiter\u001b[38;5;132;01m}\u001b[39;00m\u001b[38;5;124m in the following steps:\u001b[39m\n\u001b[1;32m      4\u001b[0m \u001b[38;5;124m                                        step 1 \u001b[39m\u001b[38;5;132;01m{\u001b[39;00mdelimiter\u001b[38;5;132;01m}\u001b[39;00m\u001b[38;5;124m identify the tweet sentiment in a single word, either positive, negative or neutral;\u001b[39m\n\u001b[0;32m   (...)\u001b[0m\n\u001b[1;32m      9\u001b[0m \u001b[38;5;124m                                         Do not wrap the json codes in JSON markers and only return the json document\u001b[39m\u001b[38;5;124m\"\"\"\u001b[39m},\n\u001b[1;32m     10\u001b[0m         {\u001b[38;5;124m\"\u001b[39m\u001b[38;5;124mrole\u001b[39m\u001b[38;5;124m\"\u001b[39m: \u001b[38;5;124m\"\u001b[39m\u001b[38;5;124muser\u001b[39m\u001b[38;5;124m\"\u001b[39m, \u001b[38;5;124m\"\u001b[39m\u001b[38;5;124mcontent\u001b[39m\u001b[38;5;124m\"\u001b[39m: \u001b[38;5;124mf\u001b[39m\u001b[38;5;124m\"\u001b[39m\u001b[38;5;132;01m{\u001b[39;00mdelimiter\u001b[38;5;132;01m}\u001b[39;00m\u001b[38;5;132;01m{\u001b[39;00mtweet\u001b[38;5;132;01m}\u001b[39;00m\u001b[38;5;132;01m{\u001b[39;00mdelimiter\u001b[38;5;132;01m}\u001b[39;00m\u001b[38;5;124m \u001b[39m\u001b[38;5;124m\"\u001b[39m}]\n\u001b[0;32m---> 11\u001b[0m     \u001b[38;5;28mprint\u001b[39m(\u001b[43mopenai_help\u001b[49m\u001b[43m(\u001b[49m\u001b[43mmessages\u001b[49m\u001b[43m)\u001b[49m)\n",
      "Cell \u001b[0;32mIn[2], line 10\u001b[0m, in \u001b[0;36mopenai_help\u001b[0;34m(messages, model, temperature)\u001b[0m\n\u001b[1;32m      8\u001b[0m \u001b[38;5;28;01mdef\u001b[39;00m\u001b[38;5;250m \u001b[39m\u001b[38;5;21mopenai_help\u001b[39m(messages, model\u001b[38;5;241m=\u001b[39mmodel, temperature \u001b[38;5;241m=\u001b[39mtemperature ):\n\u001b[1;32m      9\u001b[0m     messages \u001b[38;5;241m=\u001b[39m messages\n\u001b[0;32m---> 10\u001b[0m     response \u001b[38;5;241m=\u001b[39m \u001b[43mclient\u001b[49m\u001b[38;5;241;43m.\u001b[39;49m\u001b[43mchat\u001b[49m\u001b[38;5;241;43m.\u001b[39;49m\u001b[43mcompletions\u001b[49m\u001b[38;5;241;43m.\u001b[39;49m\u001b[43mcreate\u001b[49m\u001b[43m(\u001b[49m\n\u001b[1;32m     11\u001b[0m \u001b[43m        \u001b[49m\u001b[43mmodel\u001b[49m\u001b[38;5;241;43m=\u001b[39;49m\u001b[43mmodel\u001b[49m\u001b[43m,\u001b[49m\n\u001b[1;32m     12\u001b[0m \u001b[43m        \u001b[49m\u001b[43mmessages\u001b[49m\u001b[38;5;241;43m=\u001b[39;49m\u001b[43mmessages\u001b[49m\u001b[43m,\u001b[49m\n\u001b[1;32m     13\u001b[0m \u001b[43m        \u001b[49m\u001b[43mtemperature\u001b[49m\u001b[38;5;241;43m=\u001b[39;49m\u001b[43mtemperature\u001b[49m\n\u001b[1;32m     14\u001b[0m \n\u001b[1;32m     15\u001b[0m \u001b[43m    \u001b[49m\u001b[43m)\u001b[49m\n\u001b[1;32m     16\u001b[0m     \u001b[38;5;28;01mreturn\u001b[39;00m response\u001b[38;5;241m.\u001b[39mchoices[\u001b[38;5;241m0\u001b[39m]\u001b[38;5;241m.\u001b[39mmessage\u001b[38;5;241m.\u001b[39mcontent\n",
      "File \u001b[0;32m~/anaconda3/envs/python3/lib/python3.10/site-packages/openai/_utils/_utils.py:279\u001b[0m, in \u001b[0;36mrequired_args.<locals>.inner.<locals>.wrapper\u001b[0;34m(*args, **kwargs)\u001b[0m\n\u001b[1;32m    277\u001b[0m             msg \u001b[38;5;241m=\u001b[39m \u001b[38;5;124mf\u001b[39m\u001b[38;5;124m\"\u001b[39m\u001b[38;5;124mMissing required argument: \u001b[39m\u001b[38;5;132;01m{\u001b[39;00mquote(missing[\u001b[38;5;241m0\u001b[39m])\u001b[38;5;132;01m}\u001b[39;00m\u001b[38;5;124m\"\u001b[39m\n\u001b[1;32m    278\u001b[0m     \u001b[38;5;28;01mraise\u001b[39;00m \u001b[38;5;167;01mTypeError\u001b[39;00m(msg)\n\u001b[0;32m--> 279\u001b[0m \u001b[38;5;28;01mreturn\u001b[39;00m \u001b[43mfunc\u001b[49m\u001b[43m(\u001b[49m\u001b[38;5;241;43m*\u001b[39;49m\u001b[43margs\u001b[49m\u001b[43m,\u001b[49m\u001b[43m \u001b[49m\u001b[38;5;241;43m*\u001b[39;49m\u001b[38;5;241;43m*\u001b[39;49m\u001b[43mkwargs\u001b[49m\u001b[43m)\u001b[49m\n",
      "File \u001b[0;32m~/anaconda3/envs/python3/lib/python3.10/site-packages/openai/resources/chat/completions/completions.py:914\u001b[0m, in \u001b[0;36mCompletions.create\u001b[0;34m(self, messages, model, audio, frequency_penalty, function_call, functions, logit_bias, logprobs, max_completion_tokens, max_tokens, metadata, modalities, n, parallel_tool_calls, prediction, presence_penalty, reasoning_effort, response_format, seed, service_tier, stop, store, stream, stream_options, temperature, tool_choice, tools, top_logprobs, top_p, user, web_search_options, extra_headers, extra_query, extra_body, timeout)\u001b[0m\n\u001b[1;32m    871\u001b[0m \u001b[38;5;129m@required_args\u001b[39m([\u001b[38;5;124m\"\u001b[39m\u001b[38;5;124mmessages\u001b[39m\u001b[38;5;124m\"\u001b[39m, \u001b[38;5;124m\"\u001b[39m\u001b[38;5;124mmodel\u001b[39m\u001b[38;5;124m\"\u001b[39m], [\u001b[38;5;124m\"\u001b[39m\u001b[38;5;124mmessages\u001b[39m\u001b[38;5;124m\"\u001b[39m, \u001b[38;5;124m\"\u001b[39m\u001b[38;5;124mmodel\u001b[39m\u001b[38;5;124m\"\u001b[39m, \u001b[38;5;124m\"\u001b[39m\u001b[38;5;124mstream\u001b[39m\u001b[38;5;124m\"\u001b[39m])\n\u001b[1;32m    872\u001b[0m \u001b[38;5;28;01mdef\u001b[39;00m\u001b[38;5;250m \u001b[39m\u001b[38;5;21mcreate\u001b[39m(\n\u001b[1;32m    873\u001b[0m     \u001b[38;5;28mself\u001b[39m,\n\u001b[0;32m   (...)\u001b[0m\n\u001b[1;32m    911\u001b[0m     timeout: \u001b[38;5;28mfloat\u001b[39m \u001b[38;5;241m|\u001b[39m httpx\u001b[38;5;241m.\u001b[39mTimeout \u001b[38;5;241m|\u001b[39m \u001b[38;5;28;01mNone\u001b[39;00m \u001b[38;5;241m|\u001b[39m NotGiven \u001b[38;5;241m=\u001b[39m NOT_GIVEN,\n\u001b[1;32m    912\u001b[0m ) \u001b[38;5;241m-\u001b[39m\u001b[38;5;241m>\u001b[39m ChatCompletion \u001b[38;5;241m|\u001b[39m Stream[ChatCompletionChunk]:\n\u001b[1;32m    913\u001b[0m     validate_response_format(response_format)\n\u001b[0;32m--> 914\u001b[0m     \u001b[38;5;28;01mreturn\u001b[39;00m \u001b[38;5;28;43mself\u001b[39;49m\u001b[38;5;241;43m.\u001b[39;49m\u001b[43m_post\u001b[49m\u001b[43m(\u001b[49m\n\u001b[1;32m    915\u001b[0m \u001b[43m        \u001b[49m\u001b[38;5;124;43m\"\u001b[39;49m\u001b[38;5;124;43m/chat/completions\u001b[39;49m\u001b[38;5;124;43m\"\u001b[39;49m\u001b[43m,\u001b[49m\n\u001b[1;32m    916\u001b[0m \u001b[43m        \u001b[49m\u001b[43mbody\u001b[49m\u001b[38;5;241;43m=\u001b[39;49m\u001b[43mmaybe_transform\u001b[49m\u001b[43m(\u001b[49m\n\u001b[1;32m    917\u001b[0m \u001b[43m            \u001b[49m\u001b[43m{\u001b[49m\n\u001b[1;32m    918\u001b[0m \u001b[43m                \u001b[49m\u001b[38;5;124;43m\"\u001b[39;49m\u001b[38;5;124;43mmessages\u001b[39;49m\u001b[38;5;124;43m\"\u001b[39;49m\u001b[43m:\u001b[49m\u001b[43m \u001b[49m\u001b[43mmessages\u001b[49m\u001b[43m,\u001b[49m\n\u001b[1;32m    919\u001b[0m \u001b[43m                \u001b[49m\u001b[38;5;124;43m\"\u001b[39;49m\u001b[38;5;124;43mmodel\u001b[39;49m\u001b[38;5;124;43m\"\u001b[39;49m\u001b[43m:\u001b[49m\u001b[43m \u001b[49m\u001b[43mmodel\u001b[49m\u001b[43m,\u001b[49m\n\u001b[1;32m    920\u001b[0m \u001b[43m                \u001b[49m\u001b[38;5;124;43m\"\u001b[39;49m\u001b[38;5;124;43maudio\u001b[39;49m\u001b[38;5;124;43m\"\u001b[39;49m\u001b[43m:\u001b[49m\u001b[43m \u001b[49m\u001b[43maudio\u001b[49m\u001b[43m,\u001b[49m\n\u001b[1;32m    921\u001b[0m \u001b[43m                \u001b[49m\u001b[38;5;124;43m\"\u001b[39;49m\u001b[38;5;124;43mfrequency_penalty\u001b[39;49m\u001b[38;5;124;43m\"\u001b[39;49m\u001b[43m:\u001b[49m\u001b[43m \u001b[49m\u001b[43mfrequency_penalty\u001b[49m\u001b[43m,\u001b[49m\n\u001b[1;32m    922\u001b[0m \u001b[43m                \u001b[49m\u001b[38;5;124;43m\"\u001b[39;49m\u001b[38;5;124;43mfunction_call\u001b[39;49m\u001b[38;5;124;43m\"\u001b[39;49m\u001b[43m:\u001b[49m\u001b[43m \u001b[49m\u001b[43mfunction_call\u001b[49m\u001b[43m,\u001b[49m\n\u001b[1;32m    923\u001b[0m \u001b[43m                \u001b[49m\u001b[38;5;124;43m\"\u001b[39;49m\u001b[38;5;124;43mfunctions\u001b[39;49m\u001b[38;5;124;43m\"\u001b[39;49m\u001b[43m:\u001b[49m\u001b[43m \u001b[49m\u001b[43mfunctions\u001b[49m\u001b[43m,\u001b[49m\n\u001b[1;32m    924\u001b[0m \u001b[43m                \u001b[49m\u001b[38;5;124;43m\"\u001b[39;49m\u001b[38;5;124;43mlogit_bias\u001b[39;49m\u001b[38;5;124;43m\"\u001b[39;49m\u001b[43m:\u001b[49m\u001b[43m \u001b[49m\u001b[43mlogit_bias\u001b[49m\u001b[43m,\u001b[49m\n\u001b[1;32m    925\u001b[0m \u001b[43m                \u001b[49m\u001b[38;5;124;43m\"\u001b[39;49m\u001b[38;5;124;43mlogprobs\u001b[39;49m\u001b[38;5;124;43m\"\u001b[39;49m\u001b[43m:\u001b[49m\u001b[43m \u001b[49m\u001b[43mlogprobs\u001b[49m\u001b[43m,\u001b[49m\n\u001b[1;32m    926\u001b[0m \u001b[43m                \u001b[49m\u001b[38;5;124;43m\"\u001b[39;49m\u001b[38;5;124;43mmax_completion_tokens\u001b[39;49m\u001b[38;5;124;43m\"\u001b[39;49m\u001b[43m:\u001b[49m\u001b[43m \u001b[49m\u001b[43mmax_completion_tokens\u001b[49m\u001b[43m,\u001b[49m\n\u001b[1;32m    927\u001b[0m \u001b[43m                \u001b[49m\u001b[38;5;124;43m\"\u001b[39;49m\u001b[38;5;124;43mmax_tokens\u001b[39;49m\u001b[38;5;124;43m\"\u001b[39;49m\u001b[43m:\u001b[49m\u001b[43m \u001b[49m\u001b[43mmax_tokens\u001b[49m\u001b[43m,\u001b[49m\n\u001b[1;32m    928\u001b[0m \u001b[43m                \u001b[49m\u001b[38;5;124;43m\"\u001b[39;49m\u001b[38;5;124;43mmetadata\u001b[39;49m\u001b[38;5;124;43m\"\u001b[39;49m\u001b[43m:\u001b[49m\u001b[43m \u001b[49m\u001b[43mmetadata\u001b[49m\u001b[43m,\u001b[49m\n\u001b[1;32m    929\u001b[0m \u001b[43m                \u001b[49m\u001b[38;5;124;43m\"\u001b[39;49m\u001b[38;5;124;43mmodalities\u001b[39;49m\u001b[38;5;124;43m\"\u001b[39;49m\u001b[43m:\u001b[49m\u001b[43m \u001b[49m\u001b[43mmodalities\u001b[49m\u001b[43m,\u001b[49m\n\u001b[1;32m    930\u001b[0m \u001b[43m                \u001b[49m\u001b[38;5;124;43m\"\u001b[39;49m\u001b[38;5;124;43mn\u001b[39;49m\u001b[38;5;124;43m\"\u001b[39;49m\u001b[43m:\u001b[49m\u001b[43m \u001b[49m\u001b[43mn\u001b[49m\u001b[43m,\u001b[49m\n\u001b[1;32m    931\u001b[0m \u001b[43m                \u001b[49m\u001b[38;5;124;43m\"\u001b[39;49m\u001b[38;5;124;43mparallel_tool_calls\u001b[39;49m\u001b[38;5;124;43m\"\u001b[39;49m\u001b[43m:\u001b[49m\u001b[43m \u001b[49m\u001b[43mparallel_tool_calls\u001b[49m\u001b[43m,\u001b[49m\n\u001b[1;32m    932\u001b[0m \u001b[43m                \u001b[49m\u001b[38;5;124;43m\"\u001b[39;49m\u001b[38;5;124;43mprediction\u001b[39;49m\u001b[38;5;124;43m\"\u001b[39;49m\u001b[43m:\u001b[49m\u001b[43m \u001b[49m\u001b[43mprediction\u001b[49m\u001b[43m,\u001b[49m\n\u001b[1;32m    933\u001b[0m \u001b[43m                \u001b[49m\u001b[38;5;124;43m\"\u001b[39;49m\u001b[38;5;124;43mpresence_penalty\u001b[39;49m\u001b[38;5;124;43m\"\u001b[39;49m\u001b[43m:\u001b[49m\u001b[43m \u001b[49m\u001b[43mpresence_penalty\u001b[49m\u001b[43m,\u001b[49m\n\u001b[1;32m    934\u001b[0m \u001b[43m                \u001b[49m\u001b[38;5;124;43m\"\u001b[39;49m\u001b[38;5;124;43mreasoning_effort\u001b[39;49m\u001b[38;5;124;43m\"\u001b[39;49m\u001b[43m:\u001b[49m\u001b[43m \u001b[49m\u001b[43mreasoning_effort\u001b[49m\u001b[43m,\u001b[49m\n\u001b[1;32m    935\u001b[0m \u001b[43m                \u001b[49m\u001b[38;5;124;43m\"\u001b[39;49m\u001b[38;5;124;43mresponse_format\u001b[39;49m\u001b[38;5;124;43m\"\u001b[39;49m\u001b[43m:\u001b[49m\u001b[43m \u001b[49m\u001b[43mresponse_format\u001b[49m\u001b[43m,\u001b[49m\n\u001b[1;32m    936\u001b[0m \u001b[43m                \u001b[49m\u001b[38;5;124;43m\"\u001b[39;49m\u001b[38;5;124;43mseed\u001b[39;49m\u001b[38;5;124;43m\"\u001b[39;49m\u001b[43m:\u001b[49m\u001b[43m \u001b[49m\u001b[43mseed\u001b[49m\u001b[43m,\u001b[49m\n\u001b[1;32m    937\u001b[0m \u001b[43m                \u001b[49m\u001b[38;5;124;43m\"\u001b[39;49m\u001b[38;5;124;43mservice_tier\u001b[39;49m\u001b[38;5;124;43m\"\u001b[39;49m\u001b[43m:\u001b[49m\u001b[43m \u001b[49m\u001b[43mservice_tier\u001b[49m\u001b[43m,\u001b[49m\n\u001b[1;32m    938\u001b[0m \u001b[43m                \u001b[49m\u001b[38;5;124;43m\"\u001b[39;49m\u001b[38;5;124;43mstop\u001b[39;49m\u001b[38;5;124;43m\"\u001b[39;49m\u001b[43m:\u001b[49m\u001b[43m \u001b[49m\u001b[43mstop\u001b[49m\u001b[43m,\u001b[49m\n\u001b[1;32m    939\u001b[0m \u001b[43m                \u001b[49m\u001b[38;5;124;43m\"\u001b[39;49m\u001b[38;5;124;43mstore\u001b[39;49m\u001b[38;5;124;43m\"\u001b[39;49m\u001b[43m:\u001b[49m\u001b[43m \u001b[49m\u001b[43mstore\u001b[49m\u001b[43m,\u001b[49m\n\u001b[1;32m    940\u001b[0m \u001b[43m                \u001b[49m\u001b[38;5;124;43m\"\u001b[39;49m\u001b[38;5;124;43mstream\u001b[39;49m\u001b[38;5;124;43m\"\u001b[39;49m\u001b[43m:\u001b[49m\u001b[43m \u001b[49m\u001b[43mstream\u001b[49m\u001b[43m,\u001b[49m\n\u001b[1;32m    941\u001b[0m \u001b[43m                \u001b[49m\u001b[38;5;124;43m\"\u001b[39;49m\u001b[38;5;124;43mstream_options\u001b[39;49m\u001b[38;5;124;43m\"\u001b[39;49m\u001b[43m:\u001b[49m\u001b[43m \u001b[49m\u001b[43mstream_options\u001b[49m\u001b[43m,\u001b[49m\n\u001b[1;32m    942\u001b[0m \u001b[43m                \u001b[49m\u001b[38;5;124;43m\"\u001b[39;49m\u001b[38;5;124;43mtemperature\u001b[39;49m\u001b[38;5;124;43m\"\u001b[39;49m\u001b[43m:\u001b[49m\u001b[43m \u001b[49m\u001b[43mtemperature\u001b[49m\u001b[43m,\u001b[49m\n\u001b[1;32m    943\u001b[0m \u001b[43m                \u001b[49m\u001b[38;5;124;43m\"\u001b[39;49m\u001b[38;5;124;43mtool_choice\u001b[39;49m\u001b[38;5;124;43m\"\u001b[39;49m\u001b[43m:\u001b[49m\u001b[43m \u001b[49m\u001b[43mtool_choice\u001b[49m\u001b[43m,\u001b[49m\n\u001b[1;32m    944\u001b[0m \u001b[43m                \u001b[49m\u001b[38;5;124;43m\"\u001b[39;49m\u001b[38;5;124;43mtools\u001b[39;49m\u001b[38;5;124;43m\"\u001b[39;49m\u001b[43m:\u001b[49m\u001b[43m \u001b[49m\u001b[43mtools\u001b[49m\u001b[43m,\u001b[49m\n\u001b[1;32m    945\u001b[0m \u001b[43m                \u001b[49m\u001b[38;5;124;43m\"\u001b[39;49m\u001b[38;5;124;43mtop_logprobs\u001b[39;49m\u001b[38;5;124;43m\"\u001b[39;49m\u001b[43m:\u001b[49m\u001b[43m \u001b[49m\u001b[43mtop_logprobs\u001b[49m\u001b[43m,\u001b[49m\n\u001b[1;32m    946\u001b[0m \u001b[43m                \u001b[49m\u001b[38;5;124;43m\"\u001b[39;49m\u001b[38;5;124;43mtop_p\u001b[39;49m\u001b[38;5;124;43m\"\u001b[39;49m\u001b[43m:\u001b[49m\u001b[43m \u001b[49m\u001b[43mtop_p\u001b[49m\u001b[43m,\u001b[49m\n\u001b[1;32m    947\u001b[0m \u001b[43m                \u001b[49m\u001b[38;5;124;43m\"\u001b[39;49m\u001b[38;5;124;43muser\u001b[39;49m\u001b[38;5;124;43m\"\u001b[39;49m\u001b[43m:\u001b[49m\u001b[43m \u001b[49m\u001b[43muser\u001b[49m\u001b[43m,\u001b[49m\n\u001b[1;32m    948\u001b[0m \u001b[43m                \u001b[49m\u001b[38;5;124;43m\"\u001b[39;49m\u001b[38;5;124;43mweb_search_options\u001b[39;49m\u001b[38;5;124;43m\"\u001b[39;49m\u001b[43m:\u001b[49m\u001b[43m \u001b[49m\u001b[43mweb_search_options\u001b[49m\u001b[43m,\u001b[49m\n\u001b[1;32m    949\u001b[0m \u001b[43m            \u001b[49m\u001b[43m}\u001b[49m\u001b[43m,\u001b[49m\n\u001b[1;32m    950\u001b[0m \u001b[43m            \u001b[49m\u001b[43mcompletion_create_params\u001b[49m\u001b[38;5;241;43m.\u001b[39;49m\u001b[43mCompletionCreateParams\u001b[49m\u001b[43m,\u001b[49m\n\u001b[1;32m    951\u001b[0m \u001b[43m        \u001b[49m\u001b[43m)\u001b[49m\u001b[43m,\u001b[49m\n\u001b[1;32m    952\u001b[0m \u001b[43m        \u001b[49m\u001b[43moptions\u001b[49m\u001b[38;5;241;43m=\u001b[39;49m\u001b[43mmake_request_options\u001b[49m\u001b[43m(\u001b[49m\n\u001b[1;32m    953\u001b[0m \u001b[43m            \u001b[49m\u001b[43mextra_headers\u001b[49m\u001b[38;5;241;43m=\u001b[39;49m\u001b[43mextra_headers\u001b[49m\u001b[43m,\u001b[49m\u001b[43m \u001b[49m\u001b[43mextra_query\u001b[49m\u001b[38;5;241;43m=\u001b[39;49m\u001b[43mextra_query\u001b[49m\u001b[43m,\u001b[49m\u001b[43m \u001b[49m\u001b[43mextra_body\u001b[49m\u001b[38;5;241;43m=\u001b[39;49m\u001b[43mextra_body\u001b[49m\u001b[43m,\u001b[49m\u001b[43m \u001b[49m\u001b[43mtimeout\u001b[49m\u001b[38;5;241;43m=\u001b[39;49m\u001b[43mtimeout\u001b[49m\n\u001b[1;32m    954\u001b[0m \u001b[43m        \u001b[49m\u001b[43m)\u001b[49m\u001b[43m,\u001b[49m\n\u001b[1;32m    955\u001b[0m \u001b[43m        \u001b[49m\u001b[43mcast_to\u001b[49m\u001b[38;5;241;43m=\u001b[39;49m\u001b[43mChatCompletion\u001b[49m\u001b[43m,\u001b[49m\n\u001b[1;32m    956\u001b[0m \u001b[43m        \u001b[49m\u001b[43mstream\u001b[49m\u001b[38;5;241;43m=\u001b[39;49m\u001b[43mstream\u001b[49m\u001b[43m \u001b[49m\u001b[38;5;129;43;01mor\u001b[39;49;00m\u001b[43m \u001b[49m\u001b[38;5;28;43;01mFalse\u001b[39;49;00m\u001b[43m,\u001b[49m\n\u001b[1;32m    957\u001b[0m \u001b[43m        \u001b[49m\u001b[43mstream_cls\u001b[49m\u001b[38;5;241;43m=\u001b[39;49m\u001b[43mStream\u001b[49m\u001b[43m[\u001b[49m\u001b[43mChatCompletionChunk\u001b[49m\u001b[43m]\u001b[49m\u001b[43m,\u001b[49m\n\u001b[1;32m    958\u001b[0m \u001b[43m    \u001b[49m\u001b[43m)\u001b[49m\n",
      "File \u001b[0;32m~/anaconda3/envs/python3/lib/python3.10/site-packages/openai/_base_client.py:1242\u001b[0m, in \u001b[0;36mSyncAPIClient.post\u001b[0;34m(self, path, cast_to, body, options, files, stream, stream_cls)\u001b[0m\n\u001b[1;32m   1228\u001b[0m \u001b[38;5;28;01mdef\u001b[39;00m\u001b[38;5;250m \u001b[39m\u001b[38;5;21mpost\u001b[39m(\n\u001b[1;32m   1229\u001b[0m     \u001b[38;5;28mself\u001b[39m,\n\u001b[1;32m   1230\u001b[0m     path: \u001b[38;5;28mstr\u001b[39m,\n\u001b[0;32m   (...)\u001b[0m\n\u001b[1;32m   1237\u001b[0m     stream_cls: \u001b[38;5;28mtype\u001b[39m[_StreamT] \u001b[38;5;241m|\u001b[39m \u001b[38;5;28;01mNone\u001b[39;00m \u001b[38;5;241m=\u001b[39m \u001b[38;5;28;01mNone\u001b[39;00m,\n\u001b[1;32m   1238\u001b[0m ) \u001b[38;5;241m-\u001b[39m\u001b[38;5;241m>\u001b[39m ResponseT \u001b[38;5;241m|\u001b[39m _StreamT:\n\u001b[1;32m   1239\u001b[0m     opts \u001b[38;5;241m=\u001b[39m FinalRequestOptions\u001b[38;5;241m.\u001b[39mconstruct(\n\u001b[1;32m   1240\u001b[0m         method\u001b[38;5;241m=\u001b[39m\u001b[38;5;124m\"\u001b[39m\u001b[38;5;124mpost\u001b[39m\u001b[38;5;124m\"\u001b[39m, url\u001b[38;5;241m=\u001b[39mpath, json_data\u001b[38;5;241m=\u001b[39mbody, files\u001b[38;5;241m=\u001b[39mto_httpx_files(files), \u001b[38;5;241m*\u001b[39m\u001b[38;5;241m*\u001b[39moptions\n\u001b[1;32m   1241\u001b[0m     )\n\u001b[0;32m-> 1242\u001b[0m     \u001b[38;5;28;01mreturn\u001b[39;00m cast(ResponseT, \u001b[38;5;28;43mself\u001b[39;49m\u001b[38;5;241;43m.\u001b[39;49m\u001b[43mrequest\u001b[49m\u001b[43m(\u001b[49m\u001b[43mcast_to\u001b[49m\u001b[43m,\u001b[49m\u001b[43m \u001b[49m\u001b[43mopts\u001b[49m\u001b[43m,\u001b[49m\u001b[43m \u001b[49m\u001b[43mstream\u001b[49m\u001b[38;5;241;43m=\u001b[39;49m\u001b[43mstream\u001b[49m\u001b[43m,\u001b[49m\u001b[43m \u001b[49m\u001b[43mstream_cls\u001b[49m\u001b[38;5;241;43m=\u001b[39;49m\u001b[43mstream_cls\u001b[49m\u001b[43m)\u001b[49m)\n",
      "File \u001b[0;32m~/anaconda3/envs/python3/lib/python3.10/site-packages/openai/_base_client.py:919\u001b[0m, in \u001b[0;36mSyncAPIClient.request\u001b[0;34m(self, cast_to, options, remaining_retries, stream, stream_cls)\u001b[0m\n\u001b[1;32m    916\u001b[0m \u001b[38;5;28;01melse\u001b[39;00m:\n\u001b[1;32m    917\u001b[0m     retries_taken \u001b[38;5;241m=\u001b[39m \u001b[38;5;241m0\u001b[39m\n\u001b[0;32m--> 919\u001b[0m \u001b[38;5;28;01mreturn\u001b[39;00m \u001b[38;5;28;43mself\u001b[39;49m\u001b[38;5;241;43m.\u001b[39;49m\u001b[43m_request\u001b[49m\u001b[43m(\u001b[49m\n\u001b[1;32m    920\u001b[0m \u001b[43m    \u001b[49m\u001b[43mcast_to\u001b[49m\u001b[38;5;241;43m=\u001b[39;49m\u001b[43mcast_to\u001b[49m\u001b[43m,\u001b[49m\n\u001b[1;32m    921\u001b[0m \u001b[43m    \u001b[49m\u001b[43moptions\u001b[49m\u001b[38;5;241;43m=\u001b[39;49m\u001b[43moptions\u001b[49m\u001b[43m,\u001b[49m\n\u001b[1;32m    922\u001b[0m \u001b[43m    \u001b[49m\u001b[43mstream\u001b[49m\u001b[38;5;241;43m=\u001b[39;49m\u001b[43mstream\u001b[49m\u001b[43m,\u001b[49m\n\u001b[1;32m    923\u001b[0m \u001b[43m    \u001b[49m\u001b[43mstream_cls\u001b[49m\u001b[38;5;241;43m=\u001b[39;49m\u001b[43mstream_cls\u001b[49m\u001b[43m,\u001b[49m\n\u001b[1;32m    924\u001b[0m \u001b[43m    \u001b[49m\u001b[43mretries_taken\u001b[49m\u001b[38;5;241;43m=\u001b[39;49m\u001b[43mretries_taken\u001b[49m\u001b[43m,\u001b[49m\n\u001b[1;32m    925\u001b[0m \u001b[43m\u001b[49m\u001b[43m)\u001b[49m\n",
      "File \u001b[0;32m~/anaconda3/envs/python3/lib/python3.10/site-packages/openai/_base_client.py:955\u001b[0m, in \u001b[0;36mSyncAPIClient._request\u001b[0;34m(self, cast_to, options, retries_taken, stream, stream_cls)\u001b[0m\n\u001b[1;32m    952\u001b[0m log\u001b[38;5;241m.\u001b[39mdebug(\u001b[38;5;124m\"\u001b[39m\u001b[38;5;124mSending HTTP Request: \u001b[39m\u001b[38;5;132;01m%s\u001b[39;00m\u001b[38;5;124m \u001b[39m\u001b[38;5;132;01m%s\u001b[39;00m\u001b[38;5;124m\"\u001b[39m, request\u001b[38;5;241m.\u001b[39mmethod, request\u001b[38;5;241m.\u001b[39murl)\n\u001b[1;32m    954\u001b[0m \u001b[38;5;28;01mtry\u001b[39;00m:\n\u001b[0;32m--> 955\u001b[0m     response \u001b[38;5;241m=\u001b[39m \u001b[38;5;28;43mself\u001b[39;49m\u001b[38;5;241;43m.\u001b[39;49m\u001b[43m_client\u001b[49m\u001b[38;5;241;43m.\u001b[39;49m\u001b[43msend\u001b[49m\u001b[43m(\u001b[49m\n\u001b[1;32m    956\u001b[0m \u001b[43m        \u001b[49m\u001b[43mrequest\u001b[49m\u001b[43m,\u001b[49m\n\u001b[1;32m    957\u001b[0m \u001b[43m        \u001b[49m\u001b[43mstream\u001b[49m\u001b[38;5;241;43m=\u001b[39;49m\u001b[43mstream\u001b[49m\u001b[43m \u001b[49m\u001b[38;5;129;43;01mor\u001b[39;49;00m\u001b[43m \u001b[49m\u001b[38;5;28;43mself\u001b[39;49m\u001b[38;5;241;43m.\u001b[39;49m\u001b[43m_should_stream_response_body\u001b[49m\u001b[43m(\u001b[49m\u001b[43mrequest\u001b[49m\u001b[38;5;241;43m=\u001b[39;49m\u001b[43mrequest\u001b[49m\u001b[43m)\u001b[49m\u001b[43m,\u001b[49m\n\u001b[1;32m    958\u001b[0m \u001b[43m        \u001b[49m\u001b[38;5;241;43m*\u001b[39;49m\u001b[38;5;241;43m*\u001b[39;49m\u001b[43mkwargs\u001b[49m\u001b[43m,\u001b[49m\n\u001b[1;32m    959\u001b[0m \u001b[43m    \u001b[49m\u001b[43m)\u001b[49m\n\u001b[1;32m    960\u001b[0m \u001b[38;5;28;01mexcept\u001b[39;00m httpx\u001b[38;5;241m.\u001b[39mTimeoutException \u001b[38;5;28;01mas\u001b[39;00m err:\n\u001b[1;32m    961\u001b[0m     log\u001b[38;5;241m.\u001b[39mdebug(\u001b[38;5;124m\"\u001b[39m\u001b[38;5;124mEncountered httpx.TimeoutException\u001b[39m\u001b[38;5;124m\"\u001b[39m, exc_info\u001b[38;5;241m=\u001b[39m\u001b[38;5;28;01mTrue\u001b[39;00m)\n",
      "File \u001b[0;32m~/anaconda3/envs/python3/lib/python3.10/site-packages/httpx/_client.py:914\u001b[0m, in \u001b[0;36mClient.send\u001b[0;34m(self, request, stream, auth, follow_redirects)\u001b[0m\n\u001b[1;32m    910\u001b[0m \u001b[38;5;28mself\u001b[39m\u001b[38;5;241m.\u001b[39m_set_timeout(request)\n\u001b[1;32m    912\u001b[0m auth \u001b[38;5;241m=\u001b[39m \u001b[38;5;28mself\u001b[39m\u001b[38;5;241m.\u001b[39m_build_request_auth(request, auth)\n\u001b[0;32m--> 914\u001b[0m response \u001b[38;5;241m=\u001b[39m \u001b[38;5;28;43mself\u001b[39;49m\u001b[38;5;241;43m.\u001b[39;49m\u001b[43m_send_handling_auth\u001b[49m\u001b[43m(\u001b[49m\n\u001b[1;32m    915\u001b[0m \u001b[43m    \u001b[49m\u001b[43mrequest\u001b[49m\u001b[43m,\u001b[49m\n\u001b[1;32m    916\u001b[0m \u001b[43m    \u001b[49m\u001b[43mauth\u001b[49m\u001b[38;5;241;43m=\u001b[39;49m\u001b[43mauth\u001b[49m\u001b[43m,\u001b[49m\n\u001b[1;32m    917\u001b[0m \u001b[43m    \u001b[49m\u001b[43mfollow_redirects\u001b[49m\u001b[38;5;241;43m=\u001b[39;49m\u001b[43mfollow_redirects\u001b[49m\u001b[43m,\u001b[49m\n\u001b[1;32m    918\u001b[0m \u001b[43m    \u001b[49m\u001b[43mhistory\u001b[49m\u001b[38;5;241;43m=\u001b[39;49m\u001b[43m[\u001b[49m\u001b[43m]\u001b[49m\u001b[43m,\u001b[49m\n\u001b[1;32m    919\u001b[0m \u001b[43m\u001b[49m\u001b[43m)\u001b[49m\n\u001b[1;32m    920\u001b[0m \u001b[38;5;28;01mtry\u001b[39;00m:\n\u001b[1;32m    921\u001b[0m     \u001b[38;5;28;01mif\u001b[39;00m \u001b[38;5;129;01mnot\u001b[39;00m stream:\n",
      "File \u001b[0;32m~/anaconda3/envs/python3/lib/python3.10/site-packages/httpx/_client.py:942\u001b[0m, in \u001b[0;36mClient._send_handling_auth\u001b[0;34m(self, request, auth, follow_redirects, history)\u001b[0m\n\u001b[1;32m    939\u001b[0m request \u001b[38;5;241m=\u001b[39m \u001b[38;5;28mnext\u001b[39m(auth_flow)\n\u001b[1;32m    941\u001b[0m \u001b[38;5;28;01mwhile\u001b[39;00m \u001b[38;5;28;01mTrue\u001b[39;00m:\n\u001b[0;32m--> 942\u001b[0m     response \u001b[38;5;241m=\u001b[39m \u001b[38;5;28;43mself\u001b[39;49m\u001b[38;5;241;43m.\u001b[39;49m\u001b[43m_send_handling_redirects\u001b[49m\u001b[43m(\u001b[49m\n\u001b[1;32m    943\u001b[0m \u001b[43m        \u001b[49m\u001b[43mrequest\u001b[49m\u001b[43m,\u001b[49m\n\u001b[1;32m    944\u001b[0m \u001b[43m        \u001b[49m\u001b[43mfollow_redirects\u001b[49m\u001b[38;5;241;43m=\u001b[39;49m\u001b[43mfollow_redirects\u001b[49m\u001b[43m,\u001b[49m\n\u001b[1;32m    945\u001b[0m \u001b[43m        \u001b[49m\u001b[43mhistory\u001b[49m\u001b[38;5;241;43m=\u001b[39;49m\u001b[43mhistory\u001b[49m\u001b[43m,\u001b[49m\n\u001b[1;32m    946\u001b[0m \u001b[43m    \u001b[49m\u001b[43m)\u001b[49m\n\u001b[1;32m    947\u001b[0m     \u001b[38;5;28;01mtry\u001b[39;00m:\n\u001b[1;32m    948\u001b[0m         \u001b[38;5;28;01mtry\u001b[39;00m:\n",
      "File \u001b[0;32m~/anaconda3/envs/python3/lib/python3.10/site-packages/httpx/_client.py:979\u001b[0m, in \u001b[0;36mClient._send_handling_redirects\u001b[0;34m(self, request, follow_redirects, history)\u001b[0m\n\u001b[1;32m    976\u001b[0m \u001b[38;5;28;01mfor\u001b[39;00m hook \u001b[38;5;129;01min\u001b[39;00m \u001b[38;5;28mself\u001b[39m\u001b[38;5;241m.\u001b[39m_event_hooks[\u001b[38;5;124m\"\u001b[39m\u001b[38;5;124mrequest\u001b[39m\u001b[38;5;124m\"\u001b[39m]:\n\u001b[1;32m    977\u001b[0m     hook(request)\n\u001b[0;32m--> 979\u001b[0m response \u001b[38;5;241m=\u001b[39m \u001b[38;5;28;43mself\u001b[39;49m\u001b[38;5;241;43m.\u001b[39;49m\u001b[43m_send_single_request\u001b[49m\u001b[43m(\u001b[49m\u001b[43mrequest\u001b[49m\u001b[43m)\u001b[49m\n\u001b[1;32m    980\u001b[0m \u001b[38;5;28;01mtry\u001b[39;00m:\n\u001b[1;32m    981\u001b[0m     \u001b[38;5;28;01mfor\u001b[39;00m hook \u001b[38;5;129;01min\u001b[39;00m \u001b[38;5;28mself\u001b[39m\u001b[38;5;241m.\u001b[39m_event_hooks[\u001b[38;5;124m\"\u001b[39m\u001b[38;5;124mresponse\u001b[39m\u001b[38;5;124m\"\u001b[39m]:\n",
      "File \u001b[0;32m~/anaconda3/envs/python3/lib/python3.10/site-packages/httpx/_client.py:1014\u001b[0m, in \u001b[0;36mClient._send_single_request\u001b[0;34m(self, request)\u001b[0m\n\u001b[1;32m   1009\u001b[0m     \u001b[38;5;28;01mraise\u001b[39;00m \u001b[38;5;167;01mRuntimeError\u001b[39;00m(\n\u001b[1;32m   1010\u001b[0m         \u001b[38;5;124m\"\u001b[39m\u001b[38;5;124mAttempted to send an async request with a sync Client instance.\u001b[39m\u001b[38;5;124m\"\u001b[39m\n\u001b[1;32m   1011\u001b[0m     )\n\u001b[1;32m   1013\u001b[0m \u001b[38;5;28;01mwith\u001b[39;00m request_context(request\u001b[38;5;241m=\u001b[39mrequest):\n\u001b[0;32m-> 1014\u001b[0m     response \u001b[38;5;241m=\u001b[39m \u001b[43mtransport\u001b[49m\u001b[38;5;241;43m.\u001b[39;49m\u001b[43mhandle_request\u001b[49m\u001b[43m(\u001b[49m\u001b[43mrequest\u001b[49m\u001b[43m)\u001b[49m\n\u001b[1;32m   1016\u001b[0m \u001b[38;5;28;01massert\u001b[39;00m \u001b[38;5;28misinstance\u001b[39m(response\u001b[38;5;241m.\u001b[39mstream, SyncByteStream)\n\u001b[1;32m   1018\u001b[0m response\u001b[38;5;241m.\u001b[39mrequest \u001b[38;5;241m=\u001b[39m request\n",
      "File \u001b[0;32m~/anaconda3/envs/python3/lib/python3.10/site-packages/httpx/_transports/default.py:250\u001b[0m, in \u001b[0;36mHTTPTransport.handle_request\u001b[0;34m(self, request)\u001b[0m\n\u001b[1;32m    237\u001b[0m req \u001b[38;5;241m=\u001b[39m httpcore\u001b[38;5;241m.\u001b[39mRequest(\n\u001b[1;32m    238\u001b[0m     method\u001b[38;5;241m=\u001b[39mrequest\u001b[38;5;241m.\u001b[39mmethod,\n\u001b[1;32m    239\u001b[0m     url\u001b[38;5;241m=\u001b[39mhttpcore\u001b[38;5;241m.\u001b[39mURL(\n\u001b[0;32m   (...)\u001b[0m\n\u001b[1;32m    247\u001b[0m     extensions\u001b[38;5;241m=\u001b[39mrequest\u001b[38;5;241m.\u001b[39mextensions,\n\u001b[1;32m    248\u001b[0m )\n\u001b[1;32m    249\u001b[0m \u001b[38;5;28;01mwith\u001b[39;00m map_httpcore_exceptions():\n\u001b[0;32m--> 250\u001b[0m     resp \u001b[38;5;241m=\u001b[39m \u001b[38;5;28;43mself\u001b[39;49m\u001b[38;5;241;43m.\u001b[39;49m\u001b[43m_pool\u001b[49m\u001b[38;5;241;43m.\u001b[39;49m\u001b[43mhandle_request\u001b[49m\u001b[43m(\u001b[49m\u001b[43mreq\u001b[49m\u001b[43m)\u001b[49m\n\u001b[1;32m    252\u001b[0m \u001b[38;5;28;01massert\u001b[39;00m \u001b[38;5;28misinstance\u001b[39m(resp\u001b[38;5;241m.\u001b[39mstream, typing\u001b[38;5;241m.\u001b[39mIterable)\n\u001b[1;32m    254\u001b[0m \u001b[38;5;28;01mreturn\u001b[39;00m Response(\n\u001b[1;32m    255\u001b[0m     status_code\u001b[38;5;241m=\u001b[39mresp\u001b[38;5;241m.\u001b[39mstatus,\n\u001b[1;32m    256\u001b[0m     headers\u001b[38;5;241m=\u001b[39mresp\u001b[38;5;241m.\u001b[39mheaders,\n\u001b[1;32m    257\u001b[0m     stream\u001b[38;5;241m=\u001b[39mResponseStream(resp\u001b[38;5;241m.\u001b[39mstream),\n\u001b[1;32m    258\u001b[0m     extensions\u001b[38;5;241m=\u001b[39mresp\u001b[38;5;241m.\u001b[39mextensions,\n\u001b[1;32m    259\u001b[0m )\n",
      "File \u001b[0;32m~/anaconda3/envs/python3/lib/python3.10/site-packages/httpcore/_sync/connection_pool.py:256\u001b[0m, in \u001b[0;36mConnectionPool.handle_request\u001b[0;34m(self, request)\u001b[0m\n\u001b[1;32m    253\u001b[0m         closing \u001b[38;5;241m=\u001b[39m \u001b[38;5;28mself\u001b[39m\u001b[38;5;241m.\u001b[39m_assign_requests_to_connections()\n\u001b[1;32m    255\u001b[0m     \u001b[38;5;28mself\u001b[39m\u001b[38;5;241m.\u001b[39m_close_connections(closing)\n\u001b[0;32m--> 256\u001b[0m     \u001b[38;5;28;01mraise\u001b[39;00m exc \u001b[38;5;28;01mfrom\u001b[39;00m\u001b[38;5;250m \u001b[39m\u001b[38;5;28;01mNone\u001b[39;00m\n\u001b[1;32m    258\u001b[0m \u001b[38;5;66;03m# Return the response. Note that in this case we still have to manage\u001b[39;00m\n\u001b[1;32m    259\u001b[0m \u001b[38;5;66;03m# the point at which the response is closed.\u001b[39;00m\n\u001b[1;32m    260\u001b[0m \u001b[38;5;28;01massert\u001b[39;00m \u001b[38;5;28misinstance\u001b[39m(response\u001b[38;5;241m.\u001b[39mstream, typing\u001b[38;5;241m.\u001b[39mIterable)\n",
      "File \u001b[0;32m~/anaconda3/envs/python3/lib/python3.10/site-packages/httpcore/_sync/connection_pool.py:236\u001b[0m, in \u001b[0;36mConnectionPool.handle_request\u001b[0;34m(self, request)\u001b[0m\n\u001b[1;32m    232\u001b[0m connection \u001b[38;5;241m=\u001b[39m pool_request\u001b[38;5;241m.\u001b[39mwait_for_connection(timeout\u001b[38;5;241m=\u001b[39mtimeout)\n\u001b[1;32m    234\u001b[0m \u001b[38;5;28;01mtry\u001b[39;00m:\n\u001b[1;32m    235\u001b[0m     \u001b[38;5;66;03m# Send the request on the assigned connection.\u001b[39;00m\n\u001b[0;32m--> 236\u001b[0m     response \u001b[38;5;241m=\u001b[39m \u001b[43mconnection\u001b[49m\u001b[38;5;241;43m.\u001b[39;49m\u001b[43mhandle_request\u001b[49m\u001b[43m(\u001b[49m\n\u001b[1;32m    237\u001b[0m \u001b[43m        \u001b[49m\u001b[43mpool_request\u001b[49m\u001b[38;5;241;43m.\u001b[39;49m\u001b[43mrequest\u001b[49m\n\u001b[1;32m    238\u001b[0m \u001b[43m    \u001b[49m\u001b[43m)\u001b[49m\n\u001b[1;32m    239\u001b[0m \u001b[38;5;28;01mexcept\u001b[39;00m ConnectionNotAvailable:\n\u001b[1;32m    240\u001b[0m     \u001b[38;5;66;03m# In some cases a connection may initially be available to\u001b[39;00m\n\u001b[1;32m    241\u001b[0m     \u001b[38;5;66;03m# handle a request, but then become unavailable.\u001b[39;00m\n\u001b[1;32m    242\u001b[0m     \u001b[38;5;66;03m#\u001b[39;00m\n\u001b[1;32m    243\u001b[0m     \u001b[38;5;66;03m# In this case we clear the connection and try again.\u001b[39;00m\n\u001b[1;32m    244\u001b[0m     pool_request\u001b[38;5;241m.\u001b[39mclear_connection()\n",
      "File \u001b[0;32m~/anaconda3/envs/python3/lib/python3.10/site-packages/httpcore/_sync/connection.py:103\u001b[0m, in \u001b[0;36mHTTPConnection.handle_request\u001b[0;34m(self, request)\u001b[0m\n\u001b[1;32m    100\u001b[0m     \u001b[38;5;28mself\u001b[39m\u001b[38;5;241m.\u001b[39m_connect_failed \u001b[38;5;241m=\u001b[39m \u001b[38;5;28;01mTrue\u001b[39;00m\n\u001b[1;32m    101\u001b[0m     \u001b[38;5;28;01mraise\u001b[39;00m exc\n\u001b[0;32m--> 103\u001b[0m \u001b[38;5;28;01mreturn\u001b[39;00m \u001b[38;5;28;43mself\u001b[39;49m\u001b[38;5;241;43m.\u001b[39;49m\u001b[43m_connection\u001b[49m\u001b[38;5;241;43m.\u001b[39;49m\u001b[43mhandle_request\u001b[49m\u001b[43m(\u001b[49m\u001b[43mrequest\u001b[49m\u001b[43m)\u001b[49m\n",
      "File \u001b[0;32m~/anaconda3/envs/python3/lib/python3.10/site-packages/httpcore/_sync/http11.py:136\u001b[0m, in \u001b[0;36mHTTP11Connection.handle_request\u001b[0;34m(self, request)\u001b[0m\n\u001b[1;32m    134\u001b[0m     \u001b[38;5;28;01mwith\u001b[39;00m Trace(\u001b[38;5;124m\"\u001b[39m\u001b[38;5;124mresponse_closed\u001b[39m\u001b[38;5;124m\"\u001b[39m, logger, request) \u001b[38;5;28;01mas\u001b[39;00m trace:\n\u001b[1;32m    135\u001b[0m         \u001b[38;5;28mself\u001b[39m\u001b[38;5;241m.\u001b[39m_response_closed()\n\u001b[0;32m--> 136\u001b[0m \u001b[38;5;28;01mraise\u001b[39;00m exc\n",
      "File \u001b[0;32m~/anaconda3/envs/python3/lib/python3.10/site-packages/httpcore/_sync/http11.py:106\u001b[0m, in \u001b[0;36mHTTP11Connection.handle_request\u001b[0;34m(self, request)\u001b[0m\n\u001b[1;32m     95\u001b[0m     \u001b[38;5;28;01mpass\u001b[39;00m\n\u001b[1;32m     97\u001b[0m \u001b[38;5;28;01mwith\u001b[39;00m Trace(\n\u001b[1;32m     98\u001b[0m     \u001b[38;5;124m\"\u001b[39m\u001b[38;5;124mreceive_response_headers\u001b[39m\u001b[38;5;124m\"\u001b[39m, logger, request, kwargs\n\u001b[1;32m     99\u001b[0m ) \u001b[38;5;28;01mas\u001b[39;00m trace:\n\u001b[1;32m    100\u001b[0m     (\n\u001b[1;32m    101\u001b[0m         http_version,\n\u001b[1;32m    102\u001b[0m         status,\n\u001b[1;32m    103\u001b[0m         reason_phrase,\n\u001b[1;32m    104\u001b[0m         headers,\n\u001b[1;32m    105\u001b[0m         trailing_data,\n\u001b[0;32m--> 106\u001b[0m     ) \u001b[38;5;241m=\u001b[39m \u001b[38;5;28;43mself\u001b[39;49m\u001b[38;5;241;43m.\u001b[39;49m\u001b[43m_receive_response_headers\u001b[49m\u001b[43m(\u001b[49m\u001b[38;5;241;43m*\u001b[39;49m\u001b[38;5;241;43m*\u001b[39;49m\u001b[43mkwargs\u001b[49m\u001b[43m)\u001b[49m\n\u001b[1;32m    107\u001b[0m     trace\u001b[38;5;241m.\u001b[39mreturn_value \u001b[38;5;241m=\u001b[39m (\n\u001b[1;32m    108\u001b[0m         http_version,\n\u001b[1;32m    109\u001b[0m         status,\n\u001b[1;32m    110\u001b[0m         reason_phrase,\n\u001b[1;32m    111\u001b[0m         headers,\n\u001b[1;32m    112\u001b[0m     )\n\u001b[1;32m    114\u001b[0m network_stream \u001b[38;5;241m=\u001b[39m \u001b[38;5;28mself\u001b[39m\u001b[38;5;241m.\u001b[39m_network_stream\n",
      "File \u001b[0;32m~/anaconda3/envs/python3/lib/python3.10/site-packages/httpcore/_sync/http11.py:177\u001b[0m, in \u001b[0;36mHTTP11Connection._receive_response_headers\u001b[0;34m(self, request)\u001b[0m\n\u001b[1;32m    174\u001b[0m timeout \u001b[38;5;241m=\u001b[39m timeouts\u001b[38;5;241m.\u001b[39mget(\u001b[38;5;124m\"\u001b[39m\u001b[38;5;124mread\u001b[39m\u001b[38;5;124m\"\u001b[39m, \u001b[38;5;28;01mNone\u001b[39;00m)\n\u001b[1;32m    176\u001b[0m \u001b[38;5;28;01mwhile\u001b[39;00m \u001b[38;5;28;01mTrue\u001b[39;00m:\n\u001b[0;32m--> 177\u001b[0m     event \u001b[38;5;241m=\u001b[39m \u001b[38;5;28;43mself\u001b[39;49m\u001b[38;5;241;43m.\u001b[39;49m\u001b[43m_receive_event\u001b[49m\u001b[43m(\u001b[49m\u001b[43mtimeout\u001b[49m\u001b[38;5;241;43m=\u001b[39;49m\u001b[43mtimeout\u001b[49m\u001b[43m)\u001b[49m\n\u001b[1;32m    178\u001b[0m     \u001b[38;5;28;01mif\u001b[39;00m \u001b[38;5;28misinstance\u001b[39m(event, h11\u001b[38;5;241m.\u001b[39mResponse):\n\u001b[1;32m    179\u001b[0m         \u001b[38;5;28;01mbreak\u001b[39;00m\n",
      "File \u001b[0;32m~/anaconda3/envs/python3/lib/python3.10/site-packages/httpcore/_sync/http11.py:217\u001b[0m, in \u001b[0;36mHTTP11Connection._receive_event\u001b[0;34m(self, timeout)\u001b[0m\n\u001b[1;32m    214\u001b[0m     event \u001b[38;5;241m=\u001b[39m \u001b[38;5;28mself\u001b[39m\u001b[38;5;241m.\u001b[39m_h11_state\u001b[38;5;241m.\u001b[39mnext_event()\n\u001b[1;32m    216\u001b[0m \u001b[38;5;28;01mif\u001b[39;00m event \u001b[38;5;129;01mis\u001b[39;00m h11\u001b[38;5;241m.\u001b[39mNEED_DATA:\n\u001b[0;32m--> 217\u001b[0m     data \u001b[38;5;241m=\u001b[39m \u001b[38;5;28;43mself\u001b[39;49m\u001b[38;5;241;43m.\u001b[39;49m\u001b[43m_network_stream\u001b[49m\u001b[38;5;241;43m.\u001b[39;49m\u001b[43mread\u001b[49m\u001b[43m(\u001b[49m\n\u001b[1;32m    218\u001b[0m \u001b[43m        \u001b[49m\u001b[38;5;28;43mself\u001b[39;49m\u001b[38;5;241;43m.\u001b[39;49m\u001b[43mREAD_NUM_BYTES\u001b[49m\u001b[43m,\u001b[49m\u001b[43m \u001b[49m\u001b[43mtimeout\u001b[49m\u001b[38;5;241;43m=\u001b[39;49m\u001b[43mtimeout\u001b[49m\n\u001b[1;32m    219\u001b[0m \u001b[43m    \u001b[49m\u001b[43m)\u001b[49m\n\u001b[1;32m    221\u001b[0m     \u001b[38;5;66;03m# If we feed this case through h11 we'll raise an exception like:\u001b[39;00m\n\u001b[1;32m    222\u001b[0m     \u001b[38;5;66;03m#\u001b[39;00m\n\u001b[1;32m    223\u001b[0m     \u001b[38;5;66;03m#     httpcore.RemoteProtocolError: can't handle event type\u001b[39;00m\n\u001b[0;32m   (...)\u001b[0m\n\u001b[1;32m    227\u001b[0m     \u001b[38;5;66;03m# perspective. Instead we handle this case distinctly and treat\u001b[39;00m\n\u001b[1;32m    228\u001b[0m     \u001b[38;5;66;03m# it as a ConnectError.\u001b[39;00m\n\u001b[1;32m    229\u001b[0m     \u001b[38;5;28;01mif\u001b[39;00m data \u001b[38;5;241m==\u001b[39m \u001b[38;5;124mb\u001b[39m\u001b[38;5;124m\"\u001b[39m\u001b[38;5;124m\"\u001b[39m \u001b[38;5;129;01mand\u001b[39;00m \u001b[38;5;28mself\u001b[39m\u001b[38;5;241m.\u001b[39m_h11_state\u001b[38;5;241m.\u001b[39mtheir_state \u001b[38;5;241m==\u001b[39m h11\u001b[38;5;241m.\u001b[39mSEND_RESPONSE:\n",
      "File \u001b[0;32m~/anaconda3/envs/python3/lib/python3.10/site-packages/httpcore/_backends/sync.py:128\u001b[0m, in \u001b[0;36mSyncStream.read\u001b[0;34m(self, max_bytes, timeout)\u001b[0m\n\u001b[1;32m    126\u001b[0m \u001b[38;5;28;01mwith\u001b[39;00m map_exceptions(exc_map):\n\u001b[1;32m    127\u001b[0m     \u001b[38;5;28mself\u001b[39m\u001b[38;5;241m.\u001b[39m_sock\u001b[38;5;241m.\u001b[39msettimeout(timeout)\n\u001b[0;32m--> 128\u001b[0m     \u001b[38;5;28;01mreturn\u001b[39;00m \u001b[38;5;28;43mself\u001b[39;49m\u001b[38;5;241;43m.\u001b[39;49m\u001b[43m_sock\u001b[49m\u001b[38;5;241;43m.\u001b[39;49m\u001b[43mrecv\u001b[49m\u001b[43m(\u001b[49m\u001b[43mmax_bytes\u001b[49m\u001b[43m)\u001b[49m\n",
      "File \u001b[0;32m~/anaconda3/envs/python3/lib/python3.10/ssl.py:1292\u001b[0m, in \u001b[0;36mSSLSocket.recv\u001b[0;34m(self, buflen, flags)\u001b[0m\n\u001b[1;32m   1288\u001b[0m     \u001b[38;5;28;01mif\u001b[39;00m flags \u001b[38;5;241m!=\u001b[39m \u001b[38;5;241m0\u001b[39m:\n\u001b[1;32m   1289\u001b[0m         \u001b[38;5;28;01mraise\u001b[39;00m \u001b[38;5;167;01mValueError\u001b[39;00m(\n\u001b[1;32m   1290\u001b[0m             \u001b[38;5;124m\"\u001b[39m\u001b[38;5;124mnon-zero flags not allowed in calls to recv() on \u001b[39m\u001b[38;5;132;01m%s\u001b[39;00m\u001b[38;5;124m\"\u001b[39m \u001b[38;5;241m%\u001b[39m\n\u001b[1;32m   1291\u001b[0m             \u001b[38;5;28mself\u001b[39m\u001b[38;5;241m.\u001b[39m\u001b[38;5;18m__class__\u001b[39m)\n\u001b[0;32m-> 1292\u001b[0m     \u001b[38;5;28;01mreturn\u001b[39;00m \u001b[38;5;28;43mself\u001b[39;49m\u001b[38;5;241;43m.\u001b[39;49m\u001b[43mread\u001b[49m\u001b[43m(\u001b[49m\u001b[43mbuflen\u001b[49m\u001b[43m)\u001b[49m\n\u001b[1;32m   1293\u001b[0m \u001b[38;5;28;01melse\u001b[39;00m:\n\u001b[1;32m   1294\u001b[0m     \u001b[38;5;28;01mreturn\u001b[39;00m \u001b[38;5;28msuper\u001b[39m()\u001b[38;5;241m.\u001b[39mrecv(buflen, flags)\n",
      "File \u001b[0;32m~/anaconda3/envs/python3/lib/python3.10/ssl.py:1165\u001b[0m, in \u001b[0;36mSSLSocket.read\u001b[0;34m(self, len, buffer)\u001b[0m\n\u001b[1;32m   1163\u001b[0m         \u001b[38;5;28;01mreturn\u001b[39;00m \u001b[38;5;28mself\u001b[39m\u001b[38;5;241m.\u001b[39m_sslobj\u001b[38;5;241m.\u001b[39mread(\u001b[38;5;28mlen\u001b[39m, buffer)\n\u001b[1;32m   1164\u001b[0m     \u001b[38;5;28;01melse\u001b[39;00m:\n\u001b[0;32m-> 1165\u001b[0m         \u001b[38;5;28;01mreturn\u001b[39;00m \u001b[38;5;28;43mself\u001b[39;49m\u001b[38;5;241;43m.\u001b[39;49m\u001b[43m_sslobj\u001b[49m\u001b[38;5;241;43m.\u001b[39;49m\u001b[43mread\u001b[49m\u001b[43m(\u001b[49m\u001b[38;5;28;43mlen\u001b[39;49m\u001b[43m)\u001b[49m\n\u001b[1;32m   1166\u001b[0m \u001b[38;5;28;01mexcept\u001b[39;00m SSLError \u001b[38;5;28;01mas\u001b[39;00m x:\n\u001b[1;32m   1167\u001b[0m     \u001b[38;5;28;01mif\u001b[39;00m x\u001b[38;5;241m.\u001b[39margs[\u001b[38;5;241m0\u001b[39m] \u001b[38;5;241m==\u001b[39m SSL_ERROR_EOF \u001b[38;5;129;01mand\u001b[39;00m \u001b[38;5;28mself\u001b[39m\u001b[38;5;241m.\u001b[39msuppress_ragged_eofs:\n",
      "\u001b[0;31mKeyboardInterrupt\u001b[0m: "
     ]
    }
   ],
   "source": [
    "for tweet in tweet_data:\n",
    "    messages = [\n",
    "        {\"role\": \"system\", \"content\": f\"\"\"analyze the tweet delimited by {delimiter} in the following steps:\n",
    "                                        step 1 {delimiter} identify the tweet sentiment in a single word, either positive, negative or neutral;\n",
    "                                        step 2 {delimiter} identify the emotions expressed in the tweet with a single word;\n",
    "                                        step 3 {delimiter} extract the mentioned peoples;\n",
    "                                        step 4 {delimiter} detect whether the tweet support Democratic or Replublican, return the resunt in a single word;\n",
    "                                        step 5 {delimiter} organize the result in a json document with the keys <sentiment>, <emontion>,<mentioned>, <support>\n",
    "                                         Do not wrap the json codes in JSON markers and only return the json document\"\"\"},\n",
    "        {\"role\": \"user\", \"content\": f\"{delimiter}{tweet}{delimiter} \"}]\n",
    "    print(openai_help(messages))"
   ]
  },
  {
   "cell_type": "code",
   "execution_count": 19,
   "id": "78c4fb96-a33c-44a0-b754-58efc2972c8a",
   "metadata": {
    "tags": []
   },
   "outputs": [
    {
     "name": "stdout",
     "output_type": "stream",
     "text": [
      "{\n",
      "  \"Election Interference\": \"Concerns about the FBI and media allegedly interfering with election data and debates.\",\n",
      "  \"Voting Logistics\": \"Discussions about early voting, mail ballots, and voter ID laws.\",\n",
      "  \"Election Predictions\": \"Speculations and predictions about the outcomes of upcoming elections, including Trump's chances.\",\n",
      "  \"Election Anxiety\": \"Expressions of stress and anticipation regarding the upcoming election results.\",\n",
      "  \"Election Integrity\": \"Debates over the legitimacy of election processes and accusations of fraud.\",\n",
      "  \"Generative AI\": \"Conversations about the impact and ethics of generative AI in various fields.\",\n",
      "  \"Media Influence\": \"Criticism of media coverage and its role in shaping public perception of elections.\",\n",
      "  \"Political Campaigns\": \"Mentions of campaign strategies and political figures like Kamala Harris and Donald Trump.\",\n",
      "  \"Cybersecurity\": \"References to election security and the role of technology in ensuring transparency.\",\n",
      "  \"Public Sentiment\": \"Public opinions and emotional responses to political events and figures.\"\n",
      "}\n"
     ]
    }
   ],
   "source": [
    "\n",
    "messages = [\n",
    "        {\"role\": \"system\", \"content\": f\"\"\"analyze the tweet delimited by {delimiter} to identify 10 topics, \n",
    "                                  Do not wrap the json codes in JSON markers \"\"\"},\n",
    "        {\"role\": \"user\", \"content\": f\"{delimiter}{tweet_data}{delimiter} \"}]\n",
    "print(openai_help(messages))"
   ]
  },
  {
   "cell_type": "markdown",
   "id": "d24c9e00-9cbb-4f96-a0bf-79135d0c8262",
   "metadata": {
    "tags": []
   },
   "source": [
    "### Expanding with multiple prompts \n",
    "- Identify which party receives majority supports\n",
    "- Provide contexts in the system message\n",
    "- Create a chatbot to answer users’ inquiry  \n"
   ]
  },
  {
   "cell_type": "code",
   "execution_count": 20,
   "id": "d34f68d6-2794-452f-9d5a-4b52fac427d7",
   "metadata": {
    "tags": []
   },
   "outputs": [
    {
     "name": "stderr",
     "output_type": "stream",
     "text": [
      "100%|██████████| 298/298 [05:15<00:00,  1.06s/it]\n"
     ]
    }
   ],
   "source": [
    "analysis_result = []\n",
    "from tqdm import tqdm\n",
    "for tweet in tqdm(tweet_data):\n",
    "    messages = [\n",
    "        {\"role\": \"system\", \"content\": f\"\"\"analyze the tweet delimited by {delimiter} in the following steps:\n",
    "                                        step 1 {delimiter} identify the tweet sentiment in a single word, either positive, negative or neutral;\n",
    "                                        step 2 {delimiter} identify the emotions expressed in the tweet with a single word;\n",
    "                                        step 3 {delimiter} extract the mentioned peoples;\n",
    "                                        step 4 {delimiter} detect whether the tweet support Democratic or Replublican, return the resunt in a singple word;\n",
    "                                        step 5 {delimiter} organize the result in a json document with the keys <sentiment>, <emontion>,<mentioned>, <support>\n",
    "                                         Do not wrap the json codes in JSON markers and only return the json document\"\"\"},\n",
    "        {\"role\": \"user\", \"content\": f\"{delimiter}{tweet}{delimiter} \"}]\n",
    "    analysis_result.append(openai_help(messages))\n"
   ]
  },
  {
   "cell_type": "code",
   "execution_count": 21,
   "id": "f564426c-53a9-4415-9d94-790ea68907de",
   "metadata": {
    "scrolled": true,
    "tags": []
   },
   "outputs": [
    {
     "name": "stdout",
     "output_type": "stream",
     "text": [
      "['{\\n  \"sentiment\": \"neutral\",\\n  \"emotion\": \"determined\",\\n  \"mentioned\": [\"joshtheobald3\"],\\n  \"support\": \"neutral\"\\n}', '{\"sentiment\": \"negative\", \"emotion\": \"frustration\", \"mentioned\": [\"Trump\", \"FBI\"], \"support\": \"Republican\"}', '{\\n  \"sentiment\": \"neutral\",\\n  \"emotion\": \"determination\",\\n  \"mentioned\": [\"@ssecijak\"],\\n  \"support\": \"Democratic\"\\n}', '{\\n  \"sentiment\": \"negative\",\\n  \"emotion\": \"anger\",\\n  \"mentioned\": [\"FBI\", \"Trump\"],\\n  \"support\": \"Republican\"\\n}', '{\\n  \"sentiment\": \"negative\",\\n  \"emotion\": \"skepticism\",\\n  \"mentioned\": [\"PATRICKHENRY97\"],\\n  \"support\": \"Republican\"\\n}', '{\\n  \"sentiment\": \"negative\",\\n  \"emotion\": \"disapproval\",\\n  \"mentioned\": [\"Nick J. Fuentes\", \"Trump\"],\\n  \"support\": \"Republican\"\\n}', '{\\n  \"sentiment\": \"negative\",\\n  \"emotion\": \"skepticism\",\\n  \"mentioned\": [\"@christianboutin\", \"@scrowder\"],\\n  \"support\": \"Democratic\"\\n}', '{\\n  \"sentiment\": \"negative\",\\n  \"emotion\": \"frustration\",\\n  \"mentioned\": [\"whstancil\"],\\n  \"support\": \"Democratic\"\\n}', '{\\n  \"sentiment\": \"negative\",\\n  \"emotion\": \"concern\",\\n  \"mentioned\": [\"Rasmussen Reports\", \"Trump\"],\\n  \"support\": \"Democratic\"\\n}', '{\\n  \"sentiment\": \"neutral\",\\n  \"emotion\": \"informative\",\\n  \"mentioned\": [\"@realDonaldTrump\"],\\n  \"support\": \"Republican\"\\n}', '{\\n  \"sentiment\": \"neutral\",\\n  \"emotion\": \"concern\",\\n  \"mentioned\": [\\n    \"NickGarzilli\",\\n    \"BruneElections\",\\n    \"SMCosta6\",\\n    \"tencor_7144\"\\n  ],\\n  \"support\": \"neutral\"\\n}', '{\\n  \"sentiment\": \"negative\",\\n  \"emotion\": \"impatience\",\\n  \"mentioned\": [],\\n  \"support\": \"neutral\"\\n}', '{\\n  \"sentiment\": \"neutral\",\\n  \"emotion\": \"anticipation\",\\n  \"mentioned\": [],\\n  \"support\": \"Republican\"\\n}', '{\\n  \"sentiment\": \"neutral\",\\n  \"emotion\": \"anxiety\",\\n  \"mentioned\": [\"mariashriver\", \"KamalaHarris\"],\\n  \"support\": \"Democratic\"\\n}', '{\\n  \"sentiment\": \"neutral\",\\n  \"emotion\": \"informative\",\\n  \"mentioned\": [],\\n  \"support\": \"neutral\"\\n}', '{\\n  \"sentiment\": \"neutral\",\\n  \"emotion\": \"anxious\",\\n  \"mentioned\": [\"django\"],\\n  \"support\": \"neutral\"\\n}', '{\\n  \"sentiment\": \"positive\",\\n  \"emotion\": \"satisfaction\",\\n  \"mentioned\": [\"OccupyDemocrats\"],\\n  \"support\": \"Democratic\"\\n}', '{\\n  \"sentiment\": \"neutral\",\\n  \"emotion\": \"concern\",\\n  \"mentioned\": [],\\n  \"support\": \"Democratic\"\\n}', '{\\n  \"sentiment\": \"negative\",\\n  \"emotion\": \"fear\",\\n  \"mentioned\": [\"Kamala\"],\\n  \"support\": \"Republican\"\\n}', '{\\n  \"sentiment\": \"negative\",\\n  \"emotion\": \"anger\",\\n  \"mentioned\": [\"LauraLoomer\"],\\n  \"support\": \"Republican\"\\n}', '{\\n  \"sentiment\": \"positive\",\\n  \"emotion\": \"pride\",\\n  \"mentioned\": [],\\n  \"support\": \"neutral\"\\n}', '{\\n  \"sentiment\": \"negative\",\\n  \"emotion\": \"frustration\",\\n  \"mentioned\": [\"@C_Farthammer\"],\\n  \"support\": \"Republican\"\\n}', '{\\n  \"sentiment\": \"neutral\",\\n  \"emotion\": \"informative\",\\n  \"mentioned\": [\"Lucas_FCGB\"],\\n  \"support\": \"neutral\"\\n}', '{\\n  \"sentiment\": \"negative\",\\n  \"emotion\": \"cynicism\",\\n  \"mentioned\": [\"shaun_vids\", \"netanyahu\"],\\n  \"support\": \"neutral\"\\n}', '{\\n  \"sentiment\": \"negative\",\\n  \"emotion\": \"humiliation\",\\n  \"mentioned\": [\"Donald Trump\"],\\n  \"support\": \"Democratic\"\\n}', '{\\n  \"sentiment\": \"negative\",\\n  \"emotion\": \"disapproval\",\\n  \"mentioned\": [\\n    \"GeoffDuncanGA\",\\n    \"Donald Trump\"\\n  ],\\n  \"support\": \"Democratic\"\\n}', '{\\n  \"sentiment\": \"neutral\",\\n  \"emotion\": \"determination\",\\n  \"mentioned\": [\"MargieVotes\"],\\n  \"support\": \"Democratic\"\\n}', '{\\n  \"sentiment\": \"positive\",\\n  \"emotion\": \"hopeful\",\\n  \"mentioned\": [],\\n  \"support\": \"neutral\"\\n}', '{\\n  \"sentiment\": \"negative\",\\n  \"emotion\": \"skepticism\",\\n  \"mentioned\": [\"@EndWokeness\"],\\n  \"support\": \"Republican\"\\n}', '{\\n  \"sentiment\": \"neutral\",\\n  \"emotion\": \"hopeful\",\\n  \"mentioned\": [\"CristusVictor\"],\\n  \"support\": \"neutral\"\\n}', '{\\n  \"sentiment\": \"negative\",\\n  \"emotion\": \"sarcasm\",\\n  \"mentioned\": [\\n    \"MarioNawfal\"\\n  ],\\n  \"support\": \"Republican\"\\n}', '{\\n  \"sentiment\": \"negative\",\\n  \"emotion\": \"frustration\",\\n  \"mentioned\": [\"RonFilipkowski\"],\\n  \"support\": \"Democratic\"\\n}', '{\\n  \"sentiment\": \"negative\",\\n  \"emotion\": \"frustration\",\\n  \"mentioned\": [\"BretBaier\"],\\n  \"support\": \"Republican\"\\n}', '{\\n  \"sentiment\": \"negative\",\\n  \"emotion\": \"caution\",\\n  \"mentioned\": [\"Craptld2kids\"],\\n  \"support\": \"Republican\"\\n}', '{\\n  \"sentiment\": \"negative\",\\n  \"emotion\": \"criticism\",\\n  \"mentioned\": [\"themarketswork\", \"Kamala\"],\\n  \"support\": \"Republican\"\\n}', '{\\n  \"sentiment\": \"positive\",\\n  \"emotion\": \"satisfaction\",\\n  \"mentioned\": [\"Kamala Harris\", \"Trump\"],\\n  \"support\": \"Democratic\"\\n}', '{\\n  \"sentiment\": \"positive\",\\n  \"emotion\": \"excitement\",\\n  \"mentioned\": [\"Trump\"],\\n  \"support\": \"Democratic\"\\n}', '{\\n  \"sentiment\": \"neutral\",\\n  \"emotion\": \"speculative\",\\n  \"mentioned\": [\"Donald Trump\"],\\n  \"support\": \"Republican\"\\n}', '{\\n  \"sentiment\": \"neutral\",\\n  \"emotion\": \"awareness\",\\n  \"mentioned\": [\"SimonWDC\", \"Polymarket\", \"Elon\"],\\n  \"support\": \"Republican\"\\n}', '{\\n  \"sentiment\": \"negative\",\\n  \"emotion\": \"frustration\",\\n  \"mentioned\": [\"LibertyLockPod\"],\\n  \"support\": \"Republican\"\\n}', '{\\n  \"sentiment\": \"neutral\",\\n  \"emotion\": \"informative\",\\n  \"mentioned\": [\"Greg St\"],\\n  \"support\": \"neutral\"\\n}', '{\\n  \"sentiment\": \"neutral\",\\n  \"emotion\": \"indifferent\",\\n  \"mentioned\": [\"Bupendra Hooda\", \"Sharad Pawar\"],\\n  \"support\": \"Republican\"\\n}', '{\\n  \"sentiment\": \"negative\",\\n  \"emotion\": \"concern\",\\n  \"mentioned\": [\"michaelsbarajas\"],\\n  \"support\": \"neutral\"\\n}', '{\\n  \"sentiment\": \"negative\",\\n  \"emotion\": \"frustration\",\\n  \"mentioned\": [\\n    \"Starboy2079\"\\n  ],\\n  \"support\": \"Republican\"\\n}', '{\\n  \"sentiment\": \"negative\",\\n  \"emotion\": \"anger\",\\n  \"mentioned\": [\"Donald Trump\"],\\n  \"support\": \"Republican\"\\n}', '{\\n  \"sentiment\": \"neutral\",\\n  \"emotion\": \"anticipation\",\\n  \"mentioned\": [\"Donald Trump\"],\\n  \"support\": \"Republican\"\\n}', '{\\n  \"sentiment\": \"negative\",\\n  \"emotion\": \"suspicion\",\\n  \"mentioned\": [\"VigilantFox\"],\\n  \"support\": \"Republican\"\\n}', '{\\n  \"sentiment\": \"negative\",\\n  \"emotion\": \"sarcasm\",\\n  \"mentioned\": [],\\n  \"support\": \"neutral\"\\n}', '{\\n  \"sentiment\": \"negative\",\\n  \"emotion\": \"concern\",\\n  \"mentioned\": [],\\n  \"support\": \"Democratic\"\\n}', '{\\n  \"sentiment\": \"neutral\",\\n  \"emotion\": \"curiosity\",\\n  \"mentioned\": [\"Trump\"],\\n  \"support\": \"Republican\"\\n}', '{\\n  \"sentiment\": \"neutral\",\\n  \"emotion\": \"curiosity\",\\n  \"mentioned\": [\"ScottPresler\", \"Thad Hall\"],\\n  \"support\": \"Republican\"\\n}', '{\\n  \"sentiment\": \"negative\",\\n  \"emotion\": \"frustration\",\\n  \"mentioned\": [\"@CentristMadness\"],\\n  \"support\": \"neutral\"\\n}', '{\\n  \"sentiment\": \"neutral\",\\n  \"emotion\": \"surprise\",\\n  \"mentioned\": [\"MTGrepp\"],\\n  \"support\": \"Republican\"\\n}', '{\\n  \"sentiment\": \"negative\",\\n  \"emotion\": \"frustration\",\\n  \"mentioned\": [\"maddenifico\"],\\n  \"support\": \"Republican\"\\n}', '{\\n  \"sentiment\": \"negative\",\\n  \"emotion\": \"frustration\",\\n  \"mentioned\": [\"GlennYoungkin\"],\\n  \"support\": \"Republican\"\\n}', '{\\n  \"sentiment\": \"negative\",\\n  \"emotion\": \"frustration\",\\n  \"mentioned\": [\"@DustieDahl\", \"@KathleenWinche3\"],\\n  \"support\": \"neutral\"\\n}', '{\\n  \"sentiment\": \"neutral\",\\n  \"emotion\": \"informative\",\\n  \"mentioned\": [\"FrankLuntz\", \"NPR\", \"Donald Trump\"],\\n  \"support\": \"Republican\"\\n}', '{\\n  \"sentiment\": \"negative\",\\n  \"emotion\": \"outrage\",\\n  \"mentioned\": [\"RealMattCouch\", \"Trump\"],\\n  \"support\": \"Republican\"\\n}', '{\\n  \"sentiment\": \"negative\",\\n  \"emotion\": \"frustration\",\\n  \"mentioned\": [\"Biden\", \"Harris\"],\\n  \"support\": \"Democratic\"\\n}', '{\\n  \"sentiment\": \"negative\",\\n  \"emotion\": \"shock\",\\n  \"mentioned\": [\"SimonWDC\", \"Trump\"],\\n  \"support\": \"Democratic\"\\n}', '{\\n  \"sentiment\": \"neutral\",\\n  \"emotion\": \"curiosity\",\\n  \"mentioned\": [\"Eknath Shinde\", \"Uddhav Thackeray\", \"India Today\"],\\n  \"support\": \"neutral\"\\n}', '{\\n  \"sentiment\": \"neutral\",\\n  \"emotion\": \"informative\",\\n  \"mentioned\": [\"DanRShafer\", \"Tammy Baldwin\", \"Uihleins\"],\\n  \"support\": \"Republican\"\\n}', '{\\n  \"sentiment\": \"positive\",\\n  \"emotion\": \"concern\",\\n  \"mentioned\": [\"mtgreenee\"],\\n  \"support\": \"Republican\"\\n}', '{\\n  \"sentiment\": \"neutral\",\\n  \"emotion\": \"seriousness\",\\n  \"mentioned\": [\"BradBeauregardJ\"],\\n  \"support\": \"neutral\"\\n}', '{\\n  \"sentiment\": \"negative\",\\n  \"emotion\": \"anger\",\\n  \"mentioned\": [\"James Comer\"],\\n  \"support\": \"Democratic\"\\n}', '{\\n  \"sentiment\": \"negative\",\\n  \"emotion\": \"defiance\",\\n  \"mentioned\": [\"WesleyHuntTX\", \"Barack Obama\"],\\n  \"support\": \"Republican\"\\n}', '{\\n  \"sentiment\": \"neutral\",\\n  \"emotion\": \"determination\",\\n  \"mentioned\": [\"KamalaHarris\"],\\n  \"support\": \"Democratic\"\\n}', '{\\n  \"sentiment\": \"neutral\",\\n  \"emotion\": \"determined\",\\n  \"mentioned\": [\"levparnas\", \"rea\"],\\n  \"support\": \"Democratic\"\\n}', '{\\n  \"sentiment\": \"positive\",\\n  \"emotion\": \"excitement\",\\n  \"mentioned\": [\"Donald Trump\"],\\n  \"support\": \"Republican\"\\n}', '{\\n  \"sentiment\": \"neutral\",\\n  \"emotion\": \"concern\",\\n  \"mentioned\": [\\n    \"@nancyd1957\",\\n    \"@sdduba\"\\n  ],\\n  \"support\": \"neutral\"\\n}', '{\\n  \"sentiment\": \"neutral\",\\n  \"emotion\": \"anticipation\",\\n  \"mentioned\": [\"argosaki\"],\\n  \"support\": \"Republican\"\\n}', '{\\n  \"sentiment\": \"neutral\",\\n  \"emotion\": \"informative\",\\n  \"mentioned\": [\"Donald Trump\"],\\n  \"support\": \"Republican\"\\n}', '{\\n  \"sentiment\": \"neutral\",\\n  \"emotion\": \"informative\",\\n  \"mentioned\": [\"BrendanKeefe\"],\\n  \"support\": \"neutral\"\\n}', '{\\n  \"sentiment\": \"negative\",\\n  \"emotion\": \"frustration\",\\n  \"mentioned\": [\"ecomarxi\"],\\n  \"support\": \"Democratic\"\\n}', '{\\n  \"sentiment\": \"neutral\",\\n  \"emotion\": \"determination\",\\n  \"mentioned\": [\"mjfree\"],\\n  \"support\": \"neutral\"\\n}', '{\\n  \"sentiment\": \"negative\",\\n  \"emotion\": \"frustration\",\\n  \"mentioned\": [\"Donald Trump\"],\\n  \"support\": \"Democratic\"\\n}', '{\\n  \"sentiment\": \"neutral\",\\n  \"emotion\": \"curiosity\",\\n  \"mentioned\": [\\n    \"@onelerv\",\\n    \"@z388z\",\\n    \"@EricLDaugh\"\\n  ],\\n  \"support\": \"Republican\"\\n}', '{\\n  \"sentiment\": \"neutral\",\\n  \"emotion\": \"concern\",\\n  \"mentioned\": [\"WarrenCoDemsOH\"],\\n  \"support\": \"Democratic\"\\n}', '{\\n  \"sentiment\": \"neutral\",\\n  \"emotion\": \"anticipation\",\\n  \"mentioned\": [\"BillieJeanKing\"],\\n  \"support\": \"neutral\"\\n}', '{\\n  \"sentiment\": \"neutral\",\\n  \"emotion\": \"seriousness\",\\n  \"mentioned\": [\"BradBeauregardJ\"],\\n  \"support\": \"neutral\"\\n}', '{\\n  \"sentiment\": \"neutral\",\\n  \"emotion\": \"informative\",\\n  \"mentioned\": [\"JoyceWhiteVance\"],\\n  \"support\": \"Democratic\"\\n}', '{\\n  \"sentiment\": \"negative\",\\n  \"emotion\": \"urgency\",\\n  \"mentioned\": [\"AmazingZoltan\"],\\n  \"support\": \"neutral\"\\n}', '{\\n  \"sentiment\": \"neutral\",\\n  \"emotion\": \"hopeful\",\\n  \"mentioned\": [\"hodgetwins\", \"Trump\"],\\n  \"support\": \"Republican\"\\n}', '{\\n  \"sentiment\": \"negative\",\\n  \"emotion\": \"frustration\",\\n  \"mentioned\": [\\n    \"BehizyTweets\"\\n  ],\\n  \"support\": \"Republican\"\\n}', '{\\n  \"sentiment\": \"neutral\",\\n  \"emotion\": \"anticipation\",\\n  \"mentioned\": [],\\n  \"support\": \"neutral\"\\n}', '{\\n  \"sentiment\": \"negative\",\\n  \"emotion\": \"concern\",\\n  \"mentioned\": [\"Donald Trump\"],\\n  \"support\": \"Republican\"\\n}', '{\\n  \"sentiment\": \"neutral\",\\n  \"emotion\": \"understanding\",\\n  \"mentioned\": [\\n    \"glassfire77\",\\n    \"0xMikado\"\\n  ],\\n  \"support\": \"Democratic\"\\n}', '{\\n  \"sentiment\": \"neutral\",\\n  \"emotion\": \"informative\",\\n  \"mentioned\": [\"Rep. Mark Pocan\", \"StephMillerShow\"],\\n  \"support\": \"Democratic\"\\n}', '{\\n  \"sentiment\": \"neutral\",\\n  \"emotion\": \"informative\",\\n  \"mentioned\": [\"LongTimeHistory\"],\\n  \"support\": \"Republican\"\\n}', '{\\n  \"sentiment\": \"neutral\",\\n  \"emotion\": \"informative\",\\n  \"mentioned\": [\"Jimmy Carter\", \"MacFarlaneNews\", \"Carter Center\"],\\n  \"support\": \"Democratic\"\\n}', '{\\n  \"sentiment\": \"negative\",\\n  \"emotion\": \"frustration\",\\n  \"mentioned\": [\"ChristruthJ\", \"Real_RobN\"],\\n  \"support\": \"Republican\"\\n}', '{\\n  \"sentiment\": \"negative\",\\n  \"emotion\": \"frustration\",\\n  \"mentioned\": [\"DefiyantlyFree\"],\\n  \"support\": \"Republican\"\\n}', '{\\n  \"sentiment\": \"negative\",\\n  \"emotion\": \"disdain\",\\n  \"mentioned\": [\"Mike Johnson\", \"Trump\"],\\n  \"support\": \"Democratic\"\\n}', '{\\n  \"sentiment\": \"negative\",\\n  \"emotion\": \"frustration\",\\n  \"mentioned\": [\"MZHemingway\", \"Biden\"],\\n  \"support\": \"Republican\"\\n}', '{\\n  \"sentiment\": \"neutral\",\\n  \"emotion\": \"concern\",\\n  \"mentioned\": [],\\n  \"support\": \"neutral\"\\n}', '{\\n  \"sentiment\": \"neutral\",\\n  \"emotion\": \"confusion\",\\n  \"mentioned\": [\"Morning_Joe\"],\\n  \"support\": \"neutral\"\\n}', '{\\n  \"sentiment\": \"neutral\",\\n  \"emotion\": \"concern\",\\n  \"mentioned\": [\"ghn_news\"],\\n  \"support\": \"neutral\"\\n}', '{\\n  \"sentiment\": \"neutral\",\\n  \"emotion\": \"curiosity\",\\n  \"mentioned\": [\"Joe Rogan\", \"Kamala Harris\"],\\n  \"support\": \"neutral\"\\n}', '{\\n  \"sentiment\": \"neutral\",\\n  \"emotion\": \"surprise\",\\n  \"mentioned\": [\"Abhay Dubey\"],\\n  \"support\": \"neutral\"\\n}', '{\\n  \"sentiment\": \"positive\",\\n  \"emotion\": \"excitement\",\\n  \"mentioned\": [\"Michelle Obama\", \"When We All Vote\"],\\n  \"support\": \"Democratic\"\\n}', '{\\n  \"sentiment\": \"neutral\",\\n  \"emotion\": \"indifference\",\\n  \"mentioned\": [],\\n  \"support\": \"neutral\"\\n}', '{\\n  \"sentiment\": \"neutral\",\\n  \"emotion\": \"duty\",\\n  \"mentioned\": [\"JackPosobiec\"],\\n  \"support\": \"Republican\"\\n}', '{\\n  \"sentiment\": \"neutral\",\\n  \"emotion\": \"anticipation\",\\n  \"mentioned\": [\"ecomarxi\"],\\n  \"support\": \"neutral\"\\n}', '{\\n  \"sentiment\": \"negative\",\\n  \"emotion\": \"frustration\",\\n  \"mentioned\": [\"Joe Rogan\", \"Kamala Harris\"],\\n  \"support\": \"Republican\"\\n}', '{\\n  \"sentiment\": \"neutral\",\\n  \"emotion\": \"informative\",\\n  \"mentioned\": [\"TristanSnell\"],\\n  \"support\": \"neutral\"\\n}', '{\\n  \"sentiment\": \"neutral\",\\n  \"emotion\": \"informative\",\\n  \"mentioned\": [\"@wiley_inc\", \"@EdanClay\"],\\n  \"support\": \"neutral\"\\n}', '{\\n  \"sentiment\": \"negative\",\\n  \"emotion\": \"suspicion\",\\n  \"mentioned\": [\"CollinRugg\", \"Joy Reid\"],\\n  \"support\": \"Democratic\"\\n}', '{\\n  \"sentiment\": \"neutral\",\\n  \"emotion\": \"anticipation\",\\n  \"mentioned\": [\"julie_kelly2\", \"Kamala\"],\\n  \"support\": \"Democratic\"\\n}', '{\\n  \"sentiment\": \"neutral\",\\n  \"emotion\": \"informative\",\\n  \"mentioned\": [\"TristanSnell\"],\\n  \"support\": \"neutral\"\\n}', '{\\n  \"sentiment\": \"negative\",\\n  \"emotion\": \"frustration\",\\n  \"mentioned\": [\"@libsoftiktok\", \"@DavidMuir\"],\\n  \"support\": \"Republican\"\\n}', '{\\n  \"sentiment\": \"neutral\",\\n  \"emotion\": \"curiosity\",\\n  \"mentioned\": [\"@I_Am_Legion_73\", \"@wires44\", \"@IsabellaMDeLuca\"],\\n  \"support\": \"Republican\"\\n}', '{\\n  \"sentiment\": \"negative\",\\n  \"emotion\": \"mocking\",\\n  \"mentioned\": [\"@scrowder\"],\\n  \"support\": \"Democratic\"\\n}', '{\\n  \"sentiment\": \"negative\",\\n  \"emotion\": \"anger\",\\n  \"mentioned\": [\"mrddmia\"],\\n  \"support\": \"Republican\"\\n}', '{\\n  \"sentiment\": \"neutral\",\\n  \"emotion\": \"concern\",\\n  \"mentioned\": [\\n    \"Abbas Alawieh\"\\n  ],\\n  \"support\": \"Democratic\"\\n}', '{\\n  \"sentiment\": \"negative\",\\n  \"emotion\": \"frustration\",\\n  \"mentioned\": [\"MJTruthUltra\"],\\n  \"support\": \"Republican\"\\n}', '{\\n  \"sentiment\": \"negative\",\\n  \"emotion\": \"frustration\",\\n  \"mentioned\": [\\n    \"BehizyTweets\"\\n  ],\\n  \"support\": \"Republican\"\\n}', '{\\n  \"sentiment\": \"negative\",\\n  \"emotion\": \"suspicion\",\\n  \"mentioned\": [\"Norm Eisen\", \"Michael Chertoff\"],\\n  \"support\": \"Republican\"\\n}', '{\\n  \"sentiment\": \"negative\",\\n  \"emotion\": \"anger\",\\n  \"mentioned\": [\\n    \"LangmanVince\",\\n    \"BretBaier\",\\n    \"VP\"\\n  ],\\n  \"support\": \"Republican\"\\n}', '{\\n  \"sentiment\": \"negative\",\\n  \"emotion\": \"anger\",\\n  \"mentioned\": [\"AndrewPatriot_\"],\\n  \"support\": \"Republican\"\\n}', '{\\n  \"sentiment\": \"neutral\",\\n  \"emotion\": \"informative\",\\n  \"mentioned\": [\"Rajiv Kumar\"],\\n  \"support\": \"neutral\"\\n}', '{\\n  \"sentiment\": \"neutral\",\\n  \"emotion\": \"curiosity\",\\n  \"mentioned\": [\"GuntherEagleman\"],\\n  \"support\": \"neutral\"\\n}', '{\\n  \"sentiment\": \"negative\",\\n  \"emotion\": \"concern\",\\n  \"mentioned\": [\\n    \"BrandtRobinson\",\\n    \"TheClassicPhil\"\\n  ],\\n  \"support\": \"Democratic\"\\n}', '{\\n  \"sentiment\": \"neutral\",\\n  \"emotion\": \"determination\",\\n  \"mentioned\": [\"Conservative_BC\"],\\n  \"support\": \"Republican\"\\n}', '{\\n  \"sentiment\": \"neutral\",\\n  \"emotion\": \"confusion\",\\n  \"mentioned\": [\"Morning_Joe\"],\\n  \"support\": \"neutral\"\\n}', '{\\n  \"sentiment\": \"neutral\",\\n  \"emotion\": \"determination\",\\n  \"mentioned\": [\"mjfree\"],\\n  \"support\": \"neutral\"\\n}', '{\\n  \"sentiment\": \"neutral\",\\n  \"emotion\": \"inclusive\",\\n  \"mentioned\": [\"ScottPresler\", \"RFK Jr.\"],\\n  \"support\": \"Republican\"\\n}', '{\\n  \"sentiment\": \"negative\",\\n  \"emotion\": \"outrage\",\\n  \"mentioned\": [\"LauraLoomer\"],\\n  \"support\": \"Republican\"\\n}', '{\\n  \"sentiment\": \"neutral\",\\n  \"emotion\": \"curiosity\",\\n  \"mentioned\": [\"Real_RobN\"],\\n  \"support\": \"Republican\"\\n}', '{\\n  \"sentiment\": \"neutral\",\\n  \"emotion\": \"anticipation\",\\n  \"mentioned\": [\"nypost\"],\\n  \"support\": \"neutral\"\\n}', '{\\n  \"sentiment\": \"neutral\",\\n  \"emotion\": \"annoyance\",\\n  \"mentioned\": [\"Floridagirl0850\"],\\n  \"support\": \"neutral\"\\n}', '{\\n  \"sentiment\": \"positive\",\\n  \"emotion\": \"confidence\",\\n  \"mentioned\": [\"RupertLowe10\"],\\n  \"support\": \"neutral\"\\n}', '{\\n  \"sentiment\": \"negative\",\\n  \"emotion\": \"skepticism\",\\n  \"mentioned\": [\"DonMiami3\"],\\n  \"support\": \"Republican\"\\n}', '{\\n  \"sentiment\": \"negative\",\\n  \"emotion\": \"concern\",\\n  \"mentioned\": [\"GuntherEagleman\"],\\n  \"support\": \"Republican\"\\n}', '{\\n  \"sentiment\": \"neutral\",\\n  \"emotion\": \"determination\",\\n  \"mentioned\": [\"mjfree\"],\\n  \"support\": \"neutral\"\\n}', '{\\n  \"sentiment\": \"neutral\",\\n  \"emotion\": \"serious\",\\n  \"mentioned\": [\"MarkHamill\", \"senecaprojectus\"],\\n  \"support\": \"neutral\"\\n}', '{\\n  \"sentiment\": \"neutral\",\\n  \"emotion\": \"nostalgia\",\\n  \"mentioned\": [\"LouDPhillips\"],\\n  \"support\": \"neutral\"\\n}', '{\\n  \"sentiment\": \"neutral\",\\n  \"emotion\": \"determination\",\\n  \"mentioned\": [\"mjfree\"],\\n  \"support\": \"neutral\"\\n}', '{\\n  \"sentiment\": \"positive\",\\n  \"emotion\": \"admiration\",\\n  \"mentioned\": [\"Heath Mayo\", \"Colin Allred\", \"Ted Cruz\"],\\n  \"support\": \"Democratic\"\\n}', '{\\n  \"sentiment\": \"neutral\",\\n  \"emotion\": \"concern\",\\n  \"mentioned\": [\"Douglas Emhoff\"],\\n  \"support\": \"Democratic\"\\n}', '{\\n  \"sentiment\": \"neutral\",\\n  \"emotion\": \"informative\",\\n  \"mentioned\": [\"TristanSnell\"],\\n  \"support\": \"neutral\"\\n}', '{\\n  \"sentiment\": \"neutral\",\\n  \"emotion\": \"disagreement\",\\n  \"mentioned\": [\"RFK\", \"Donald Trump\"],\\n  \"support\": \"Republican\"\\n}', '{\\n  \"sentiment\": \"neutral\",\\n  \"emotion\": \"informative\",\\n  \"mentioned\": [\"OpenSecretsDC\"],\\n  \"support\": \"neutral\"\\n}', '{\\n  \"sentiment\": \"neutral\",\\n  \"emotion\": \"indifference\",\\n  \"mentioned\": [\"JakeLangJ6\", \"Youngkin\"],\\n  \"support\": \"Republican\"\\n}', '{\\n  \"sentiment\": \"negative\",\\n  \"emotion\": \"disapproval\",\\n  \"mentioned\": [\"Steve Bannon\", \"Trump\"],\\n  \"support\": \"Democratic\"\\n}', '{\\n  \"sentiment\": \"neutral\",\\n  \"emotion\": \"anticipation\",\\n  \"mentioned\": [\"JesseBWatters\", \"KamalaHarris\"],\\n  \"support\": \"Republican\"\\n}', '{\\n  \"sentiment\": \"neutral\",\\n  \"emotion\": \"informative\",\\n  \"mentioned\": [\"DanRShafer\"],\\n  \"support\": \"Republican\"\\n}', '{\\n  \"sentiment\": \"positive\",\\n  \"emotion\": \"hopeful\",\\n  \"mentioned\": [\"Kasparov63\", \"Bret\", \"Harris\"],\\n  \"support\": \"Democratic\"\\n}', '{\\n  \"sentiment\": \"negative\",\\n  \"emotion\": \"anger\",\\n  \"mentioned\": [\"@PettyLupone\", \"@Bobbysworld2021\"],\\n  \"support\": \"Republican\"\\n}', '{\\n  \"sentiment\": \"positive\",\\n  \"emotion\": \"supportive\",\\n  \"mentioned\": [\"MikeNellis\", \"KamalaHarris\"],\\n  \"support\": \"Democratic\"\\n}', '{\\n  \"sentiment\": \"negative\",\\n  \"emotion\": \"outrage\",\\n  \"mentioned\": [\"RealMattCouch\", \"Trump\"],\\n  \"support\": \"Republican\"\\n}', '{\\n  \"sentiment\": \"neutral\",\\n  \"emotion\": \"indecision\",\\n  \"mentioned\": [\"TristanSnell\"],\\n  \"support\": \"neutral\"\\n}', '{\\n  \"sentiment\": \"neutral\",\\n  \"emotion\": \"none\",\\n  \"mentioned\": [\"MaxFlugrath\"],\\n  \"support\": \"Democratic\"\\n}', '{\\n  \"sentiment\": \"neutral\",\\n  \"emotion\": \"warning\",\\n  \"mentioned\": [\"7im\", \"Stanley\"],\\n  \"support\": \"neutral\"\\n}', '{\\n  \"sentiment\": \"positive\",\\n  \"emotion\": \"encouragement\",\\n  \"mentioned\": [\"Kamala\"],\\n  \"support\": \"Democratic\"\\n}', '{\\n  \"sentiment\": \"negative\",\\n  \"emotion\": \"anger\",\\n  \"mentioned\": [\\n    \"SenJohnKennedy\",\\n    \"Biden-Harris\"\\n  ],\\n  \"support\": \"Republican\"\\n}', '{\\n  \"sentiment\": \"negative\",\\n  \"emotion\": \"frustration\",\\n  \"mentioned\": [\"@ZiyaMadlakes\", \"@MbuyiseniNdlozi\", \"@Julius_S_Malema\"],\\n  \"support\": \"neutral\"\\n}', '{\\n  \"sentiment\": \"negative\",\\n  \"emotion\": \"outrage\",\\n  \"mentioned\": [\"Donald Trump\"],\\n  \"support\": \"Republican\"\\n}', '{\\n  \"sentiment\": \"neutral\",\\n  \"emotion\": \"informative\",\\n  \"mentioned\": [\"amarDgreat\", \"sardesairajdeep\", \"ECISVEEP\"],\\n  \"support\": \"neutral\"\\n}', '{\\n  \"sentiment\": \"neutral\",\\n  \"emotion\": \"nostalgic\",\\n  \"mentioned\": [\"AngelaBelcamino\"],\\n  \"support\": \"Democratic\"\\n}', '{\\n  \"sentiment\": \"negative\",\\n  \"emotion\": \"frustration\",\\n  \"mentioned\": [\"deerhoof\", \"Trump\"],\\n  \"support\": \"neutral\"\\n}', '{\\n  \"sentiment\": \"negative\",\\n  \"emotion\": \"disapproval\",\\n  \"mentioned\": [\"Merrick Garland\"],\\n  \"support\": \"Republican\"\\n}', '{\\n  \"sentiment\": \"negative\",\\n  \"emotion\": \"distrust\",\\n  \"mentioned\": [\"ScottAdamsSays\", \"Trump\"],\\n  \"support\": \"Republican\"\\n}', '{\\n  \"sentiment\": \"neutral\",\\n  \"emotion\": \"inclusive\",\\n  \"mentioned\": [\"ScottPresler\", \"RFK Jr.\"],\\n  \"support\": \"Republican\"\\n}', '{\\n  \"sentiment\": \"neutral\",\\n  \"emotion\": \"indifference\",\\n  \"mentioned\": [\"PeterHRatcliffe\", \"CPC_HQ\", \"Pierre Poilievre\", \"JustinTrudeau\"],\\n  \"support\": \"Republican\"\\n}', '{\\n  \"sentiment\": \"negative\",\\n  \"emotion\": \"frustration\",\\n  \"mentioned\": [\"theprofsrecord\"],\\n  \"support\": \"Republican\"\\n}', '{\\n  \"sentiment\": \"positive\",\\n  \"emotion\": \"admiration\",\\n  \"mentioned\": [\"Kamala\", \"Elon Musk\", \"realDonaldTrump\"],\\n  \"support\": \"Democratic\"\\n}', '{\\n  \"sentiment\": \"negative\",\\n  \"emotion\": \"dislike\",\\n  \"mentioned\": [\"SebGorka\"],\\n  \"support\": \"Republican\"\\n}', '{\\n  \"sentiment\": \"negative\",\\n  \"emotion\": \"frustration\",\\n  \"mentioned\": [\"SpeakerJohnson\", \"Biden\", \"Harris\"],\\n  \"support\": \"Republican\"\\n}', '{\\n  \"sentiment\": \"neutral\",\\n  \"emotion\": \"uncertainty\",\\n  \"mentioned\": [\"ChatGPT\"],\\n  \"support\": \"neutral\"\\n}', '{\\n  \"sentiment\": \"negative\",\\n  \"emotion\": \"frustration\",\\n  \"mentioned\": [\"Mark Robinson\", \"CNN\"],\\n  \"support\": \"Republican\"\\n}', '{\\n  \"sentiment\": \"neutral\",\\n  \"emotion\": \"caution\",\\n  \"mentioned\": [\"Morning_Joe\", \"neal\"],\\n  \"support\": \"neutral\"\\n}', '{\\n  \"sentiment\": \"neutral\",\\n  \"emotion\": \"informative\",\\n  \"mentioned\": [\"rekharanibsp\"],\\n  \"support\": \"neutral\"\\n}', '{\\n  \"sentiment\": \"negative\",\\n  \"emotion\": \"anger\",\\n  \"mentioned\": [\"WallStreetApes\"],\\n  \"support\": \"Republican\"\\n}', '{\\n  \"sentiment\": \"neutral\",\\n  \"emotion\": \"anticipation\",\\n  \"mentioned\": [\"hodgetwins\", \"Trump\"],\\n  \"support\": \"Republican\"\\n}', '{\\n  \"sentiment\": \"neutral\",\\n  \"emotion\": \"informative\",\\n  \"mentioned\": [\"Michelle Obama\"],\\n  \"support\": \"Democratic\"\\n}', '{\\n  \"sentiment\": \"neutral\",\\n  \"emotion\": \"informative\",\\n  \"mentioned\": [\"PpollingNumbers\", \"Trump\", \"Harris\"],\\n  \"support\": \"Republican\"\\n}', '{\\n  \"sentiment\": \"neutral\",\\n  \"emotion\": \"informative\",\\n  \"mentioned\": [\"NewsArenaIndia\", \"NCP\", \"Sharad Pawar\"],\\n  \"support\": \"neutral\"\\n}', '{\\n  \"sentiment\": \"neutral\",\\n  \"emotion\": \"informative\",\\n  \"mentioned\": [\"FrankLuntz\", \"NPR\", \"Donald Trump\"],\\n  \"support\": \"Republican\"\\n}', '{\\n  \"sentiment\": \"neutral\",\\n  \"emotion\": \"frustration\",\\n  \"mentioned\": [\"MTGrepp\"],\\n  \"support\": \"Republican\"\\n}', '{\\n  \"sentiment\": \"negative\",\\n  \"emotion\": \"mocking\",\\n  \"mentioned\": [\"@RepSwalwell\"],\\n  \"support\": \"Republican\"\\n}', '{\\n  \"sentiment\": \"neutral\",\\n  \"emotion\": \"anticipation\",\\n  \"mentioned\": [\"joncoopertweets\"],\\n  \"support\": \"Democratic\"\\n}', '{\\n  \"sentiment\": \"negative\",\\n  \"emotion\": \"frustration\",\\n  \"mentioned\": [\"Seth Abramson\"],\\n  \"support\": \"Democratic\"\\n}', '{\\n  \"sentiment\": \"neutral\",\\n  \"emotion\": \"curiosity\",\\n  \"mentioned\": [\"@whatifalthist\", \"@Timcast\"],\\n  \"support\": \"neutral\"\\n}', '{\\n  \"sentiment\": \"negative\",\\n  \"emotion\": \"frustration\",\\n  \"mentioned\": [\"Bret Baier\", \"Kamala\"],\\n  \"support\": \"Republican\"\\n}', '{\\n  \"sentiment\": \"neutral\",\\n  \"emotion\": \"informative\",\\n  \"mentioned\": [\"Kamala Harris\"],\\n  \"support\": \"Democratic\"\\n}', '{\\n  \"sentiment\": \"neutral\",\\n  \"emotion\": \"indifference\",\\n  \"mentioned\": [],\\n  \"support\": \"neutral\"\\n}', '{\\n  \"sentiment\": \"neutral\",\\n  \"emotion\": \"anticipation\",\\n  \"mentioned\": [\"hodgetwins\", \"Trump\"],\\n  \"support\": \"Republican\"\\n}', '{\\n  \"sentiment\": \"negative\",\\n  \"emotion\": \"concern\",\\n  \"mentioned\": [\"Harris\"],\\n  \"support\": \"neutral\"\\n}', '{\\n  \"sentiment\": \"negative\",\\n  \"emotion\": \"anger\",\\n  \"mentioned\": [\"AuronMacintyre\"],\\n  \"support\": \"Republican\"\\n}', '{\\n  \"sentiment\": \"negative\",\\n  \"emotion\": \"frustration\",\\n  \"mentioned\": [\"Lt. Gov. Mark Robinson\"],\\n  \"support\": \"Republican\"\\n}', '{\\n  \"sentiment\": \"negative\",\\n  \"emotion\": \"frustration\",\\n  \"mentioned\": [\"DougWahl1\"],\\n  \"support\": \"Republican\"\\n}', '{\\n  \"sentiment\": \"negative\",\\n  \"emotion\": \"disapproval\",\\n  \"mentioned\": [\"krassenstein\"],\\n  \"support\": \"Democratic\"\\n}', '{\\n  \"sentiment\": \"neutral\",\\n  \"emotion\": \"curiosity\",\\n  \"mentioned\": [\"BrandyZadrozny\"],\\n  \"support\": \"neutral\"\\n}', '{\\n  \"sentiment\": \"negative\",\\n  \"emotion\": \"mockery\",\\n  \"mentioned\": [\"Jimmy\", \"Trump\", \"Carter\"],\\n  \"support\": \"Republican\"\\n}', '{\\n  \"sentiment\": \"negative\",\\n  \"emotion\": \"skepticism\",\\n  \"mentioned\": [\"@Real_RobN\"],\\n  \"support\": \"Republican\"\\n}', '{\\n  \"sentiment\": \"neutral\",\\n  \"emotion\": \"concern\",\\n  \"mentioned\": [\"VigilantFox\"],\\n  \"support\": \"neutral\"\\n}', '{\\n  \"sentiment\": \"positive\",\\n  \"emotion\": \"supportive\",\\n  \"mentioned\": [\"MikeNellis\", \"KamalaHarris\"],\\n  \"support\": \"Democratic\"\\n}', '{\\n  \"sentiment\": \"negative\",\\n  \"emotion\": \"disapproval\",\\n  \"mentioned\": [\"@kangaroos991\"],\\n  \"support\": \"Democratic\"\\n}', '{\\n  \"sentiment\": \"neutral\",\\n  \"emotion\": \"informative\",\\n  \"mentioned\": [\"Jimmy Carter\", \"MacFarlaneNews\", \"Carter Center\"],\\n  \"support\": \"Democratic\"\\n}', '{\\n  \"sentiment\": \"neutral\",\\n  \"emotion\": \"skepticism\",\\n  \"mentioned\": [\"mayaisfiya\"],\\n  \"support\": \"neutral\"\\n}', '{\\n  \"sentiment\": \"negative\",\\n  \"emotion\": \"frustration\",\\n  \"mentioned\": [\"@poiyomi\", \"@HOUNDDS\"],\\n  \"support\": \"neutral\"\\n}', '{\\n  \"sentiment\": \"neutral\",\\n  \"emotion\": \"admiration\",\\n  \"mentioned\": [\"sawyomom\"],\\n  \"support\": \"\"\\n}', '{\\n  \"sentiment\": \"neutral\",\\n  \"emotion\": \"informative\",\\n  \"mentioned\": [\"runwayml\"],\\n  \"support\": \"neutral\"\\n}', '{\\n  \"sentiment\": \"negative\",\\n  \"emotion\": \"anger\",\\n  \"mentioned\": [\"Artistreccs\"],\\n  \"support\": \"neutral\"\\n}', '{\\n  \"sentiment\": \"neutral\",\\n  \"emotion\": \"informative\",\\n  \"mentioned\": [\"jblefevre60\"],\\n  \"support\": \"neutral\"\\n}', '{\\n  \"sentiment\": \"positive\",\\n  \"emotion\": \"excitement\",\\n  \"mentioned\": [\\n    \"AWS\",\\n    \"Samsung\"\\n  ],\\n  \"support\": \"neutral\"\\n}', '{\\n  \"sentiment\": \"neutral\",\\n  \"emotion\": \"thoughtful\",\\n  \"mentioned\": [\\n    \"Writing_Dragons\"\\n  ],\\n  \"support\": \"neutral\"\\n}', '{\\n  \"sentiment\": \"neutral\",\\n  \"emotion\": \"curiosity\",\\n  \"mentioned\": [\"AdrianEarthmeta\"],\\n  \"support\": \"\"\\n}', '{\\n  \"sentiment\": \"positive\",\\n  \"emotion\": \"congratulatory\",\\n  \"mentioned\": \"@MahojinAI\",\\n  \"support\": \"neutral\"\\n}', '{\\n  \"sentiment\": \"neutral\",\\n  \"emotion\": \"indifference\",\\n  \"mentioned\": [\"freezetheberry\"],\\n  \"support\": \"neutral\"\\n}', '{\\n  \"sentiment\": \"neutral\",\\n  \"emotion\": \"informative\",\\n  \"mentioned\": [\"jblefevre60\"],\\n  \"support\": \"neutral\"\\n}', '{\\n  \"sentiment\": \"neutral\",\\n  \"emotion\": \"informative\",\\n  \"mentioned\": [\"runwayml\"],\\n  \"support\": \"neutral\"\\n}', '{\\n  \"sentiment\": \"neutral\",\\n  \"emotion\": \"indifference\",\\n  \"mentioned\": [\"HorrorHijabi\"],\\n  \"support\": \"neutral\"\\n}', '{\\n  \"sentiment\": \"positive\",\\n  \"emotion\": \"collaborative\",\\n  \"mentioned\": [\"nvidia\", \"awscloud\"],\\n  \"support\": \"neutral\"\\n}', '{\\n  \"sentiment\": \"neutral\",\\n  \"emotion\": \"informative\",\\n  \"mentioned\": [\"Brian Adler\", \"Jay Litkey\"],\\n  \"support\": \"neutral\"\\n}', '{\\n  \"sentiment\": \"neutral\",\\n  \"emotion\": \"curiosity\",\\n  \"mentioned\": [],\\n  \"support\": \"\"\\n}', '{\\n  \"sentiment\": \"neutral\",\\n  \"emotion\": \"anticipation\",\\n  \"mentioned\": [\"runwayml\"],\\n  \"support\": \"neutral\"\\n}', '{\\n  \"sentiment\": \"positive\",\\n  \"emotion\": \"excitement\",\\n  \"mentioned\": [],\\n  \"support\": \"neutral\"\\n}', '{\\n  \"sentiment\": \"neutral\",\\n  \"emotion\": \"informative\",\\n  \"mentioned\": [\"namazu_sensei\"],\\n  \"support\": \"neutral\"\\n}', '{\\n  \"sentiment\": \"neutral\",\\n  \"emotion\": \"playful\",\\n  \"mentioned\": [\"16pxl\"],\\n  \"support\": \"neutral\"\\n}', '{\\n  \"sentiment\": \"neutral\",\\n  \"emotion\": \"informative\",\\n  \"mentioned\": [\"jblefevre60\"],\\n  \"support\": \"neutral\"\\n}', '{\\n  \"sentiment\": \"neutral\",\\n  \"emotion\": \"informative\",\\n  \"mentioned\": [\\n    \"CurieuxExplorer\",\\n    \"PawlowskiMario\",\\n    \"mvollmer1\",\\n    \"gvalan\",\\n    \"ipfconline1\",\\n    \"LaurentAlaus\",\\n    \"Shi4Tech\",\\n    \"Fisher85M\",\\n    \"kalydeoo\",\\n    \"Ym78200\",\\n    \"Nicochan33\",\\n    \"Fabriziobustama\"\\n  ],\\n  \"support\": \"neutral\"\\n}', '{\\n  \"sentiment\": \"neutral\",\\n  \"emotion\": \"indifference\",\\n  \"mentioned\": [\"RedPill_Marxism\"],\\n  \"support\": \"neutral\"\\n}', '{\\n  \"sentiment\": \"neutral\",\\n  \"emotion\": \"none\",\\n  \"mentioned\": [\"DiaboIicAngel\"],\\n  \"support\": \"none\"\\n}', '{\\n  \"sentiment\": \"neutral\",\\n  \"emotion\": \"calm\",\\n  \"mentioned\": [\"chambaz\"],\\n  \"support\": \"neutral\"\\n}', '{\\n  \"sentiment\": \"positive\",\\n  \"emotion\": \"excitement\",\\n  \"mentioned\": [],\\n  \"support\": \"neutral\"\\n}', '{\\n  \"sentiment\": \"positive\",\\n  \"emotion\": \"admiration\",\\n  \"mentioned\": [\"@sama\"],\\n  \"support\": \"neutral\"\\n}', '{\\n  \"sentiment\": \"negative\",\\n  \"emotion\": \"concern\",\\n  \"mentioned\": [\"stefanbertin\"],\\n  \"support\": \"neutral\"\\n}', '{\\n  \"sentiment\": \"positive\",\\n  \"emotion\": \"collaborative\",\\n  \"mentioned\": [\"nvidia\", \"awscloud\"],\\n  \"support\": \"neutral\"\\n}', '{\\n  \"sentiment\": \"neutral\",\\n  \"emotion\": \"none\",\\n  \"mentioned\": [\"@alx_africa\"],\\n  \"support\": \"none\"\\n}', '{\\n  \"sentiment\": \"neutral\",\\n  \"emotion\": \"informative\",\\n  \"mentioned\": [\"SarvamAI\"],\\n  \"support\": \"neutral\"\\n}', '{\\n  \"sentiment\": \"neutral\",\\n  \"emotion\": \"indifference\",\\n  \"mentioned\": [\"edmundmcmillen\"],\\n  \"support\": \"neutral\"\\n}', '{\\n  \"sentiment\": \"neutral\",\\n  \"emotion\": \"concern\",\\n  \"mentioned\": [\"adjudicatorcb\"],\\n  \"support\": \"neutral\"\\n}', '{\\n  \"sentiment\": \"neutral\",\\n  \"emotion\": \"informative\",\\n  \"mentioned\": [\\n    \"@CoreOfMidas\"\\n  ],\\n  \"support\": \"neutral\"\\n}', '{\\n  \"sentiment\": \"neutral\",\\n  \"emotion\": \"curiosity\",\\n  \"mentioned\": [\"SenseiBR_btc\"],\\n  \"support\": \"\"\\n}', '{\\n  \"sentiment\": \"positive\",\\n  \"emotion\": \"hopeful\",\\n  \"mentioned\": [\"carolduvallon\"],\\n  \"support\": \"neutral\"\\n}', '{\\n  \"sentiment\": \"neutral\",\\n  \"emotion\": \"informative\",\\n  \"mentioned\": [\"runwayml\"],\\n  \"support\": \"neutral\"\\n}', '{\\n  \"sentiment\": \"neutral\",\\n  \"emotion\": \"indifference\",\\n  \"mentioned\": [\"HorrorHijabi\"],\\n  \"support\": \"neutral\"\\n}', '{\\n  \"sentiment\": \"neutral\",\\n  \"emotion\": \"informative\",\\n  \"mentioned\": [\"runwayml\"],\\n  \"support\": \"neutral\"\\n}', '{\\n  \"sentiment\": \"negative\",\\n  \"emotion\": \"disdain\",\\n  \"mentioned\": [\"imzeferino\"],\\n  \"support\": \"neutral\"\\n}', '{\\n  \"sentiment\": \"negative\",\\n  \"emotion\": \"frustration\",\\n  \"mentioned\": [\"Xander_J_C\"],\\n  \"support\": \"neutral\"\\n}', '{\\n  \"sentiment\": \"negative\",\\n  \"emotion\": \"frustration\",\\n  \"mentioned\": [\"@geekshrine\"],\\n  \"support\": \"neutral\"\\n}', '{\\n  \"sentiment\": \"neutral\",\\n  \"emotion\": \"informative\",\\n  \"mentioned\": [\"runwayml\"],\\n  \"support\": \"neutral\"\\n}', '{\\n  \"sentiment\": \"neutral\",\\n  \"emotion\": \"indifference\",\\n  \"mentioned\": [\"hydreamgeas\"],\\n  \"support\": \"\"\\n}', '{\\n  \"sentiment\": \"neutral\",\\n  \"emotion\": \"curiosity\",\\n  \"mentioned\": [\"OlivierKamitatu\"],\\n  \"support\": \"neutral\"\\n}', '{\\n  \"sentiment\": \"negative\",\\n  \"emotion\": \"frustration\",\\n  \"mentioned\": [\"Artistreccs\"],\\n  \"support\": \"neutral\"\\n}', '{\\n  \"sentiment\": \"neutral\",\\n  \"emotion\": \"indifference\",\\n  \"mentioned\": [\"HorrorHijabi\"],\\n  \"support\": \"\"\\n}', '{\\n  \"sentiment\": \"positive\",\\n  \"emotion\": \"admiration\",\\n  \"mentioned\": [\"@iamn3el\"],\\n  \"support\": \"neutral\"\\n}', '{\\n  \"sentiment\": \"neutral\",\\n  \"emotion\": \"informative\",\\n  \"mentioned\": [\"@CEBass_writer\"],\\n  \"support\": \"neutral\"\\n}', '{\\n  \"sentiment\": \"negative\",\\n  \"emotion\": \"anger\",\\n  \"mentioned\": [\"Artistreccs\"],\\n  \"support\": \"neutral\"\\n}', '{\\n  \"sentiment\": \"neutral\",\\n  \"emotion\": \"informative\",\\n  \"mentioned\": [\"runwayml\"],\\n  \"support\": \"neutral\"\\n}', '{\\n  \"sentiment\": \"neutral\",\\n  \"emotion\": \"informative\",\\n  \"mentioned\": [\"GeorgeCrudo\"],\\n  \"support\": \"neutral\"\\n}', '{\\n  \"sentiment\": \"neutral\",\\n  \"emotion\": \"none\",\\n  \"mentioned\": [],\\n  \"support\": \"none\"\\n}', '{\\n  \"sentiment\": \"negative\",\\n  \"emotion\": \"anger\",\\n  \"mentioned\": [\"Artistreccs\"],\\n  \"support\": \"neutral\"\\n}', '{\\n  \"sentiment\": \"neutral\",\\n  \"emotion\": \"informative\",\\n  \"mentioned\": [\"MoureDev\", \"Microsoft\"],\\n  \"support\": \"\"\\n}', '{\\n  \"sentiment\": \"neutral\",\\n  \"emotion\": \"anticipation\",\\n  \"mentioned\": [\"runwayml\"],\\n  \"support\": \"neutral\"\\n}', '{\\n  \"sentiment\": \"neutral\",\\n  \"emotion\": \"informative\",\\n  \"mentioned\": [\"paul mccartney\"],\\n  \"support\": \"neutral\"\\n}', '{\\n  \"sentiment\": \"negative\",\\n  \"emotion\": \"concern\",\\n  \"mentioned\": [\\n    \"GreenTieOffici1\",\\n    \"PiperistheNewbl\",\\n    \"merururuu\"\\n  ],\\n  \"support\": \"neutral\"\\n}', '{\\n  \"sentiment\": \"positive\",\\n  \"emotion\": \"inspirational\",\\n  \"mentioned\": [\"AWSstartups\", \"QodoAI\"],\\n  \"support\": \"neutral\"\\n}', '{\\n  \"sentiment\": \"neutral\",\\n  \"emotion\": \"none\",\\n  \"mentioned\": [\"AlhujiliTurki\"],\\n  \"support\": \"none\"\\n}', '{\\n  \"sentiment\": \"negative\",\\n  \"emotion\": \"disdain\",\\n  \"mentioned\": [\"@VanCommunist\", \"@InfraHaz\"],\\n  \"support\": \"neutral\"\\n}', '{\\n  \"sentiment\": \"neutral\",\\n  \"emotion\": \"indifference\",\\n  \"mentioned\": [\"freezetheberry\"],\\n  \"support\": \"neutral\"\\n}', '{\\n  \"sentiment\": \"neutral\",\\n  \"emotion\": \"informative\",\\n  \"mentioned\": [\"ArtTezos\", \"ivonatau\"],\\n  \"support\": \"neutral\"\\n}', '{\\n  \"sentiment\": \"neutral\",\\n  \"emotion\": \"determined\",\\n  \"mentioned\": [],\\n  \"support\": \"\"\\n}', '{\\n  \"sentiment\": \"neutral\",\\n  \"emotion\": \"none\",\\n  \"mentioned\": [\"AlhujiliTurki\"],\\n  \"support\": \"none\"\\n}', '{\\n  \"sentiment\": \"positive\",\\n  \"emotion\": \"congratulatory\",\\n  \"mentioned\": [\"@RobotCleopatra\"],\\n  \"support\": \"neutral\"\\n}', '{\\n  \"sentiment\": \"positive\",\\n  \"emotion\": \"excitement\",\\n  \"mentioned\": [],\\n  \"support\": \"neutral\"\\n}', '{\\n  \"sentiment\": \"negative\",\\n  \"emotion\": \"skepticism\",\\n  \"mentioned\": [\"FaatiTheStreet\"],\\n  \"support\": \"neutral\"\\n}', '{\\n  \"sentiment\": \"negative\",\\n  \"emotion\": \"frustration\",\\n  \"mentioned\": [\"rileyiwaoi\", \"oikawa\"],\\n  \"support\": \"neutral\"\\n}', 'step 1 ### positive  \\nstep 2 ### excitement  \\nstep 3 ### none  \\nstep 4 ### neutral  \\n{  \\n  \"sentiment\": \"positive\",  \\n  \"emotion\": \"excitement\",  \\n  \"mentioned\": [],  \\n  \"support\": \"neutral\"  \\n}', '{\\n  \"sentiment\": \"positive\",\\n  \"emotion\": \"welcoming\",\\n  \"mentioned\": [\"Pradeep Menon\"],\\n  \"support\": \"neutral\"\\n}', '{\\n  \"sentiment\": \"neutral\",\\n  \"emotion\": \"concern\",\\n  \"mentioned\": [\"adjudicatorcb\"],\\n  \"support\": \"neutral\"\\n}', '{\\n  \"sentiment\": \"neutral\",\\n  \"emotion\": \"informative\",\\n  \"mentioned\": [\\n    \"@WEKAio\",\\n    \"@Solidigm\"\\n  ],\\n  \"support\": \"neutral\"\\n}', '{\\n  \"sentiment\": \"neutral\",\\n  \"emotion\": \"informative\",\\n  \"mentioned\": [],\\n  \"support\": \"\"\\n}', '{\\n  \"sentiment\": \"neutral\",\\n  \"emotion\": \"informative\",\\n  \"mentioned\": [\\n    \"Shreyas Subramanian\"\\n  ],\\n  \"support\": \"neutral\"\\n}', '{\\n  \"sentiment\": \"negative\",\\n  \"emotion\": \"disapproval\",\\n  \"mentioned\": [\"brush_of_chaos\"],\\n  \"support\": \"neutral\"\\n}', '{\\n  \"sentiment\": \"neutral\",\\n  \"emotion\": \"informative\",\\n  \"mentioned\": [\"kimmonismus\"],\\n  \"support\": \"neutral\"\\n}', '{\\n  \"sentiment\": \"neutral\",\\n  \"emotion\": \"informative\",\\n  \"mentioned\": [\"namazu_sensei\"],\\n  \"support\": \"\"\\n}', '{\\n  \"sentiment\": \"positive\",\\n  \"emotion\": \"collaborative\",\\n  \"mentioned\": [\"nvidia\", \"awscloud\"],\\n  \"support\": \"neutral\"\\n}', '{\\n  \"sentiment\": \"neutral\",\\n  \"emotion\": \"informative\",\\n  \"mentioned\": [\"Koichi Yamadera\"],\\n  \"support\": \"neutral\"\\n}', '{\\n  \"sentiment\": \"positive\",\\n  \"emotion\": \"encouragement\",\\n  \"mentioned\": [\"scythe_daily\"],\\n  \"support\": \"neutral\"\\n}', '{\\n  \"sentiment\": \"neutral\",\\n  \"emotion\": \"informative\",\\n  \"mentioned\": [\"navigate_ai\"],\\n  \"support\": \"neutral\"\\n}', '{\\n  \"sentiment\": \"positive\",\\n  \"emotion\": \"optimism\",\\n  \"mentioned\": [\\n    \"Doug Werby\"\\n  ],\\n  \"support\": \"neutral\"\\n}', '{\\n  \"sentiment\": \"neutral\",\\n  \"emotion\": \"informative\",\\n  \"mentioned\": [\"Equinix\"],\\n  \"support\": \"\"\\n}', '{\\n  \"sentiment\": \"positive\",\\n  \"emotion\": \"enthusiasm\",\\n  \"mentioned\": [\"nvidia\", \"awscloud\"],\\n  \"support\": \"neutral\"\\n}', '{\\n  \"sentiment\": \"neutral\",\\n  \"emotion\": \"informative\",\\n  \"mentioned\": [],\\n  \"support\": \"\"\\n}', '{\\n  \"sentiment\": \"neutral\",\\n  \"emotion\": \"anticipation\",\\n  \"mentioned\": [\"runwayml\"],\\n  \"support\": \"neutral\"\\n}', '{\\n  \"sentiment\": \"neutral\",\\n  \"emotion\": \"informative\",\\n  \"mentioned\": [\\n    \"Dr. Rene Caissie\",\\n    \"NextMedHealth\"\\n  ],\\n  \"support\": \"neutral\"\\n}', '{\\n  \"sentiment\": \"positive\",\\n  \"emotion\": \"anticipation\",\\n  \"mentioned\": [\\n    \"@YoleGroup\"\\n  ],\\n  \"support\": \"neutral\"\\n}', '{\\n  \"sentiment\": \"neutral\",\\n  \"emotion\": \"indifference\",\\n  \"mentioned\": [\"AnAverageSpy\"],\\n  \"support\": \"neutral\"\\n}', '{\\n  \"sentiment\": \"neutral\",\\n  \"emotion\": \"confidence\",\\n  \"mentioned\": [\\n    \"economistimpact\",\\n    \"Infosys Topaz\"\\n  ],\\n  \"support\": \"neutral\"\\n}', '{\\n  \"sentiment\": \"neutral\",\\n  \"emotion\": \"none\",\\n  \"mentioned\": [\"cdtwriter\"],\\n  \"support\": \"neutral\"\\n}', '{\\n  \"sentiment\": \"positive\",\\n  \"emotion\": \"pride\",\\n  \"mentioned\": [\"@Trailhead\"],\\n  \"support\": \"neutral\"\\n}', '{\\n  \"sentiment\": \"negative\",\\n  \"emotion\": \"concern\",\\n  \"mentioned\": [],\\n  \"support\": \"neutral\"\\n}', '{\\n  \"sentiment\": \"neutral\",\\n  \"emotion\": \"curiosity\",\\n  \"mentioned\": [\"ObamaGarak\"],\\n  \"support\": \"neutral\"\\n}', '{\\n  \"sentiment\": \"neutral\",\\n  \"emotion\": \"thankful\",\\n  \"mentioned\": [\"Rno71\"],\\n  \"support\": \"\"\\n}', '{\\n  \"sentiment\": \"neutral\",\\n  \"emotion\": \"informative\",\\n  \"mentioned\": [\"@amazon\"],\\n  \"support\": \"neutral\"\\n}', '{\\n  \"sentiment\": \"neutral\",\\n  \"emotion\": \"defensive\",\\n  \"mentioned\": [],\\n  \"support\": \"\"\\n}']\n"
     ]
    }
   ],
   "source": [
    "print(analysis_result)"
   ]
  },
  {
   "cell_type": "code",
   "execution_count": 22,
   "id": "c601722e-7f37-45fb-b580-9aeed74fe3a7",
   "metadata": {
    "tags": []
   },
   "outputs": [
    {
     "name": "stdout",
     "output_type": "stream",
     "text": [
      "{\n",
      "  \"Democratic count\": 28,\n",
      "  \"Republican count\": 47,\n",
      "  \"people name\": {\n",
      "    \"Democratic\": {\n",
      "      \"common sentiments\": [\"negative\", \"neutral\", \"positive\"],\n",
      "      \"common emotions\": [\"frustration\", \"concern\", \"informative\", \"supportive\", \"admiration\", \"anticipation\"]\n",
      "    },\n",
      "    \"Republican\": {\n",
      "      \"common sentiments\": [\"negative\", \"neutral\", \"positive\"],\n",
      "      \"common emotions\": [\"frustration\", \"anger\", \"informative\", \"anticipation\", \"skepticism\", \"concern\"]\n",
      "    }\n",
      "  }\n",
      "}\n"
     ]
    }
   ],
   "source": [
    "messages = [\n",
    "        {\"role\": \"system\", \"content\": f\"\"\"analyze the tweet analysis reuslt delimited by {delimiter} in the following steps:\n",
    "                                        step 1 {delimiter} count the number of tweets that support Democratic and Republican;\n",
    "                                        step 2 {delimiter} identify the common sentiments and emotoions to each mentioned people;\n",
    "                                        step 3 {delimiter} organize the result in a json document with keys <Democratic count>, <Republican count>, <people name>\n",
    "                                         Do not wrap the json codes in JSON markers and only return the json document\"\"\"},\n",
    "        {\"role\": \"user\", \"content\": f\"{delimiter}{analysis_result}{delimiter} \"}]\n",
    "analysis_summary = openai_help(messages)\n",
    "print(analysis_summary)"
   ]
  },
  {
   "cell_type": "markdown",
   "id": "5a5f98ac-b2f6-4741-82c9-8e8f88f09cf1",
   "metadata": {},
   "source": [
    "## Create a chatbot"
   ]
  },
  {
   "cell_type": "code",
   "execution_count": 23,
   "id": "91173534-53b8-4d6b-b9c0-198913b7ada8",
   "metadata": {
    "tags": []
   },
   "outputs": [],
   "source": [
    "from openai import OpenAI\n",
    "\n",
    "openai_api_key  = get_secret('openai')['api_key']\n",
    "client = OpenAI(api_key=openai_api_key)\n",
    "model = 'gpt-4o'\n",
    "temperature = 0\n",
    "\n",
    "chat_history = [\n",
    "\n",
    "{\"role\": \"system\", \"content\": f\"\"\"you are a chabot answer user questions based on the tweets,\n",
    "                                {delimiter}{tweet_data}{delimiter}, \n",
    "                                if user mentioned a people name in the {delimiter}{analysis_summary}{delimiter} people field,report the corresponding sentiment and emotion,\n",
    "                            \n",
    "                            \"\"\"}\n",
    "]\n",
    "\n",
    "def chatbot(prompt):\n",
    "\n",
    "    chat_history.append({\"role\": \"user\", \"content\": prompt})\n",
    "\n",
    "    response = client.chat.completions.create(\n",
    "        model=model,  # Use the model you prefer\n",
    "        messages=chat_history\n",
    "    )\n",
    "\n",
    "    reply = response.choices[0].message.content\n",
    "\n",
    "    chat_history.append({\"role\": \"assistant\", \"content\": reply})\n",
    "    \n",
    "    return reply"
   ]
  },
  {
   "cell_type": "code",
   "execution_count": null,
   "id": "9a949601-5af9-4d0b-80d7-5297cc4e52f4",
   "metadata": {
    "tags": []
   },
   "outputs": [],
   "source": [
    "while True:\n",
    "    user_input = input(\"You: \")\n",
    "    if user_input.lower() in ['exit', 'quit']:\n",
    "        print(\"Chatbot: Goodbye!\")\n",
    "        break\n",
    "    reply = chatbot(user_input)\n",
    "    print(f\"Chatbot: {reply}\")"
   ]
  },
  {
   "cell_type": "markdown",
   "id": "2f497dd9-8e6e-4f40-b546-8fe225185729",
   "metadata": {},
   "source": [
    "## Reference\n",
    "- Isa Fulford and Andrew Ng. n.d.-a. *“Building Systems with the ChatGPT API.”* DeepLearning.AI. Accessed October 25, 2024. https://www.deeplearning.ai/short-courses/building-systems-with-chatgpt/.\n",
    "- ———. n.d.-b. *“ChatGPT Prompt Engineering for Developers.”* DeepLearning.AI. Accessed October 25, 2024. https://www.deeplearning.ai/short-courses/chatgpt-prompt-engineering-for-developers/.\n",
    "- OpenAI. n.d. *“OpenAI Documents.”* OpenAI. Accessed October 18, 2024. https://platform.openai.com.\n"
   ]
  },
  {
   "cell_type": "code",
   "execution_count": null,
   "id": "44b06a39-30aa-498b-aff2-049fd65b7fd3",
   "metadata": {},
   "outputs": [],
   "source": []
  }
 ],
 "metadata": {
  "kernelspec": {
   "display_name": "conda_python3",
   "language": "python",
   "name": "conda_python3"
  },
  "language_info": {
   "codemirror_mode": {
    "name": "ipython",
    "version": 3
   },
   "file_extension": ".py",
   "mimetype": "text/x-python",
   "name": "python",
   "nbconvert_exporter": "python",
   "pygments_lexer": "ipython3",
   "version": "3.10.16"
  }
 },
 "nbformat": 4,
 "nbformat_minor": 5
}
